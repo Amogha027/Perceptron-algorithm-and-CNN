{
 "cells": [
  {
   "cell_type": "markdown",
   "metadata": {},
   "source": [
    "Wandb Report Link: \n",
    "https://wandb.ai/drbean/MLP-classification/reports/Question-2-2--Vmlldzo1NzkwOTU1"
   ]
  },
  {
   "cell_type": "code",
   "execution_count": 87,
   "metadata": {},
   "outputs": [],
   "source": [
    "import sys\n",
    "import wandb\n",
    "import warnings\n",
    "import numpy as np\n",
    "import pandas as pd\n",
    "\n",
    "from prettytable import PrettyTable\n",
    "from matplotlib import pyplot as plt\n",
    "from sklearn.impute import SimpleImputer\n",
    "from sklearn.model_selection import train_test_split\n",
    "from sklearn.metrics import hamming_loss, classification_report\n",
    "from sklearn.preprocessing import StandardScaler, MinMaxScaler, MultiLabelBinarizer\n",
    "from sklearn.metrics import f1_score, accuracy_score, precision_score, recall_score\n",
    "\n",
    "warnings.filterwarnings('ignore')\n",
    "np.set_printoptions(threshold=sys.maxsize)"
   ]
  },
  {
   "cell_type": "code",
   "execution_count": 53,
   "metadata": {},
   "outputs": [
    {
     "name": "stdout",
     "output_type": "stream",
     "text": [
      "+----------------------+---------+--------------------+-----------+-----------+\n",
      "|      Attribute       |   Mean  | Standard Deviation | min Value | max value |\n",
      "+----------------------+---------+--------------------+-----------+-----------+\n",
      "|    fixed acidity     |  8.3111 |       1.7476       |    4.6    |    15.9   |\n",
      "|   volatile acidity   |  0.5313 |       0.1796       |    0.12   |    1.58   |\n",
      "|     citric acid      |  0.2684 |       0.1967       |    0.0    |    1.0    |\n",
      "|    residual sugar    |  2.5322 |       1.3559       |    0.9    |    15.5   |\n",
      "|      chlorides       |  0.0869 |       0.0473       |   0.012   |   0.611   |\n",
      "| free sulfur dioxide  | 15.6155 |      10.2505       |    1.0    |    68.0   |\n",
      "| total sulfur dioxide | 45.9147 |      32.7821       |    6.0    |   289.0   |\n",
      "|       density        |  0.9967 |       0.0019       |  0.99007  |  1.00369  |\n",
      "|          pH          |  3.311  |       0.1567       |    2.74   |    4.01   |\n",
      "|      sulphates       |  0.6577 |       0.1704       |    0.33   |    2.0    |\n",
      "|       alcohol        | 10.4421 |       1.0822       |    8.4    |    14.9   |\n",
      "|       quality        |  5.657  |       0.8058       |     3     |     8     |\n",
      "+----------------------+---------+--------------------+-----------+-----------+\n"
     ]
    }
   ],
   "source": [
    "data = pd.read_csv('WineQT.csv')\n",
    "data.drop_duplicates(inplace=True)\n",
    "data = data.drop(columns=['Id'])\n",
    "# print(data.shape)\n",
    "\n",
    "# Dataset Analysis and Preprocessing\n",
    "columns = data.columns\n",
    "t = PrettyTable(['Attribute', 'Mean', 'Standard Deviation', 'min Value', 'max value'])\n",
    "for attr in columns:\n",
    "    col = data[attr]\n",
    "    mean = round(col.mean(), 4)\n",
    "    std = round(col.std(), 4)\n",
    "    t.add_row([attr, mean, std, col.min(), col.max()])\n",
    "print(t)"
   ]
  },
  {
   "cell_type": "code",
   "execution_count": 54,
   "metadata": {},
   "outputs": [
    {
     "data": {
      "image/png": "[encoded data removed]",
      "text/plain": [
       "<Figure size 640x480 with 1 Axes>"
      ]
     },
     "metadata": {},
     "output_type": "display_data"
    }
   ],
   "source": [
    "# Distribution of various labels across the entire dataset\n",
    "labels = data['quality']\n",
    "plt.hist(labels, bins=len(np.unique(labels)), rwidth=0.8)\n",
    "plt.xlabel('Quality')\n",
    "plt.ylabel('Frequency')\n",
    "plt.title('Distribution of various labels across the entire dataset')\n",
    "plt.show()"
   ]
  },
  {
   "cell_type": "code",
   "execution_count": 69,
   "metadata": {},
   "outputs": [],
   "source": [
    "# Split the data into attributes and labels\n",
    "X = data.iloc[:,data.columns != 'quality']\n",
    "Y = data['quality']\n",
    "\n",
    "# Handle missing values\n",
    "imputer = SimpleImputer(strategy='mean')\n",
    "X = imputer.fit_transform(X)\n",
    "\n",
    "# Apply Normalization to the attributes\n",
    "scaler = MinMaxScaler()\n",
    "X = scaler.fit_transform(X)\n",
    "\n",
    "# Apply Standardization to the attributes\n",
    "scaler = StandardScaler()\n",
    "X = scaler.fit_transform(X)\n",
    "\n",
    "# Convert labels into one-hot vectors\n",
    "Y = Y - Y.min()\n",
    "temp = np.zeros((Y.size, Y.max()+1))\n",
    "temp[np.arange(Y.size), Y] = 1\n",
    "Y = temp\n",
    "\n",
    "# Split the data into train, test and validation sets\n",
    "x_train, x_temp, y_train, y_temp = train_test_split(X, Y, train_size=0.7, stratify=Y)\n",
    "x_valid, x_test, y_valid, y_test = train_test_split(x_temp, y_temp, test_size=0.5, stratify=y_temp)"
   ]
  },
  {
   "cell_type": "code",
   "execution_count": 14,
   "metadata": {},
   "outputs": [],
   "source": [
    "class Network:\n",
    "    def __init__(self, layers, activation, learn_rate=0.01):\n",
    "        self.weights = []\n",
    "        self.bias = []\n",
    "        self.num = len(layers)-1\n",
    "        self.batch_size = 1\n",
    "        self.layers = layers\n",
    "        self.func = activation\n",
    "        self.rate = learn_rate\n",
    "        \n",
    "        for i in range(len(layers)-1):\n",
    "            w = np.random.rand(layers[i], layers[i+1])\n",
    "            self.weights.append(w / np.sqrt(layers[i]))\n",
    "            self.bias.append(np.zeros((1, layers[i+1])))\n",
    "        \n",
    "    def set_activation(self, activation):\n",
    "        self.func = activation\n",
    "\n",
    "    def set_learn_rate(self, learn_rate):\n",
    "        self.rate = learn_rate\n",
    "\n",
    "    def set_algorithm(self, algorithm):\n",
    "        self.batch_size = algorithm[1]\n",
    "\n",
    "    def softmax(self, x):\n",
    "        exps = np.exp(x - np.max(x, axis=1, keepdims=True))\n",
    "        return exps / np.sum(exps, axis=1, keepdims=True)\n",
    "    \n",
    "    def activation(self, x):\n",
    "        if self.func == 'sigmoid':\n",
    "            return 1 / (1 + np.exp(-x))\n",
    "        if self.func == 'tanh':\n",
    "            return np.tanh(x)\n",
    "        if self.func == 'ReLU':\n",
    "            return np.maximum(0, x)\n",
    "        \n",
    "    def activation_gradient(self, x):\n",
    "        if self.func == 'sigmoid':\n",
    "            return np.exp(-x) / ((1 + np.exp(-x))**2)\n",
    "        if self.func == 'tanh':\n",
    "            return 1 - np.tanh(x)**2\n",
    "        if self.func == 'ReLU':\n",
    "            return np.where(x > 0, 1, 0)\n",
    "        \n",
    "    def batch(self, X, Y):\n",
    "        n = self.batch_size\n",
    "        for idx in range(0, len(X), n):\n",
    "            yield X[idx:min(idx+n, len(X))], Y[idx:min(idx+n, len(X))]\n",
    "        \n",
    "    def fit(self, x_train, y_train, n_epochs=1000):\n",
    "        for _ in range(n_epochs):\n",
    "            for (x_batch, y_batch) in self.batch(x_train, y_train):\n",
    "                self.fit_instant(x_batch, y_batch)\n",
    "\n",
    "    def fit_wandb(self, x_train, y_train, x_valid, y_valid, n_epochs=1000):\n",
    "        for _ in range(n_epochs):\n",
    "            for (x_batch, y_batch) in self.batch(x_train, y_train):\n",
    "                self.fit_instant(x_batch, y_batch)\n",
    "            y_pred = self.predict(x_valid)\n",
    "            loss = self.calculate_loss(y_valid, y_pred)\n",
    "            accuracy = self.accuracy(y_valid, y_pred)\n",
    "            wandb.log({\"Loss\": loss, \"Accuracy\": accuracy})\n",
    "\n",
    "    def fit_instant(self, x, y):\n",
    "        # forward pass\n",
    "        y_pred, z_pred = [x], [np.zeros_like(x)]\n",
    "        for layer in range(self.num):\n",
    "            z = np.dot(y_pred[layer], self.weights[layer]) + self.bias[layer]\n",
    "            if layer==self.num-1: y_pred.append(self.softmax(z))\n",
    "            else: y_pred.append(self.activation(z))\n",
    "            z_pred.append(z)\n",
    "\n",
    "        # backward pass\n",
    "        error = y_pred[-1]-y\n",
    "        derivatives = [error]\n",
    "        for layer in range(self.num-1, 0, -1):\n",
    "            delta = np.dot(derivatives[-1], self.weights[layer].T)\n",
    "            delta = delta * self.activation_gradient(z_pred[layer])\n",
    "            derivatives.append(delta)\n",
    "\n",
    "        # update the weights\n",
    "        derivatives = derivatives[::-1]\n",
    "        for layer in range(self.num):\n",
    "            self.weights[layer] += -self.rate * np.dot(y_pred[layer].T, derivatives[layer])\n",
    "            self.bias[layer] += -self.rate * np.sum(derivatives[layer], axis=0, keepdims=True)\n",
    "\n",
    "    def calculate_loss(self, y_true, y_pred, epsilon=1e-12):\n",
    "        n = y_true.shape[0]\n",
    "        y_pred = np.clip(y_pred, epsilon, 1-epsilon)\n",
    "        loss = -np.sum(y_true * np.log(y_pred+1e-9)) / n\n",
    "        return loss\n",
    "    \n",
    "    def predict(self, x):\n",
    "        values = [x]\n",
    "        for layer in range(self.num):\n",
    "            z = np.dot(values[layer], self.weights[layer]) + self.bias[layer]\n",
    "            if layer==self.num-1: values.append(self.softmax(z))\n",
    "            else: values.append(self.activation(z))\n",
    "        return values[-1]\n",
    "    \n",
    "    def accuracy(self, y_true, y_pred):\n",
    "        true_labels = np.argmax(y_true, axis=1)\n",
    "        pred_labels = np.argmax(y_pred, axis=1)\n",
    "        accuracy = np.mean(true_labels == pred_labels)\n",
    "        return accuracy"
   ]
  },
  {
   "cell_type": "code",
   "execution_count": 56,
   "metadata": {},
   "outputs": [],
   "source": [
    "def get_nodes(num, mini, maxi):\n",
    "    layer = []\n",
    "    layer.append(x_train.shape[1])\n",
    "    for _ in range(num):\n",
    "        k = np.random.randint(mini, maxi)\n",
    "        layer.append(k)\n",
    "    layer.append(y_train.shape[1])\n",
    "    return layer\n",
    "\n",
    "def get_scores(actual, predicted):\n",
    "    y_true = np.argmax(actual, axis=1)\n",
    "    y_pred = np.argmax(predicted, axis=1)\n",
    "    fone = f1_score(y_true, y_pred, zero_division=0, average='weighted')\n",
    "    accuracy = accuracy_score(y_true, y_pred)\n",
    "    precision = precision_score(y_true, y_pred, zero_division=0, average='weighted')\n",
    "    recall = recall_score(y_true, y_pred, zero_division=0, average='weighted')\n",
    "    return [round(fone, 4), round(accuracy, 4), round(precision, 4), round(recall, 4)]"
   ]
  },
  {
   "cell_type": "code",
   "execution_count": 16,
   "metadata": {},
   "outputs": [
    {
     "data": {
      "text/plain": [
       "True"
      ]
     },
     "execution_count": 16,
     "metadata": {},
     "output_type": "execute_result"
    }
   ],
   "source": [
    "wandb.login()"
   ]
  },
  {
   "cell_type": "code",
   "execution_count": 17,
   "metadata": {},
   "outputs": [
    {
     "data": {
      "text/html": [
       "wandb version 0.15.12 is available!  To upgrade, please run:\n",
       " $ pip install wandb --upgrade"
      ],
      "text/plain": [
       "<IPython.core.display.HTML object>"
      ]
     },
     "metadata": {},
     "output_type": "display_data"
    },
    {
     "data": {
      "text/html": [
       "Tracking run with wandb version 0.15.11"
      ],
      "text/plain": [
       "<IPython.core.display.HTML object>"
      ]
     },
     "metadata": {},
     "output_type": "display_data"
    },
    {
     "data": {
      "text/html": [
       "Run data is saved locally in <code>/home/amogha/smai/a3/wandb/run-20231023_231456-1gwbl6oa</code>"
      ],
      "text/plain": [
       "<IPython.core.display.HTML object>"
      ]
     },
     "metadata": {},
     "output_type": "display_data"
    },
    {
     "data": {
      "text/html": [
       "Syncing run <strong><a href='https://wandb.ai/drbean/MLP-classification/runs/1gwbl6oa' target=\"_blank\">act:sigmoid opt:SGD</a></strong> to <a href='https://wandb.ai/drbean/MLP-classification' target=\"_blank\">Weights & Biases</a> (<a href='https://wandb.me/run' target=\"_blank\">docs</a>)<br/>"
      ],
      "text/plain": [
       "<IPython.core.display.HTML object>"
      ]
     },
     "metadata": {},
     "output_type": "display_data"
    },
    {
     "data": {
      "text/html": [
       " View project at <a href='https://wandb.ai/drbean/MLP-classification' target=\"_blank\">https://wandb.ai/drbean/MLP-classification</a>"
      ],
      "text/plain": [
       "<IPython.core.display.HTML object>"
      ]
     },
     "metadata": {},
     "output_type": "display_data"
    },
    {
     "data": {
      "text/html": [
       " View run at <a href='https://wandb.ai/drbean/MLP-classification/runs/1gwbl6oa' target=\"_blank\">https://wandb.ai/drbean/MLP-classification/runs/1gwbl6oa</a>"
      ],
      "text/plain": [
       "<IPython.core.display.HTML object>"
      ]
     },
     "metadata": {},
     "output_type": "display_data"
    },
    {
     "data": {
      "text/html": [
       "Waiting for W&B process to finish... <strong style=\"color:green\">(success).</strong>"
      ],
      "text/plain": [
       "<IPython.core.display.HTML object>"
      ]
     },
     "metadata": {},
     "output_type": "display_data"
    },
    {
     "data": {
      "text/html": [
       "<style>\n",
       "    table.wandb td:nth-child(1) { padding: 0 10px; text-align: left ; width: auto;} td:nth-child(2) {text-align: left ; width: 100%}\n",
       "    .wandb-row { display: flex; flex-direction: row; flex-wrap: wrap; justify-content: flex-start; width: 100% }\n",
       "    .wandb-col { display: flex; flex-direction: column; flex-basis: 100%; flex: 1; padding: 10px; }\n",
       "    </style>\n",
       "<div class=\"wandb-row\"><div class=\"wandb-col\"><h3>Run history:</h3><br/><table class=\"wandb\"><tr><td>Accuracy</td><td>▁▁▁▁▁▁▁▁▁▁▁▁▁▁▁▁▁▁▁▁▁▁▁▁▁▁▁▆▇▇▇▇▇▇█▇▇▇██</td></tr><tr><td>Loss</td><td>████████████████████████████▆▂▂▁▁▁▁▁▁▁▁▂</td></tr></table><br/></div><div class=\"wandb-col\"><h3>Run summary:</h3><br/><table class=\"wandb\"><tr><td>Accuracy</td><td>0.63743</td></tr><tr><td>Loss</td><td>0.97611</td></tr></table><br/></div></div>"
      ],
      "text/plain": [
       "<IPython.core.display.HTML object>"
      ]
     },
     "metadata": {},
     "output_type": "display_data"
    },
    {
     "data": {
      "text/html": [
       " View run <strong style=\"color:#cdcd00\">act:sigmoid opt:SGD</strong> at: <a href='https://wandb.ai/drbean/MLP-classification/runs/1gwbl6oa' target=\"_blank\">https://wandb.ai/drbean/MLP-classification/runs/1gwbl6oa</a><br/>Synced 4 W&B file(s), 0 media file(s), 0 artifact file(s) and 0 other file(s)"
      ],
      "text/plain": [
       "<IPython.core.display.HTML object>"
      ]
     },
     "metadata": {},
     "output_type": "display_data"
    },
    {
     "data": {
      "text/html": [
       "Find logs at: <code>./wandb/run-20231023_231456-1gwbl6oa/logs</code>"
      ],
      "text/plain": [
       "<IPython.core.display.HTML object>"
      ]
     },
     "metadata": {},
     "output_type": "display_data"
    },
    {
     "data": {
      "text/html": [
       "Tracking run with wandb version 0.15.11"
      ],
      "text/plain": [
       "<IPython.core.display.HTML object>"
      ]
     },
     "metadata": {},
     "output_type": "display_data"
    },
    {
     "data": {
      "text/html": [
       "Run data is saved locally in <code>/home/amogha/smai/a3/wandb/run-20231023_231713-nzct9856</code>"
      ],
      "text/plain": [
       "<IPython.core.display.HTML object>"
      ]
     },
     "metadata": {},
     "output_type": "display_data"
    },
    {
     "data": {
      "text/html": [
       "Syncing run <strong><a href='https://wandb.ai/drbean/MLP-classification/runs/nzct9856' target=\"_blank\">act:sigmoid opt:BGD</a></strong> to <a href='https://wandb.ai/drbean/MLP-classification' target=\"_blank\">Weights & Biases</a> (<a href='https://wandb.me/run' target=\"_blank\">docs</a>)<br/>"
      ],
      "text/plain": [
       "<IPython.core.display.HTML object>"
      ]
     },
     "metadata": {},
     "output_type": "display_data"
    },
    {
     "data": {
      "text/html": [
       " View project at <a href='https://wandb.ai/drbean/MLP-classification' target=\"_blank\">https://wandb.ai/drbean/MLP-classification</a>"
      ],
      "text/plain": [
       "<IPython.core.display.HTML object>"
      ]
     },
     "metadata": {},
     "output_type": "display_data"
    },
    {
     "data": {
      "text/html": [
       " View run at <a href='https://wandb.ai/drbean/MLP-classification/runs/nzct9856' target=\"_blank\">https://wandb.ai/drbean/MLP-classification/runs/nzct9856</a>"
      ],
      "text/plain": [
       "<IPython.core.display.HTML object>"
      ]
     },
     "metadata": {},
     "output_type": "display_data"
    },
    {
     "data": {
      "text/html": [
       "Waiting for W&B process to finish... <strong style=\"color:green\">(success).</strong>"
      ],
      "text/plain": [
       "<IPython.core.display.HTML object>"
      ]
     },
     "metadata": {},
     "output_type": "display_data"
    },
    {
     "data": {
      "text/html": [
       "<style>\n",
       "    table.wandb td:nth-child(1) { padding: 0 10px; text-align: left ; width: auto;} td:nth-child(2) {text-align: left ; width: 100%}\n",
       "    .wandb-row { display: flex; flex-direction: row; flex-wrap: wrap; justify-content: flex-start; width: 100% }\n",
       "    .wandb-col { display: flex; flex-direction: column; flex-basis: 100%; flex: 1; padding: 10px; }\n",
       "    </style>\n",
       "<div class=\"wandb-row\"><div class=\"wandb-col\"><h3>Run history:</h3><br/><table class=\"wandb\"><tr><td>Accuracy</td><td>▁▁▁▁▁▁▁▁▁▁▁▁▁▁▁▁▁▁▁▁▁▁▁▁▁▁▁▁▁▁▁▁▁▁▁▁▁▁▁▁</td></tr><tr><td>Loss</td><td>█▁▁▁▁▁▁▁▁▁▁▁▁▁▁▁▁▁▁▁▁▁▁▁▁▁▁▁▁▁▁▁▁▁▁▁▁▁▁▁</td></tr></table><br/></div><div class=\"wandb-col\"><h3>Run summary:</h3><br/><table class=\"wandb\"><tr><td>Accuracy</td><td>0.40351</td></tr><tr><td>Loss</td><td>1.89471</td></tr></table><br/></div></div>"
      ],
      "text/plain": [
       "<IPython.core.display.HTML object>"
      ]
     },
     "metadata": {},
     "output_type": "display_data"
    },
    {
     "data": {
      "text/html": [
       " View run <strong style=\"color:#cdcd00\">act:sigmoid opt:BGD</strong> at: <a href='https://wandb.ai/drbean/MLP-classification/runs/nzct9856' target=\"_blank\">https://wandb.ai/drbean/MLP-classification/runs/nzct9856</a><br/>Synced 4 W&B file(s), 0 media file(s), 0 artifact file(s) and 0 other file(s)"
      ],
      "text/plain": [
       "<IPython.core.display.HTML object>"
      ]
     },
     "metadata": {},
     "output_type": "display_data"
    },
    {
     "data": {
      "text/html": [
       "Find logs at: <code>./wandb/run-20231023_231713-nzct9856/logs</code>"
      ],
      "text/plain": [
       "<IPython.core.display.HTML object>"
      ]
     },
     "metadata": {},
     "output_type": "display_data"
    },
    {
     "data": {
      "text/html": [
       "wandb version 0.15.12 is available!  To upgrade, please run:\n",
       " $ pip install wandb --upgrade"
      ],
      "text/plain": [
       "<IPython.core.display.HTML object>"
      ]
     },
     "metadata": {},
     "output_type": "display_data"
    },
    {
     "data": {
      "text/html": [
       "Tracking run with wandb version 0.15.11"
      ],
      "text/plain": [
       "<IPython.core.display.HTML object>"
      ]
     },
     "metadata": {},
     "output_type": "display_data"
    },
    {
     "data": {
      "text/html": [
       "Run data is saved locally in <code>/home/amogha/smai/a3/wandb/run-20231023_231741-84wxeec3</code>"
      ],
      "text/plain": [
       "<IPython.core.display.HTML object>"
      ]
     },
     "metadata": {},
     "output_type": "display_data"
    },
    {
     "data": {
      "text/html": [
       "Syncing run <strong><a href='https://wandb.ai/drbean/MLP-classification/runs/84wxeec3' target=\"_blank\">act:sigmoid opt:MBGD</a></strong> to <a href='https://wandb.ai/drbean/MLP-classification' target=\"_blank\">Weights & Biases</a> (<a href='https://wandb.me/run' target=\"_blank\">docs</a>)<br/>"
      ],
      "text/plain": [
       "<IPython.core.display.HTML object>"
      ]
     },
     "metadata": {},
     "output_type": "display_data"
    },
    {
     "data": {
      "text/html": [
       " View project at <a href='https://wandb.ai/drbean/MLP-classification' target=\"_blank\">https://wandb.ai/drbean/MLP-classification</a>"
      ],
      "text/plain": [
       "<IPython.core.display.HTML object>"
      ]
     },
     "metadata": {},
     "output_type": "display_data"
    },
    {
     "data": {
      "text/html": [
       " View run at <a href='https://wandb.ai/drbean/MLP-classification/runs/84wxeec3' target=\"_blank\">https://wandb.ai/drbean/MLP-classification/runs/84wxeec3</a>"
      ],
      "text/plain": [
       "<IPython.core.display.HTML object>"
      ]
     },
     "metadata": {},
     "output_type": "display_data"
    },
    {
     "data": {
      "text/html": [
       "Waiting for W&B process to finish... <strong style=\"color:green\">(success).</strong>"
      ],
      "text/plain": [
       "<IPython.core.display.HTML object>"
      ]
     },
     "metadata": {},
     "output_type": "display_data"
    },
    {
     "data": {
      "text/html": [
       "<style>\n",
       "    table.wandb td:nth-child(1) { padding: 0 10px; text-align: left ; width: auto;} td:nth-child(2) {text-align: left ; width: 100%}\n",
       "    .wandb-row { display: flex; flex-direction: row; flex-wrap: wrap; justify-content: flex-start; width: 100% }\n",
       "    .wandb-col { display: flex; flex-direction: column; flex-basis: 100%; flex: 1; padding: 10px; }\n",
       "    </style>\n",
       "<div class=\"wandb-row\"><div class=\"wandb-col\"><h3>Run history:</h3><br/><table class=\"wandb\"><tr><td>Accuracy</td><td>▂▂▂▁▁▁▁▁▁▁▁▁▁▁▁▁▁▁▁▁▁▁▁▁▂▅▆▆▇▇▇▇▇▇▇██▇▇▇</td></tr><tr><td>Loss</td><td>██████████████████████████▇▅▂▂▁▁▁▁▁▁▁▁▂▂</td></tr></table><br/></div><div class=\"wandb-col\"><h3>Run summary:</h3><br/><table class=\"wandb\"><tr><td>Accuracy</td><td>0.61404</td></tr><tr><td>Loss</td><td>0.95691</td></tr></table><br/></div></div>"
      ],
      "text/plain": [
       "<IPython.core.display.HTML object>"
      ]
     },
     "metadata": {},
     "output_type": "display_data"
    },
    {
     "data": {
      "text/html": [
       " View run <strong style=\"color:#cdcd00\">act:sigmoid opt:MBGD</strong> at: <a href='https://wandb.ai/drbean/MLP-classification/runs/84wxeec3' target=\"_blank\">https://wandb.ai/drbean/MLP-classification/runs/84wxeec3</a><br/>Synced 4 W&B file(s), 0 media file(s), 0 artifact file(s) and 0 other file(s)"
      ],
      "text/plain": [
       "<IPython.core.display.HTML object>"
      ]
     },
     "metadata": {},
     "output_type": "display_data"
    },
    {
     "data": {
      "text/html": [
       "Find logs at: <code>./wandb/run-20231023_231741-84wxeec3/logs</code>"
      ],
      "text/plain": [
       "<IPython.core.display.HTML object>"
      ]
     },
     "metadata": {},
     "output_type": "display_data"
    },
    {
     "data": {
      "text/html": [
       "wandb version 0.15.12 is available!  To upgrade, please run:\n",
       " $ pip install wandb --upgrade"
      ],
      "text/plain": [
       "<IPython.core.display.HTML object>"
      ]
     },
     "metadata": {},
     "output_type": "display_data"
    },
    {
     "data": {
      "text/html": [
       "Tracking run with wandb version 0.15.11"
      ],
      "text/plain": [
       "<IPython.core.display.HTML object>"
      ]
     },
     "metadata": {},
     "output_type": "display_data"
    },
    {
     "data": {
      "text/html": [
       "Run data is saved locally in <code>/home/amogha/smai/a3/wandb/run-20231023_231756-u4ny4wwx</code>"
      ],
      "text/plain": [
       "<IPython.core.display.HTML object>"
      ]
     },
     "metadata": {},
     "output_type": "display_data"
    },
    {
     "data": {
      "text/html": [
       "Syncing run <strong><a href='https://wandb.ai/drbean/MLP-classification/runs/u4ny4wwx' target=\"_blank\">act:tanh opt:SGD</a></strong> to <a href='https://wandb.ai/drbean/MLP-classification' target=\"_blank\">Weights & Biases</a> (<a href='https://wandb.me/run' target=\"_blank\">docs</a>)<br/>"
      ],
      "text/plain": [
       "<IPython.core.display.HTML object>"
      ]
     },
     "metadata": {},
     "output_type": "display_data"
    },
    {
     "data": {
      "text/html": [
       " View project at <a href='https://wandb.ai/drbean/MLP-classification' target=\"_blank\">https://wandb.ai/drbean/MLP-classification</a>"
      ],
      "text/plain": [
       "<IPython.core.display.HTML object>"
      ]
     },
     "metadata": {},
     "output_type": "display_data"
    },
    {
     "data": {
      "text/html": [
       " View run at <a href='https://wandb.ai/drbean/MLP-classification/runs/u4ny4wwx' target=\"_blank\">https://wandb.ai/drbean/MLP-classification/runs/u4ny4wwx</a>"
      ],
      "text/plain": [
       "<IPython.core.display.HTML object>"
      ]
     },
     "metadata": {},
     "output_type": "display_data"
    },
    {
     "data": {
      "text/html": [
       "Waiting for W&B process to finish... <strong style=\"color:green\">(success).</strong>"
      ],
      "text/plain": [
       "<IPython.core.display.HTML object>"
      ]
     },
     "metadata": {},
     "output_type": "display_data"
    },
    {
     "data": {
      "text/html": [
       "<style>\n",
       "    table.wandb td:nth-child(1) { padding: 0 10px; text-align: left ; width: auto;} td:nth-child(2) {text-align: left ; width: 100%}\n",
       "    .wandb-row { display: flex; flex-direction: row; flex-wrap: wrap; justify-content: flex-start; width: 100% }\n",
       "    .wandb-col { display: flex; flex-direction: column; flex-basis: 100%; flex: 1; padding: 10px; }\n",
       "    </style>\n",
       "<div class=\"wandb-row\"><div class=\"wandb-col\"><h3>Run history:</h3><br/><table class=\"wandb\"><tr><td>Accuracy</td><td>▆▅▅▃▃▅▄▃▂▁▃▃▃▃▄▅▄▆▃▃▄▃▆▃▆▅▆▅▆▃▄▂▃▃▅█▂▅▃▅</td></tr><tr><td>Loss</td><td>▁▂▂▃▃▄▅▅▆▇▆▅▇▇▇▇▆█▆▆▇▇▅▅▇▅▇▃▄▇▅▇██▅▆▆▄▅▅</td></tr></table><br/></div><div class=\"wandb-col\"><h3>Run summary:</h3><br/><table class=\"wandb\"><tr><td>Accuracy</td><td>0.55556</td></tr><tr><td>Loss</td><td>1.37342</td></tr></table><br/></div></div>"
      ],
      "text/plain": [
       "<IPython.core.display.HTML object>"
      ]
     },
     "metadata": {},
     "output_type": "display_data"
    },
    {
     "data": {
      "text/html": [
       " View run <strong style=\"color:#cdcd00\">act:tanh opt:SGD</strong> at: <a href='https://wandb.ai/drbean/MLP-classification/runs/u4ny4wwx' target=\"_blank\">https://wandb.ai/drbean/MLP-classification/runs/u4ny4wwx</a><br/>Synced 4 W&B file(s), 0 media file(s), 0 artifact file(s) and 0 other file(s)"
      ],
      "text/plain": [
       "<IPython.core.display.HTML object>"
      ]
     },
     "metadata": {},
     "output_type": "display_data"
    },
    {
     "data": {
      "text/html": [
       "Find logs at: <code>./wandb/run-20231023_231756-u4ny4wwx/logs</code>"
      ],
      "text/plain": [
       "<IPython.core.display.HTML object>"
      ]
     },
     "metadata": {},
     "output_type": "display_data"
    },
    {
     "data": {
      "text/html": [
       "wandb version 0.15.12 is available!  To upgrade, please run:\n",
       " $ pip install wandb --upgrade"
      ],
      "text/plain": [
       "<IPython.core.display.HTML object>"
      ]
     },
     "metadata": {},
     "output_type": "display_data"
    },
    {
     "data": {
      "text/html": [
       "Tracking run with wandb version 0.15.11"
      ],
      "text/plain": [
       "<IPython.core.display.HTML object>"
      ]
     },
     "metadata": {},
     "output_type": "display_data"
    },
    {
     "data": {
      "text/html": [
       "Run data is saved locally in <code>/home/amogha/smai/a3/wandb/run-20231023_231958-q4r5da9c</code>"
      ],
      "text/plain": [
       "<IPython.core.display.HTML object>"
      ]
     },
     "metadata": {},
     "output_type": "display_data"
    },
    {
     "data": {
      "text/html": [
       "Syncing run <strong><a href='https://wandb.ai/drbean/MLP-classification/runs/q4r5da9c' target=\"_blank\">act:tanh opt:BGD</a></strong> to <a href='https://wandb.ai/drbean/MLP-classification' target=\"_blank\">Weights & Biases</a> (<a href='https://wandb.me/run' target=\"_blank\">docs</a>)<br/>"
      ],
      "text/plain": [
       "<IPython.core.display.HTML object>"
      ]
     },
     "metadata": {},
     "output_type": "display_data"
    },
    {
     "data": {
      "text/html": [
       " View project at <a href='https://wandb.ai/drbean/MLP-classification' target=\"_blank\">https://wandb.ai/drbean/MLP-classification</a>"
      ],
      "text/plain": [
       "<IPython.core.display.HTML object>"
      ]
     },
     "metadata": {},
     "output_type": "display_data"
    },
    {
     "data": {
      "text/html": [
       " View run at <a href='https://wandb.ai/drbean/MLP-classification/runs/q4r5da9c' target=\"_blank\">https://wandb.ai/drbean/MLP-classification/runs/q4r5da9c</a>"
      ],
      "text/plain": [
       "<IPython.core.display.HTML object>"
      ]
     },
     "metadata": {},
     "output_type": "display_data"
    },
    {
     "data": {
      "text/html": [
       "Waiting for W&B process to finish... <strong style=\"color:green\">(success).</strong>"
      ],
      "text/plain": [
       "<IPython.core.display.HTML object>"
      ]
     },
     "metadata": {},
     "output_type": "display_data"
    },
    {
     "data": {
      "text/html": [
       "<style>\n",
       "    table.wandb td:nth-child(1) { padding: 0 10px; text-align: left ; width: auto;} td:nth-child(2) {text-align: left ; width: 100%}\n",
       "    .wandb-row { display: flex; flex-direction: row; flex-wrap: wrap; justify-content: flex-start; width: 100% }\n",
       "    .wandb-col { display: flex; flex-direction: column; flex-basis: 100%; flex: 1; padding: 10px; }\n",
       "    </style>\n",
       "<div class=\"wandb-row\"><div class=\"wandb-col\"><h3>Run history:</h3><br/><table class=\"wandb\"><tr><td>Accuracy</td><td>▆▆▆▆▁▅▆█▅▅▁▆▂▅▅▃▆▃▆▆▆██▅▆▁▆▆█▆▆▃▆█▃▅▆██▃</td></tr><tr><td>Loss</td><td>▆▅▆▆▅▄▆▅▁▆▄▆▅▅▃▇▆█▆▆▅▄▄▆▂▅▆▅▅▆▆▆▆▅▂▆▆▄▄▆</td></tr></table><br/></div><div class=\"wandb-col\"><h3>Run summary:</h3><br/><table class=\"wandb\"><tr><td>Accuracy</td><td>0.34503</td></tr><tr><td>Loss</td><td>12.30548</td></tr></table><br/></div></div>"
      ],
      "text/plain": [
       "<IPython.core.display.HTML object>"
      ]
     },
     "metadata": {},
     "output_type": "display_data"
    },
    {
     "data": {
      "text/html": [
       " View run <strong style=\"color:#cdcd00\">act:tanh opt:BGD</strong> at: <a href='https://wandb.ai/drbean/MLP-classification/runs/q4r5da9c' target=\"_blank\">https://wandb.ai/drbean/MLP-classification/runs/q4r5da9c</a><br/>Synced 4 W&B file(s), 0 media file(s), 0 artifact file(s) and 0 other file(s)"
      ],
      "text/plain": [
       "<IPython.core.display.HTML object>"
      ]
     },
     "metadata": {},
     "output_type": "display_data"
    },
    {
     "data": {
      "text/html": [
       "Find logs at: <code>./wandb/run-20231023_231958-q4r5da9c/logs</code>"
      ],
      "text/plain": [
       "<IPython.core.display.HTML object>"
      ]
     },
     "metadata": {},
     "output_type": "display_data"
    },
    {
     "data": {
      "text/html": [
       "wandb version 0.15.12 is available!  To upgrade, please run:\n",
       " $ pip install wandb --upgrade"
      ],
      "text/plain": [
       "<IPython.core.display.HTML object>"
      ]
     },
     "metadata": {},
     "output_type": "display_data"
    },
    {
     "data": {
      "text/html": [
       "Tracking run with wandb version 0.15.11"
      ],
      "text/plain": [
       "<IPython.core.display.HTML object>"
      ]
     },
     "metadata": {},
     "output_type": "display_data"
    },
    {
     "data": {
      "text/html": [
       "Run data is saved locally in <code>/home/amogha/smai/a3/wandb/run-20231023_232008-boa7rxgv</code>"
      ],
      "text/plain": [
       "<IPython.core.display.HTML object>"
      ]
     },
     "metadata": {},
     "output_type": "display_data"
    },
    {
     "data": {
      "text/html": [
       "Syncing run <strong><a href='https://wandb.ai/drbean/MLP-classification/runs/boa7rxgv' target=\"_blank\">act:tanh opt:MBGD</a></strong> to <a href='https://wandb.ai/drbean/MLP-classification' target=\"_blank\">Weights & Biases</a> (<a href='https://wandb.me/run' target=\"_blank\">docs</a>)<br/>"
      ],
      "text/plain": [
       "<IPython.core.display.HTML object>"
      ]
     },
     "metadata": {},
     "output_type": "display_data"
    },
    {
     "data": {
      "text/html": [
       " View project at <a href='https://wandb.ai/drbean/MLP-classification' target=\"_blank\">https://wandb.ai/drbean/MLP-classification</a>"
      ],
      "text/plain": [
       "<IPython.core.display.HTML object>"
      ]
     },
     "metadata": {},
     "output_type": "display_data"
    },
    {
     "data": {
      "text/html": [
       " View run at <a href='https://wandb.ai/drbean/MLP-classification/runs/boa7rxgv' target=\"_blank\">https://wandb.ai/drbean/MLP-classification/runs/boa7rxgv</a>"
      ],
      "text/plain": [
       "<IPython.core.display.HTML object>"
      ]
     },
     "metadata": {},
     "output_type": "display_data"
    },
    {
     "data": {
      "text/html": [
       "Waiting for W&B process to finish... <strong style=\"color:green\">(success).</strong>"
      ],
      "text/plain": [
       "<IPython.core.display.HTML object>"
      ]
     },
     "metadata": {},
     "output_type": "display_data"
    },
    {
     "data": {
      "text/html": [
       "<style>\n",
       "    table.wandb td:nth-child(1) { padding: 0 10px; text-align: left ; width: auto;} td:nth-child(2) {text-align: left ; width: 100%}\n",
       "    .wandb-row { display: flex; flex-direction: row; flex-wrap: wrap; justify-content: flex-start; width: 100% }\n",
       "    .wandb-col { display: flex; flex-direction: column; flex-basis: 100%; flex: 1; padding: 10px; }\n",
       "    </style>\n",
       "<div class=\"wandb-row\"><div class=\"wandb-col\"><h3>Run history:</h3><br/><table class=\"wandb\"><tr><td>Accuracy</td><td>▅▅▆▅▆▄▅▅▅▇▆▄▄▅▅▄▅▄▅▄▁▄▂▄▅▂▄▃▅▃▅▄▅█▄▅▆▆▂▃</td></tr><tr><td>Loss</td><td>▁▁▁▃▃▄▄▃▃▃▃▅▅▄▃▅▃▄▅▅█▇▅▆▅▆▄▄▄▅▅▃▄▁▄▃▂▂▆▃</td></tr></table><br/></div><div class=\"wandb-col\"><h3>Run summary:</h3><br/><table class=\"wandb\"><tr><td>Accuracy</td><td>0.64327</td></tr><tr><td>Loss</td><td>1.09534</td></tr></table><br/></div></div>"
      ],
      "text/plain": [
       "<IPython.core.display.HTML object>"
      ]
     },
     "metadata": {},
     "output_type": "display_data"
    },
    {
     "data": {
      "text/html": [
       " View run <strong style=\"color:#cdcd00\">act:tanh opt:MBGD</strong> at: <a href='https://wandb.ai/drbean/MLP-classification/runs/boa7rxgv' target=\"_blank\">https://wandb.ai/drbean/MLP-classification/runs/boa7rxgv</a><br/>Synced 4 W&B file(s), 0 media file(s), 0 artifact file(s) and 0 other file(s)"
      ],
      "text/plain": [
       "<IPython.core.display.HTML object>"
      ]
     },
     "metadata": {},
     "output_type": "display_data"
    },
    {
     "data": {
      "text/html": [
       "Find logs at: <code>./wandb/run-20231023_232008-boa7rxgv/logs</code>"
      ],
      "text/plain": [
       "<IPython.core.display.HTML object>"
      ]
     },
     "metadata": {},
     "output_type": "display_data"
    },
    {
     "data": {
      "text/html": [
       "wandb version 0.15.12 is available!  To upgrade, please run:\n",
       " $ pip install wandb --upgrade"
      ],
      "text/plain": [
       "<IPython.core.display.HTML object>"
      ]
     },
     "metadata": {},
     "output_type": "display_data"
    },
    {
     "data": {
      "text/html": [
       "Tracking run with wandb version 0.15.11"
      ],
      "text/plain": [
       "<IPython.core.display.HTML object>"
      ]
     },
     "metadata": {},
     "output_type": "display_data"
    },
    {
     "data": {
      "text/html": [
       "Run data is saved locally in <code>/home/amogha/smai/a3/wandb/run-20231023_232027-4o7dgcil</code>"
      ],
      "text/plain": [
       "<IPython.core.display.HTML object>"
      ]
     },
     "metadata": {},
     "output_type": "display_data"
    },
    {
     "data": {
      "text/html": [
       "Syncing run <strong><a href='https://wandb.ai/drbean/MLP-classification/runs/4o7dgcil' target=\"_blank\">act:ReLU opt:SGD</a></strong> to <a href='https://wandb.ai/drbean/MLP-classification' target=\"_blank\">Weights & Biases</a> (<a href='https://wandb.me/run' target=\"_blank\">docs</a>)<br/>"
      ],
      "text/plain": [
       "<IPython.core.display.HTML object>"
      ]
     },
     "metadata": {},
     "output_type": "display_data"
    },
    {
     "data": {
      "text/html": [
       " View project at <a href='https://wandb.ai/drbean/MLP-classification' target=\"_blank\">https://wandb.ai/drbean/MLP-classification</a>"
      ],
      "text/plain": [
       "<IPython.core.display.HTML object>"
      ]
     },
     "metadata": {},
     "output_type": "display_data"
    },
    {
     "data": {
      "text/html": [
       " View run at <a href='https://wandb.ai/drbean/MLP-classification/runs/4o7dgcil' target=\"_blank\">https://wandb.ai/drbean/MLP-classification/runs/4o7dgcil</a>"
      ],
      "text/plain": [
       "<IPython.core.display.HTML object>"
      ]
     },
     "metadata": {},
     "output_type": "display_data"
    },
    {
     "data": {
      "text/html": [
       "Waiting for W&B process to finish... <strong style=\"color:green\">(success).</strong>"
      ],
      "text/plain": [
       "<IPython.core.display.HTML object>"
      ]
     },
     "metadata": {},
     "output_type": "display_data"
    },
    {
     "data": {
      "text/html": [
       "<style>\n",
       "    table.wandb td:nth-child(1) { padding: 0 10px; text-align: left ; width: auto;} td:nth-child(2) {text-align: left ; width: 100%}\n",
       "    .wandb-row { display: flex; flex-direction: row; flex-wrap: wrap; justify-content: flex-start; width: 100% }\n",
       "    .wandb-col { display: flex; flex-direction: column; flex-basis: 100%; flex: 1; padding: 10px; }\n",
       "    </style>\n",
       "<div class=\"wandb-row\"><div class=\"wandb-col\"><h3>Run history:</h3><br/><table class=\"wandb\"><tr><td>Accuracy</td><td>▆▆▆▆▇▆▆▇█▆▆▅▆▆▆▇▅▆▅▇▅▆▇▆▇▄▄▆▇▁▅█▆▇▆▆▄▇▆▅</td></tr><tr><td>Loss</td><td>▁▁▁▁▁▂▂▃▂▃▃▄▄▅▄▅▆▇▅▅▅▇▄▅▆▅█▅▇▂▂▂▂▄▂▃▂▃▃▄</td></tr></table><br/></div><div class=\"wandb-col\"><h3>Run summary:</h3><br/><table class=\"wandb\"><tr><td>Accuracy</td><td>0.5848</td></tr><tr><td>Loss</td><td>1.47117</td></tr></table><br/></div></div>"
      ],
      "text/plain": [
       "<IPython.core.display.HTML object>"
      ]
     },
     "metadata": {},
     "output_type": "display_data"
    },
    {
     "data": {
      "text/html": [
       " View run <strong style=\"color:#cdcd00\">act:ReLU opt:SGD</strong> at: <a href='https://wandb.ai/drbean/MLP-classification/runs/4o7dgcil' target=\"_blank\">https://wandb.ai/drbean/MLP-classification/runs/4o7dgcil</a><br/>Synced 4 W&B file(s), 0 media file(s), 0 artifact file(s) and 0 other file(s)"
      ],
      "text/plain": [
       "<IPython.core.display.HTML object>"
      ]
     },
     "metadata": {},
     "output_type": "display_data"
    },
    {
     "data": {
      "text/html": [
       "Find logs at: <code>./wandb/run-20231023_232027-4o7dgcil/logs</code>"
      ],
      "text/plain": [
       "<IPython.core.display.HTML object>"
      ]
     },
     "metadata": {},
     "output_type": "display_data"
    },
    {
     "data": {
      "text/html": [
       "wandb version 0.15.12 is available!  To upgrade, please run:\n",
       " $ pip install wandb --upgrade"
      ],
      "text/plain": [
       "<IPython.core.display.HTML object>"
      ]
     },
     "metadata": {},
     "output_type": "display_data"
    },
    {
     "data": {
      "text/html": [
       "Tracking run with wandb version 0.15.11"
      ],
      "text/plain": [
       "<IPython.core.display.HTML object>"
      ]
     },
     "metadata": {},
     "output_type": "display_data"
    },
    {
     "data": {
      "text/html": [
       "Run data is saved locally in <code>/home/amogha/smai/a3/wandb/run-20231023_232236-h89ky7bv</code>"
      ],
      "text/plain": [
       "<IPython.core.display.HTML object>"
      ]
     },
     "metadata": {},
     "output_type": "display_data"
    },
    {
     "data": {
      "text/html": [
       "Syncing run <strong><a href='https://wandb.ai/drbean/MLP-classification/runs/h89ky7bv' target=\"_blank\">act:ReLU opt:BGD</a></strong> to <a href='https://wandb.ai/drbean/MLP-classification' target=\"_blank\">Weights & Biases</a> (<a href='https://wandb.me/run' target=\"_blank\">docs</a>)<br/>"
      ],
      "text/plain": [
       "<IPython.core.display.HTML object>"
      ]
     },
     "metadata": {},
     "output_type": "display_data"
    },
    {
     "data": {
      "text/html": [
       " View project at <a href='https://wandb.ai/drbean/MLP-classification' target=\"_blank\">https://wandb.ai/drbean/MLP-classification</a>"
      ],
      "text/plain": [
       "<IPython.core.display.HTML object>"
      ]
     },
     "metadata": {},
     "output_type": "display_data"
    },
    {
     "data": {
      "text/html": [
       " View run at <a href='https://wandb.ai/drbean/MLP-classification/runs/h89ky7bv' target=\"_blank\">https://wandb.ai/drbean/MLP-classification/runs/h89ky7bv</a>"
      ],
      "text/plain": [
       "<IPython.core.display.HTML object>"
      ]
     },
     "metadata": {},
     "output_type": "display_data"
    },
    {
     "data": {
      "text/html": [
       "Waiting for W&B process to finish... <strong style=\"color:green\">(success).</strong>"
      ],
      "text/plain": [
       "<IPython.core.display.HTML object>"
      ]
     },
     "metadata": {},
     "output_type": "display_data"
    },
    {
     "data": {
      "text/html": [
       "<style>\n",
       "    table.wandb td:nth-child(1) { padding: 0 10px; text-align: left ; width: auto;} td:nth-child(2) {text-align: left ; width: 100%}\n",
       "    .wandb-row { display: flex; flex-direction: row; flex-wrap: wrap; justify-content: flex-start; width: 100% }\n",
       "    .wandb-col { display: flex; flex-direction: column; flex-basis: 100%; flex: 1; padding: 10px; }\n",
       "    </style>\n",
       "<div class=\"wandb-row\"><div class=\"wandb-col\"><h3>Run history:</h3><br/><table class=\"wandb\"><tr><td>Accuracy</td><td>▁▁▁▁▁▁▁▁▁▁▁▁▁▁▁▁▁▁▁▁▁▁▁▁▁▁▁▁▁▁▁▁▁▁▁▁▁▁▁▁</td></tr><tr><td>Loss</td><td>▁███████████████████████████████████████</td></tr></table><br/></div><div class=\"wandb-col\"><h3>Run summary:</h3><br/><table class=\"wandb\"><tr><td>Accuracy</td><td>0.40351</td></tr><tr><td>Loss</td><td>1.89471</td></tr></table><br/></div></div>"
      ],
      "text/plain": [
       "<IPython.core.display.HTML object>"
      ]
     },
     "metadata": {},
     "output_type": "display_data"
    },
    {
     "data": {
      "text/html": [
       " View run <strong style=\"color:#cdcd00\">act:ReLU opt:BGD</strong> at: <a href='https://wandb.ai/drbean/MLP-classification/runs/h89ky7bv' target=\"_blank\">https://wandb.ai/drbean/MLP-classification/runs/h89ky7bv</a><br/>Synced 4 W&B file(s), 0 media file(s), 0 artifact file(s) and 0 other file(s)"
      ],
      "text/plain": [
       "<IPython.core.display.HTML object>"
      ]
     },
     "metadata": {},
     "output_type": "display_data"
    },
    {
     "data": {
      "text/html": [
       "Find logs at: <code>./wandb/run-20231023_232236-h89ky7bv/logs</code>"
      ],
      "text/plain": [
       "<IPython.core.display.HTML object>"
      ]
     },
     "metadata": {},
     "output_type": "display_data"
    },
    {
     "data": {
      "text/html": [
       "wandb version 0.15.12 is available!  To upgrade, please run:\n",
       " $ pip install wandb --upgrade"
      ],
      "text/plain": [
       "<IPython.core.display.HTML object>"
      ]
     },
     "metadata": {},
     "output_type": "display_data"
    },
    {
     "data": {
      "text/html": [
       "Tracking run with wandb version 0.15.11"
      ],
      "text/plain": [
       "<IPython.core.display.HTML object>"
      ]
     },
     "metadata": {},
     "output_type": "display_data"
    },
    {
     "data": {
      "text/html": [
       "Run data is saved locally in <code>/home/amogha/smai/a3/wandb/run-20231023_232252-txnfdnws</code>"
      ],
      "text/plain": [
       "<IPython.core.display.HTML object>"
      ]
     },
     "metadata": {},
     "output_type": "display_data"
    },
    {
     "data": {
      "text/html": [
       "Syncing run <strong><a href='https://wandb.ai/drbean/MLP-classification/runs/txnfdnws' target=\"_blank\">act:ReLU opt:MBGD</a></strong> to <a href='https://wandb.ai/drbean/MLP-classification' target=\"_blank\">Weights & Biases</a> (<a href='https://wandb.me/run' target=\"_blank\">docs</a>)<br/>"
      ],
      "text/plain": [
       "<IPython.core.display.HTML object>"
      ]
     },
     "metadata": {},
     "output_type": "display_data"
    },
    {
     "data": {
      "text/html": [
       " View project at <a href='https://wandb.ai/drbean/MLP-classification' target=\"_blank\">https://wandb.ai/drbean/MLP-classification</a>"
      ],
      "text/plain": [
       "<IPython.core.display.HTML object>"
      ]
     },
     "metadata": {},
     "output_type": "display_data"
    },
    {
     "data": {
      "text/html": [
       " View run at <a href='https://wandb.ai/drbean/MLP-classification/runs/txnfdnws' target=\"_blank\">https://wandb.ai/drbean/MLP-classification/runs/txnfdnws</a>"
      ],
      "text/plain": [
       "<IPython.core.display.HTML object>"
      ]
     },
     "metadata": {},
     "output_type": "display_data"
    },
    {
     "data": {
      "text/html": [
       "Waiting for W&B process to finish... <strong style=\"color:green\">(success).</strong>"
      ],
      "text/plain": [
       "<IPython.core.display.HTML object>"
      ]
     },
     "metadata": {},
     "output_type": "display_data"
    },
    {
     "data": {
      "text/html": [
       "<style>\n",
       "    table.wandb td:nth-child(1) { padding: 0 10px; text-align: left ; width: auto;} td:nth-child(2) {text-align: left ; width: 100%}\n",
       "    .wandb-row { display: flex; flex-direction: row; flex-wrap: wrap; justify-content: flex-start; width: 100% }\n",
       "    .wandb-col { display: flex; flex-direction: column; flex-basis: 100%; flex: 1; padding: 10px; }\n",
       "    </style>\n",
       "<div class=\"wandb-row\"><div class=\"wandb-col\"><h3>Run history:</h3><br/><table class=\"wandb\"><tr><td>Accuracy</td><td>▇▆▆█▇▄▄▆▅▃▂▁▅▄▅▄▆▇▃▅▅▅▃▅▅▆▆▆▅▅▄▄▄▅▂▅▅▄▃▄</td></tr><tr><td>Loss</td><td>▁▁▁▁▂▂▂▃▂▄▄▄▃▆▅▅▄▃▆▃▅▅▅▃▆▃▇██▄▂▂▂▂▄▂▂▃▂▂</td></tr></table><br/></div><div class=\"wandb-col\"><h3>Run summary:</h3><br/><table class=\"wandb\"><tr><td>Accuracy</td><td>0.54386</td></tr><tr><td>Loss</td><td>1.02436</td></tr></table><br/></div></div>"
      ],
      "text/plain": [
       "<IPython.core.display.HTML object>"
      ]
     },
     "metadata": {},
     "output_type": "display_data"
    },
    {
     "data": {
      "text/html": [
       " View run <strong style=\"color:#cdcd00\">act:ReLU opt:MBGD</strong> at: <a href='https://wandb.ai/drbean/MLP-classification/runs/txnfdnws' target=\"_blank\">https://wandb.ai/drbean/MLP-classification/runs/txnfdnws</a><br/>Synced 4 W&B file(s), 0 media file(s), 0 artifact file(s) and 0 other file(s)"
      ],
      "text/plain": [
       "<IPython.core.display.HTML object>"
      ]
     },
     "metadata": {},
     "output_type": "display_data"
    },
    {
     "data": {
      "text/html": [
       "Find logs at: <code>./wandb/run-20231023_232252-txnfdnws/logs</code>"
      ],
      "text/plain": [
       "<IPython.core.display.HTML object>"
      ]
     },
     "metadata": {},
     "output_type": "display_data"
    },
    {
     "name": "stdout",
     "output_type": "stream",
     "text": [
      "+------------+-----------+----------+----------+-----------+--------+\n",
      "| Activation | Optimizer | F1-score | Accuracy | Precision | Recall |\n",
      "+------------+-----------+----------+----------+-----------+--------+\n",
      "|  sigmoid   |    SGD    |   0.62   |  0.6374  |   0.6063  | 0.6374 |\n",
      "|  sigmoid   |    BGD    |  0.232   |  0.4035  |   0.1628  | 0.4035 |\n",
      "|  sigmoid   |    MBGD   |  0.5967  |  0.614   |   0.5829  | 0.614  |\n",
      "|    tanh    |    SGD    |  0.5383  |  0.5556  |   0.524   | 0.5556 |\n",
      "|    tanh    |    BGD    |  0.2341  |  0.345   |   0.1772  | 0.345  |\n",
      "|    tanh    |    MBGD   |  0.6289  |  0.6433  |   0.6176  | 0.6433 |\n",
      "|    ReLU    |    SGD    |  0.5659  |  0.5848  |   0.5492  | 0.5848 |\n",
      "|    ReLU    |    BGD    |  0.232   |  0.4035  |   0.1628  | 0.4035 |\n",
      "|    ReLU    |    MBGD   |  0.4834  |  0.5439  |   0.4407  | 0.5439 |\n",
      "+------------+-----------+----------+----------+-----------+--------+\n"
     ]
    }
   ],
   "source": [
    "activations = ['sigmoid', 'tanh', 'ReLU']\n",
    "algorithms = [['SGD', 1], ['BGD', x_train.shape[0]], ['MBGD', 32]]\n",
    "\n",
    "t =PrettyTable(['Activation', 'Optimizer', 'F1-score', 'Accuracy', 'Precision', 'Recall'])\n",
    "for activation in activations:\n",
    "    for algo in algorithms:\n",
    "        str = 'act:{} opt:{}'.format(activation, algo[0])\n",
    "        wandb.init(project=\"MLP-classification\", config={\"activation\": activation, \"optimizer\": algo[0]}, name=str)\n",
    "        layer = get_nodes(5, 10, 11)\n",
    "        model = Network(layer, activation, 0.01)\n",
    "        model.set_algorithm(algo)\n",
    "        model.fit_wandb(x_train, y_train, x_valid, y_valid, 1000)\n",
    "\n",
    "        y_pred = model.predict(x_valid)\n",
    "        scores = get_scores(y_valid, y_pred)\n",
    "        t.add_row([activation, algo[0]]+scores)\n",
    "        wandb.finish()\n",
    "print(t)"
   ]
  },
  {
   "cell_type": "code",
   "execution_count": 70,
   "metadata": {},
   "outputs": [
    {
     "name": "stdout",
     "output_type": "stream",
     "text": [
      "+---------+---------------+----------------+----------+----------+-----------+--------+\n",
      "| #Epochs | Learning Rate | Hidden neurons | F1-score | Accuracy | Precision | Recall |\n",
      "+---------+---------------+----------------+----------+----------+-----------+--------+\n",
      "|   100   |      0.1      |       10       |  0.0269  |  0.1228  |   0.0151  | 0.1228 |\n",
      "|   100   |      0.1      |       25       |  0.385   |  0.4327  |   0.3573  | 0.4327 |\n",
      "|   100   |      0.1      |       50       |  0.2495  |  0.4211  |   0.1773  | 0.4211 |\n",
      "|   100   |      0.01     |       10       |  0.6135  |  0.6316  |   0.5992  | 0.6316 |\n",
      "|   100   |      0.01     |       25       |   0.55   |  0.5614  |   0.5511  | 0.5614 |\n",
      "|   100   |      0.01     |       50       |  0.4065  |  0.4503  |   0.3705  | 0.4503 |\n",
      "|   100   |     0.001     |       10       |  0.5521  |  0.5673  |   0.5502  | 0.5673 |\n",
      "|   100   |     0.001     |       25       |  0.5153  |  0.5731  |   0.4694  | 0.5731 |\n",
      "|   100   |     0.001     |       50       |  0.314   |  0.3567  |   0.2867  | 0.3567 |\n",
      "|   1000  |      0.1      |       10       |  0.3346  |  0.3977  |   0.6932  | 0.3977 |\n",
      "|   1000  |      0.1      |       25       |  0.3663  |  0.3918  |   0.502   | 0.3918 |\n",
      "|   1000  |      0.1      |       50       |  0.2249  |  0.2807  |   0.2304  | 0.2807 |\n",
      "|   1000  |      0.01     |       10       |  0.5955  |  0.6082  |   0.5881  | 0.6082 |\n",
      "|   1000  |      0.01     |       25       |  0.5891  |  0.5848  |   0.5973  | 0.5848 |\n",
      "|   1000  |      0.01     |       50       |  0.4595  |  0.5088  |   0.4327  | 0.5088 |\n",
      "|   1000  |     0.001     |       10       |  0.5592  |  0.5731  |   0.5693  | 0.5731 |\n",
      "|   1000  |     0.001     |       25       |  0.4338  |  0.5088  |   0.4788  | 0.5088 |\n",
      "|   1000  |     0.001     |       50       |  0.5013  |  0.5556  |   0.4569  | 0.5556 |\n",
      "+---------+---------------+----------------+----------+----------+-----------+--------+\n"
     ]
    }
   ],
   "source": [
    "learn_rate = [0.1, 0.01, 0.001]\n",
    "hidden_layers = [10, 25, 50]\n",
    "epochs = [100, 1000]\n",
    "\n",
    "t = PrettyTable(['#Epochs', 'Learning Rate', 'Hidden neurons', 'F1-score', 'Accuracy', 'Precision', 'Recall'])\n",
    "for n_epochs in epochs:\n",
    "    for rate in learn_rate:\n",
    "        for layer in hidden_layers:\n",
    "            layers = get_nodes(5, layer, layer+1)\n",
    "            model = Network(layers, 'tanh', rate)\n",
    "            model.set_algorithm(['MBGD', 32])\n",
    "            model.fit(x_train, y_train, n_epochs)\n",
    "\n",
    "            y_pred = model.predict(x_valid)\n",
    "            scores = get_scores(y_valid, y_pred)\n",
    "            t.add_row([n_epochs, rate, layer]+scores)\n",
    "print(t)"
   ]
  },
  {
   "cell_type": "code",
   "execution_count": 74,
   "metadata": {},
   "outputs": [
    {
     "name": "stdout",
     "output_type": "stream",
     "text": [
      "              precision    recall  f1-score   support\n",
      "\n",
      "           0       0.00      0.00      0.00         1\n",
      "           1       0.00      0.00      0.00         5\n",
      "           2       0.70      0.77      0.73        73\n",
      "           3       0.53      0.71      0.61        69\n",
      "           4       0.00      0.00      0.00        22\n",
      "           5       0.00      0.00      0.00         2\n",
      "\n",
      "    accuracy                           0.61       172\n",
      "   macro avg       0.21      0.25      0.22       172\n",
      "weighted avg       0.51      0.61      0.55       172\n",
      "\n"
     ]
    }
   ],
   "source": [
    "# Evaluate the model on test dataset\n",
    "layer = get_nodes(5, 10, 11)\n",
    "model = Network(layers, 'tanh', 0.01)\n",
    "model.set_algorithm(['MBGD', 32])\n",
    "model.fit(x_train, y_train, 100)\n",
    "\n",
    "y_pred = model.predict(x_test)\n",
    "report = classification_report(np.argmax(y_test, axis=1), np.argmax(y_pred, axis=1))\n",
    "print(report)"
   ]
  },
  {
   "cell_type": "markdown",
   "metadata": {},
   "source": [
    "Wandb Report Link: \n",
    "https://wandb.ai/drbean/MLP-multilabel/reports/Question-2-4--Vmlldzo1NzkwOTQ1"
   ]
  },
  {
   "cell_type": "code",
   "execution_count": 88,
   "metadata": {},
   "outputs": [],
   "source": [
    "class MultiNetwork:\n",
    "    def __init__(self, layers, activation, learn_rate=0.01):\n",
    "        self.weights = []\n",
    "        self.bias = []\n",
    "        self.num = len(layers)-1\n",
    "        self.batch_size = 1\n",
    "        self.layers = layers\n",
    "        self.func = activation\n",
    "        self.rate = learn_rate\n",
    "        \n",
    "        for i in range(len(layers)-1):\n",
    "            w = np.random.rand(layers[i], layers[i+1])\n",
    "            self.weights.append(w / np.sqrt(layers[i]))\n",
    "            self.bias.append(np.zeros((1, layers[i+1])))\n",
    "        \n",
    "    def set_activation(self, activation):\n",
    "        self.func = activation\n",
    "\n",
    "    def set_learn_rate(self, learn_rate):\n",
    "        self.rate = learn_rate\n",
    "\n",
    "    def set_algorithm(self, algorithm):\n",
    "        self.batch_size = algorithm[1]\n",
    "\n",
    "    def sigmoid(self, x):\n",
    "        return 1 / (1 + np.exp(-x))\n",
    "    \n",
    "    def sigmoid_gradient(self, x):\n",
    "        return np.exp(-x) / ((1 + np.exp(-x))**2)\n",
    "    \n",
    "    def activation(self, x):\n",
    "        if self.func == 'sigmoid':\n",
    "            return 1 / (1 + np.exp(-x))\n",
    "        if self.func == 'tanh':\n",
    "            return np.tanh(x)\n",
    "        if self.func == 'ReLU':\n",
    "            return np.maximum(0, x)\n",
    "        \n",
    "    def activation_gradient(self, x):\n",
    "        if self.func == 'sigmoid':\n",
    "            return np.exp(-x) / ((1 + np.exp(-x))**2)\n",
    "        if self.func == 'tanh':\n",
    "            return 1 - np.tanh(x)**2\n",
    "        if self.func == 'ReLU':\n",
    "            return np.where(x > 0, 1, 0)\n",
    "        \n",
    "    def batch(self, X, Y):\n",
    "        n = self.batch_size\n",
    "        for idx in range(0, len(X), n):\n",
    "            yield X[idx:min(idx+n, len(X))], Y[idx:min(idx+n, len(X))]\n",
    "        \n",
    "    def fit(self, x_train, y_train, n_epochs=1000):\n",
    "        for _ in range(n_epochs):\n",
    "            for (x_batch, y_batch) in self.batch(x_train, y_train):\n",
    "                self.fit_instant(x_batch, y_batch)\n",
    "\n",
    "    def fit_wandb(self, x_train, y_train, x_valid, y_valid, n_epochs=1000):\n",
    "        for _ in range(n_epochs):\n",
    "            for (x_batch, y_batch) in self.batch(x_train, y_train):\n",
    "                self.fit_instant(x_batch, y_batch)\n",
    "            y_pred = self.predict(x_valid)\n",
    "            loss = self.calculate_loss(y_valid, y_pred)\n",
    "            accuracy = self.accuracy(y_valid, y_pred)\n",
    "            wandb.log({\"Loss\": loss, \"Accuracy\": accuracy})\n",
    "\n",
    "    def fit_instant(self, x, y):\n",
    "        # forward pass\n",
    "        y_pred, z_pred = [x], [np.zeros_like(x)]\n",
    "        for layer in range(self.num):\n",
    "            z = np.dot(y_pred[layer], self.weights[layer]) + self.bias[layer]\n",
    "            if layer==self.num-1: y_pred.append(self.sigmoid(z))\n",
    "            else: y_pred.append(self.activation(z))\n",
    "            z_pred.append(z)\n",
    "\n",
    "        # backward pass\n",
    "        error = y_pred[-1]-y\n",
    "        derivatives = [error*self.sigmoid_gradient(y_pred[-1])]\n",
    "        for layer in range(self.num-1, 0, -1):\n",
    "            delta = np.dot(derivatives[-1], self.weights[layer].T)\n",
    "            delta = delta * self.activation_gradient(z_pred[layer])\n",
    "            derivatives.append(delta)\n",
    "\n",
    "        # update the weights\n",
    "        derivatives = derivatives[::-1]\n",
    "        for layer in range(self.num):\n",
    "            self.weights[layer] += -self.rate * np.dot(y_pred[layer].T, derivatives[layer])\n",
    "            self.bias[layer] += -self.rate * np.sum(derivatives[layer], axis=0, keepdims=True)\n",
    "\n",
    "    def calculate_loss(self, y_true, y_pred, epsilon=1e-12):\n",
    "        n = y_true.shape[0]\n",
    "        y_pred = np.clip(y_pred, epsilon, 1-epsilon)\n",
    "        loss = -np.sum(y_true * np.log(y_pred+1e-9) + (1-y_true) * np.log(1-y_pred+1e-9)) / n\n",
    "        return loss\n",
    "    \n",
    "    def predict(self, x):\n",
    "        values = [x]\n",
    "        for layer in range(self.num):\n",
    "            z = np.dot(values[layer], self.weights[layer]) + self.bias[layer]\n",
    "            if layer==self.num-1: values.append(self.sigmoid(z))\n",
    "            else: values.append(self.activation(z))\n",
    "        return values[-1]\n",
    "    \n",
    "    def accuracy(self, y_true, y_pred, threshold=0.5):\n",
    "        y_pred = (y_pred >= threshold).astype(int)\n",
    "        return 1-hamming_loss(y_true, y_pred)"
   ]
  },
  {
   "cell_type": "code",
   "execution_count": 89,
   "metadata": {},
   "outputs": [],
   "source": [
    "def encode_label(vec):\n",
    "    labels = []\n",
    "    for x in vec:\n",
    "        temp = []\n",
    "        for y in x.split():\n",
    "            temp.append(y)\n",
    "        labels.append(temp)\n",
    "    mlb = MultiLabelBinarizer()\n",
    "    y_labels = mlb.fit_transform(labels)\n",
    "    return y_labels\n",
    "\n",
    "def preprocess_data(data):\n",
    "    names = list(data.columns)\n",
    "    names[9] = 'most_brought_item'\n",
    "    data.columns = names\n",
    "\n",
    "    # one hot encoding\n",
    "    X = data.iloc[:,0:10]\n",
    "    X = X.drop(columns=['city'])\n",
    "    Y = data.iloc[:,10]\n",
    "    crt = ['gender', 'education', 'married', 'occupation', 'most_brought_item']\n",
    "    X = pd.get_dummies(X, columns=crt)\n",
    "    Y = encode_label(Y)\n",
    "    return X, Y"
   ]
  },
  {
   "cell_type": "code",
   "execution_count": 90,
   "metadata": {},
   "outputs": [],
   "source": [
    "# Load the data and preprocess it\n",
    "data = pd.read_csv('advertisement.csv')\n",
    "X, Y = preprocess_data(data)\n",
    "\n",
    "# Split the data into train, test and validation sets\n",
    "x_train, x_temp, y_train, y_temp = train_test_split(X, Y, train_size=0.7)\n",
    "x_valid, x_test, y_valid, y_test = train_test_split(x_temp, y_temp, test_size=0.5)\n",
    "\n",
    "def print_results(actual, predicted):\n",
    "    result = get_scores(actual, predicted)\n",
    "    t = PrettyTable(['Measure', 'Value'])\n",
    "    t.add_row(['F1-score', result[0]])\n",
    "    t.add_row(['Accuracy', result[1]])\n",
    "    t.add_row(['Precision', result[2]])\n",
    "    t.add_row(['Recall', result[3]])\n",
    "    print(t)"
   ]
  },
  {
   "cell_type": "code",
   "execution_count": 91,
   "metadata": {},
   "outputs": [
    {
     "data": {
      "text/html": [
       "wandb version 0.15.12 is available!  To upgrade, please run:\n",
       " $ pip install wandb --upgrade"
      ],
      "text/plain": [
       "<IPython.core.display.HTML object>"
      ]
     },
     "metadata": {},
     "output_type": "display_data"
    },
    {
     "data": {
      "text/html": [
       "Tracking run with wandb version 0.15.11"
      ],
      "text/plain": [
       "<IPython.core.display.HTML object>"
      ]
     },
     "metadata": {},
     "output_type": "display_data"
    },
    {
     "data": {
      "text/html": [
       "Run data is saved locally in <code>/home/amogha/smai/a3/wandb/run-20231024_142739-k1mp3b9n</code>"
      ],
      "text/plain": [
       "<IPython.core.display.HTML object>"
      ]
     },
     "metadata": {},
     "output_type": "display_data"
    },
    {
     "data": {
      "text/html": [
       "Syncing run <strong><a href='https://wandb.ai/drbean/MLP-multilabel/runs/k1mp3b9n' target=\"_blank\">act:sigmoid opt:SGD</a></strong> to <a href='https://wandb.ai/drbean/MLP-multilabel' target=\"_blank\">Weights & Biases</a> (<a href='https://wandb.me/run' target=\"_blank\">docs</a>)<br/>"
      ],
      "text/plain": [
       "<IPython.core.display.HTML object>"
      ]
     },
     "metadata": {},
     "output_type": "display_data"
    },
    {
     "data": {
      "text/html": [
       " View project at <a href='https://wandb.ai/drbean/MLP-multilabel' target=\"_blank\">https://wandb.ai/drbean/MLP-multilabel</a>"
      ],
      "text/plain": [
       "<IPython.core.display.HTML object>"
      ]
     },
     "metadata": {},
     "output_type": "display_data"
    },
    {
     "data": {
      "text/html": [
       " View run at <a href='https://wandb.ai/drbean/MLP-multilabel/runs/k1mp3b9n' target=\"_blank\">https://wandb.ai/drbean/MLP-multilabel/runs/k1mp3b9n</a>"
      ],
      "text/plain": [
       "<IPython.core.display.HTML object>"
      ]
     },
     "metadata": {},
     "output_type": "display_data"
    },
    {
     "data": {
      "text/html": [
       "Waiting for W&B process to finish... <strong style=\"color:green\">(success).</strong>"
      ],
      "text/plain": [
       "<IPython.core.display.HTML object>"
      ]
     },
     "metadata": {},
     "output_type": "display_data"
    },
    {
     "data": {
      "text/html": [
       "<style>\n",
       "    table.wandb td:nth-child(1) { padding: 0 10px; text-align: left ; width: auto;} td:nth-child(2) {text-align: left ; width: 100%}\n",
       "    .wandb-row { display: flex; flex-direction: row; flex-wrap: wrap; justify-content: flex-start; width: 100% }\n",
       "    .wandb-col { display: flex; flex-direction: column; flex-basis: 100%; flex: 1; padding: 10px; }\n",
       "    </style>\n",
       "<div class=\"wandb-row\"><div class=\"wandb-col\"><h3>Run history:</h3><br/><table class=\"wandb\"><tr><td>Accuracy</td><td>▁▁▁▁▁▁▁▁▁▁▁▁▁▁▁▁▁▁▁▁▁▁▁▁▁▁▁▁▁▁▁▁▁▁▁▁▁▁▁▁</td></tr><tr><td>Loss</td><td>████▇▇▇▇▆▆▆▅▅▅▅▄▄▄▃▃▃▃▃▂▂▂▂▂▂▂▂▂▁▁▁▁▁▁▁▁</td></tr></table><br/></div><div class=\"wandb-col\"><h3>Run summary:</h3><br/><table class=\"wandb\"><tr><td>Accuracy</td><td>0.64417</td></tr><tr><td>Loss</td><td>5.22628</td></tr></table><br/></div></div>"
      ],
      "text/plain": [
       "<IPython.core.display.HTML object>"
      ]
     },
     "metadata": {},
     "output_type": "display_data"
    },
    {
     "data": {
      "text/html": [
       " View run <strong style=\"color:#cdcd00\">act:sigmoid opt:SGD</strong> at: <a href='https://wandb.ai/drbean/MLP-multilabel/runs/k1mp3b9n' target=\"_blank\">https://wandb.ai/drbean/MLP-multilabel/runs/k1mp3b9n</a><br/>Synced 4 W&B file(s), 0 media file(s), 0 artifact file(s) and 0 other file(s)"
      ],
      "text/plain": [
       "<IPython.core.display.HTML object>"
      ]
     },
     "metadata": {},
     "output_type": "display_data"
    },
    {
     "data": {
      "text/html": [
       "Find logs at: <code>./wandb/run-20231024_142739-k1mp3b9n/logs</code>"
      ],
      "text/plain": [
       "<IPython.core.display.HTML object>"
      ]
     },
     "metadata": {},
     "output_type": "display_data"
    },
    {
     "data": {
      "text/html": [
       "wandb version 0.15.12 is available!  To upgrade, please run:\n",
       " $ pip install wandb --upgrade"
      ],
      "text/plain": [
       "<IPython.core.display.HTML object>"
      ]
     },
     "metadata": {},
     "output_type": "display_data"
    },
    {
     "data": {
      "text/html": [
       "Tracking run with wandb version 0.15.11"
      ],
      "text/plain": [
       "<IPython.core.display.HTML object>"
      ]
     },
     "metadata": {},
     "output_type": "display_data"
    },
    {
     "data": {
      "text/html": [
       "Run data is saved locally in <code>/home/amogha/smai/a3/wandb/run-20231024_143438-37n5kbez</code>"
      ],
      "text/plain": [
       "<IPython.core.display.HTML object>"
      ]
     },
     "metadata": {},
     "output_type": "display_data"
    },
    {
     "data": {
      "text/html": [
       "Syncing run <strong><a href='https://wandb.ai/drbean/MLP-multilabel/runs/37n5kbez' target=\"_blank\">act:sigmoid opt:BGD</a></strong> to <a href='https://wandb.ai/drbean/MLP-multilabel' target=\"_blank\">Weights & Biases</a> (<a href='https://wandb.me/run' target=\"_blank\">docs</a>)<br/>"
      ],
      "text/plain": [
       "<IPython.core.display.HTML object>"
      ]
     },
     "metadata": {},
     "output_type": "display_data"
    },
    {
     "data": {
      "text/html": [
       " View project at <a href='https://wandb.ai/drbean/MLP-multilabel' target=\"_blank\">https://wandb.ai/drbean/MLP-multilabel</a>"
      ],
      "text/plain": [
       "<IPython.core.display.HTML object>"
      ]
     },
     "metadata": {},
     "output_type": "display_data"
    },
    {
     "data": {
      "text/html": [
       " View run at <a href='https://wandb.ai/drbean/MLP-multilabel/runs/37n5kbez' target=\"_blank\">https://wandb.ai/drbean/MLP-multilabel/runs/37n5kbez</a>"
      ],
      "text/plain": [
       "<IPython.core.display.HTML object>"
      ]
     },
     "metadata": {},
     "output_type": "display_data"
    },
    {
     "data": {
      "text/html": [
       "Waiting for W&B process to finish... <strong style=\"color:green\">(success).</strong>"
      ],
      "text/plain": [
       "<IPython.core.display.HTML object>"
      ]
     },
     "metadata": {},
     "output_type": "display_data"
    },
    {
     "data": {
      "text/html": [
       "<style>\n",
       "    table.wandb td:nth-child(1) { padding: 0 10px; text-align: left ; width: auto;} td:nth-child(2) {text-align: left ; width: 100%}\n",
       "    .wandb-row { display: flex; flex-direction: row; flex-wrap: wrap; justify-content: flex-start; width: 100% }\n",
       "    .wandb-col { display: flex; flex-direction: column; flex-basis: 100%; flex: 1; padding: 10px; }\n",
       "    </style>\n",
       "<div class=\"wandb-row\"><div class=\"wandb-col\"><h3>Run history:</h3><br/><table class=\"wandb\"><tr><td>Accuracy</td><td>▁▁▁▁▁▁▁▁▁▁▁▁▁▁▁▁▁▁▁▁▁▁▁▁▁▁▁▁▁▁▁▁▁▁▁▁▁▁▁▁</td></tr><tr><td>Loss</td><td>█▁▁▁▁▁▁▁▁▁▁▁▁▁▁▁▁▁▁▁▁▁▁▁▁▁▁▁▁▁▁▁▁▁▁▁▁▁▁▁</td></tr></table><br/></div><div class=\"wandb-col\"><h3>Run summary:</h3><br/><table class=\"wandb\"><tr><td>Accuracy</td><td>0.64417</td></tr><tr><td>Loss</td><td>5.22545</td></tr></table><br/></div></div>"
      ],
      "text/plain": [
       "<IPython.core.display.HTML object>"
      ]
     },
     "metadata": {},
     "output_type": "display_data"
    },
    {
     "data": {
      "text/html": [
       " View run <strong style=\"color:#cdcd00\">act:sigmoid opt:BGD</strong> at: <a href='https://wandb.ai/drbean/MLP-multilabel/runs/37n5kbez' target=\"_blank\">https://wandb.ai/drbean/MLP-multilabel/runs/37n5kbez</a><br/>Synced 4 W&B file(s), 0 media file(s), 0 artifact file(s) and 0 other file(s)"
      ],
      "text/plain": [
       "<IPython.core.display.HTML object>"
      ]
     },
     "metadata": {},
     "output_type": "display_data"
    },
    {
     "data": {
      "text/html": [
       "Find logs at: <code>./wandb/run-20231024_143438-37n5kbez/logs</code>"
      ],
      "text/plain": [
       "<IPython.core.display.HTML object>"
      ]
     },
     "metadata": {},
     "output_type": "display_data"
    },
    {
     "data": {
      "text/html": [
       "wandb version 0.15.12 is available!  To upgrade, please run:\n",
       " $ pip install wandb --upgrade"
      ],
      "text/plain": [
       "<IPython.core.display.HTML object>"
      ]
     },
     "metadata": {},
     "output_type": "display_data"
    },
    {
     "data": {
      "text/html": [
       "Tracking run with wandb version 0.15.11"
      ],
      "text/plain": [
       "<IPython.core.display.HTML object>"
      ]
     },
     "metadata": {},
     "output_type": "display_data"
    },
    {
     "data": {
      "text/html": [
       "Run data is saved locally in <code>/home/amogha/smai/a3/wandb/run-20231024_143449-4itocxhe</code>"
      ],
      "text/plain": [
       "<IPython.core.display.HTML object>"
      ]
     },
     "metadata": {},
     "output_type": "display_data"
    },
    {
     "data": {
      "text/html": [
       "Syncing run <strong><a href='https://wandb.ai/drbean/MLP-multilabel/runs/4itocxhe' target=\"_blank\">act:sigmoid opt:MBGD</a></strong> to <a href='https://wandb.ai/drbean/MLP-multilabel' target=\"_blank\">Weights & Biases</a> (<a href='https://wandb.me/run' target=\"_blank\">docs</a>)<br/>"
      ],
      "text/plain": [
       "<IPython.core.display.HTML object>"
      ]
     },
     "metadata": {},
     "output_type": "display_data"
    },
    {
     "data": {
      "text/html": [
       " View project at <a href='https://wandb.ai/drbean/MLP-multilabel' target=\"_blank\">https://wandb.ai/drbean/MLP-multilabel</a>"
      ],
      "text/plain": [
       "<IPython.core.display.HTML object>"
      ]
     },
     "metadata": {},
     "output_type": "display_data"
    },
    {
     "data": {
      "text/html": [
       " View run at <a href='https://wandb.ai/drbean/MLP-multilabel/runs/4itocxhe' target=\"_blank\">https://wandb.ai/drbean/MLP-multilabel/runs/4itocxhe</a>"
      ],
      "text/plain": [
       "<IPython.core.display.HTML object>"
      ]
     },
     "metadata": {},
     "output_type": "display_data"
    },
    {
     "data": {
      "text/html": [
       "Waiting for W&B process to finish... <strong style=\"color:green\">(success).</strong>"
      ],
      "text/plain": [
       "<IPython.core.display.HTML object>"
      ]
     },
     "metadata": {},
     "output_type": "display_data"
    },
    {
     "data": {
      "text/html": [
       "<style>\n",
       "    table.wandb td:nth-child(1) { padding: 0 10px; text-align: left ; width: auto;} td:nth-child(2) {text-align: left ; width: 100%}\n",
       "    .wandb-row { display: flex; flex-direction: row; flex-wrap: wrap; justify-content: flex-start; width: 100% }\n",
       "    .wandb-col { display: flex; flex-direction: column; flex-basis: 100%; flex: 1; padding: 10px; }\n",
       "    </style>\n",
       "<div class=\"wandb-row\"><div class=\"wandb-col\"><h3>Run history:</h3><br/><table class=\"wandb\"><tr><td>Accuracy</td><td>▁▁▁▁▁▁▁▁▁▁▁▁▁▁▁▁▁▁▁▁▁▁▁▁▁▁▁▁▁▁▁▁▁▁▁▁▁▁▁▁</td></tr><tr><td>Loss</td><td>███▇▇▇▇▆▆▆▆▅▅▅▄▄▄▄▄▃▃▃▃▃▂▂▂▂▂▂▂▂▂▁▁▁▁▁▁▁</td></tr></table><br/></div><div class=\"wandb-col\"><h3>Run summary:</h3><br/><table class=\"wandb\"><tr><td>Accuracy</td><td>0.64417</td></tr><tr><td>Loss</td><td>5.22647</td></tr></table><br/></div></div>"
      ],
      "text/plain": [
       "<IPython.core.display.HTML object>"
      ]
     },
     "metadata": {},
     "output_type": "display_data"
    },
    {
     "data": {
      "text/html": [
       " View run <strong style=\"color:#cdcd00\">act:sigmoid opt:MBGD</strong> at: <a href='https://wandb.ai/drbean/MLP-multilabel/runs/4itocxhe' target=\"_blank\">https://wandb.ai/drbean/MLP-multilabel/runs/4itocxhe</a><br/>Synced 4 W&B file(s), 0 media file(s), 0 artifact file(s) and 0 other file(s)"
      ],
      "text/plain": [
       "<IPython.core.display.HTML object>"
      ]
     },
     "metadata": {},
     "output_type": "display_data"
    },
    {
     "data": {
      "text/html": [
       "Find logs at: <code>./wandb/run-20231024_143449-4itocxhe/logs</code>"
      ],
      "text/plain": [
       "<IPython.core.display.HTML object>"
      ]
     },
     "metadata": {},
     "output_type": "display_data"
    },
    {
     "data": {
      "text/html": [
       "wandb version 0.15.12 is available!  To upgrade, please run:\n",
       " $ pip install wandb --upgrade"
      ],
      "text/plain": [
       "<IPython.core.display.HTML object>"
      ]
     },
     "metadata": {},
     "output_type": "display_data"
    },
    {
     "data": {
      "text/html": [
       "Tracking run with wandb version 0.15.11"
      ],
      "text/plain": [
       "<IPython.core.display.HTML object>"
      ]
     },
     "metadata": {},
     "output_type": "display_data"
    },
    {
     "data": {
      "text/html": [
       "Run data is saved locally in <code>/home/amogha/smai/a3/wandb/run-20231024_143512-vz3njk67</code>"
      ],
      "text/plain": [
       "<IPython.core.display.HTML object>"
      ]
     },
     "metadata": {},
     "output_type": "display_data"
    },
    {
     "data": {
      "text/html": [
       "Syncing run <strong><a href='https://wandb.ai/drbean/MLP-multilabel/runs/vz3njk67' target=\"_blank\">act:tanh opt:SGD</a></strong> to <a href='https://wandb.ai/drbean/MLP-multilabel' target=\"_blank\">Weights & Biases</a> (<a href='https://wandb.me/run' target=\"_blank\">docs</a>)<br/>"
      ],
      "text/plain": [
       "<IPython.core.display.HTML object>"
      ]
     },
     "metadata": {},
     "output_type": "display_data"
    },
    {
     "data": {
      "text/html": [
       " View project at <a href='https://wandb.ai/drbean/MLP-multilabel' target=\"_blank\">https://wandb.ai/drbean/MLP-multilabel</a>"
      ],
      "text/plain": [
       "<IPython.core.display.HTML object>"
      ]
     },
     "metadata": {},
     "output_type": "display_data"
    },
    {
     "data": {
      "text/html": [
       " View run at <a href='https://wandb.ai/drbean/MLP-multilabel/runs/vz3njk67' target=\"_blank\">https://wandb.ai/drbean/MLP-multilabel/runs/vz3njk67</a>"
      ],
      "text/plain": [
       "<IPython.core.display.HTML object>"
      ]
     },
     "metadata": {},
     "output_type": "display_data"
    },
    {
     "data": {
      "text/html": [
       "Waiting for W&B process to finish... <strong style=\"color:green\">(success).</strong>"
      ],
      "text/plain": [
       "<IPython.core.display.HTML object>"
      ]
     },
     "metadata": {},
     "output_type": "display_data"
    },
    {
     "data": {
      "text/html": [
       "<style>\n",
       "    table.wandb td:nth-child(1) { padding: 0 10px; text-align: left ; width: auto;} td:nth-child(2) {text-align: left ; width: 100%}\n",
       "    .wandb-row { display: flex; flex-direction: row; flex-wrap: wrap; justify-content: flex-start; width: 100% }\n",
       "    .wandb-col { display: flex; flex-direction: column; flex-basis: 100%; flex: 1; padding: 10px; }\n",
       "    </style>\n",
       "<div class=\"wandb-row\"><div class=\"wandb-col\"><h3>Run history:</h3><br/><table class=\"wandb\"><tr><td>Accuracy</td><td>▁▁▁▁▁▁▁▁▁▁▁▁▁▁▁▁▁▁▁▁▁▁▁▁▁▁▁▁▁▁▁▁▁▁▁▁▁▁▁▁</td></tr><tr><td>Loss</td><td>█▇▆▄▃▃▂▂▁▁▁▁▁▁▁▁▁▁▁▁▁▁▁▁▁▁▁▁▁▁▁▁▂▂▂▂▂▂▂▂</td></tr></table><br/></div><div class=\"wandb-col\"><h3>Run summary:</h3><br/><table class=\"wandb\"><tr><td>Accuracy</td><td>0.64417</td></tr><tr><td>Loss</td><td>5.22602</td></tr></table><br/></div></div>"
      ],
      "text/plain": [
       "<IPython.core.display.HTML object>"
      ]
     },
     "metadata": {},
     "output_type": "display_data"
    },
    {
     "data": {
      "text/html": [
       " View run <strong style=\"color:#cdcd00\">act:tanh opt:SGD</strong> at: <a href='https://wandb.ai/drbean/MLP-multilabel/runs/vz3njk67' target=\"_blank\">https://wandb.ai/drbean/MLP-multilabel/runs/vz3njk67</a><br/>Synced 4 W&B file(s), 0 media file(s), 0 artifact file(s) and 0 other file(s)"
      ],
      "text/plain": [
       "<IPython.core.display.HTML object>"
      ]
     },
     "metadata": {},
     "output_type": "display_data"
    },
    {
     "data": {
      "text/html": [
       "Find logs at: <code>./wandb/run-20231024_143512-vz3njk67/logs</code>"
      ],
      "text/plain": [
       "<IPython.core.display.HTML object>"
      ]
     },
     "metadata": {},
     "output_type": "display_data"
    },
    {
     "data": {
      "text/html": [
       "wandb version 0.15.12 is available!  To upgrade, please run:\n",
       " $ pip install wandb --upgrade"
      ],
      "text/plain": [
       "<IPython.core.display.HTML object>"
      ]
     },
     "metadata": {},
     "output_type": "display_data"
    },
    {
     "data": {
      "text/html": [
       "Tracking run with wandb version 0.15.11"
      ],
      "text/plain": [
       "<IPython.core.display.HTML object>"
      ]
     },
     "metadata": {},
     "output_type": "display_data"
    },
    {
     "data": {
      "text/html": [
       "Run data is saved locally in <code>/home/amogha/smai/a3/wandb/run-20231024_144215-hz5dctkb</code>"
      ],
      "text/plain": [
       "<IPython.core.display.HTML object>"
      ]
     },
     "metadata": {},
     "output_type": "display_data"
    },
    {
     "data": {
      "text/html": [
       "Syncing run <strong><a href='https://wandb.ai/drbean/MLP-multilabel/runs/hz5dctkb' target=\"_blank\">act:tanh opt:BGD</a></strong> to <a href='https://wandb.ai/drbean/MLP-multilabel' target=\"_blank\">Weights & Biases</a> (<a href='https://wandb.me/run' target=\"_blank\">docs</a>)<br/>"
      ],
      "text/plain": [
       "<IPython.core.display.HTML object>"
      ]
     },
     "metadata": {},
     "output_type": "display_data"
    },
    {
     "data": {
      "text/html": [
       " View project at <a href='https://wandb.ai/drbean/MLP-multilabel' target=\"_blank\">https://wandb.ai/drbean/MLP-multilabel</a>"
      ],
      "text/plain": [
       "<IPython.core.display.HTML object>"
      ]
     },
     "metadata": {},
     "output_type": "display_data"
    },
    {
     "data": {
      "text/html": [
       " View run at <a href='https://wandb.ai/drbean/MLP-multilabel/runs/hz5dctkb' target=\"_blank\">https://wandb.ai/drbean/MLP-multilabel/runs/hz5dctkb</a>"
      ],
      "text/plain": [
       "<IPython.core.display.HTML object>"
      ]
     },
     "metadata": {},
     "output_type": "display_data"
    },
    {
     "data": {
      "text/html": [
       "Waiting for W&B process to finish... <strong style=\"color:green\">(success).</strong>"
      ],
      "text/plain": [
       "<IPython.core.display.HTML object>"
      ]
     },
     "metadata": {},
     "output_type": "display_data"
    },
    {
     "data": {
      "text/html": [
       "<style>\n",
       "    table.wandb td:nth-child(1) { padding: 0 10px; text-align: left ; width: auto;} td:nth-child(2) {text-align: left ; width: 100%}\n",
       "    .wandb-row { display: flex; flex-direction: row; flex-wrap: wrap; justify-content: flex-start; width: 100% }\n",
       "    .wandb-col { display: flex; flex-direction: column; flex-basis: 100%; flex: 1; padding: 10px; }\n",
       "    </style>\n",
       "<div class=\"wandb-row\"><div class=\"wandb-col\"><h3>Run history:</h3><br/><table class=\"wandb\"><tr><td>Accuracy</td><td>██▅█▁▅███▄███▄▄▄▅▄▄████▅████▅███████▄██▄</td></tr><tr><td>Loss</td><td>▁▂▃▄▅▅▄▆▄▄█▄▅▆▃▆▃▄▆▂▂▂▅▃▂▅▅▂▄▂▂▅▂▂▄▂▂▂▂▂</td></tr></table><br/></div><div class=\"wandb-col\"><h3>Run summary:</h3><br/><table class=\"wandb\"><tr><td>Accuracy</td><td>0.64417</td></tr><tr><td>Loss</td><td>13.32713</td></tr></table><br/></div></div>"
      ],
      "text/plain": [
       "<IPython.core.display.HTML object>"
      ]
     },
     "metadata": {},
     "output_type": "display_data"
    },
    {
     "data": {
      "text/html": [
       " View run <strong style=\"color:#cdcd00\">act:tanh opt:BGD</strong> at: <a href='https://wandb.ai/drbean/MLP-multilabel/runs/hz5dctkb' target=\"_blank\">https://wandb.ai/drbean/MLP-multilabel/runs/hz5dctkb</a><br/>Synced 4 W&B file(s), 0 media file(s), 0 artifact file(s) and 0 other file(s)"
      ],
      "text/plain": [
       "<IPython.core.display.HTML object>"
      ]
     },
     "metadata": {},
     "output_type": "display_data"
    },
    {
     "data": {
      "text/html": [
       "Find logs at: <code>./wandb/run-20231024_144215-hz5dctkb/logs</code>"
      ],
      "text/plain": [
       "<IPython.core.display.HTML object>"
      ]
     },
     "metadata": {},
     "output_type": "display_data"
    },
    {
     "data": {
      "text/html": [
       "wandb version 0.15.12 is available!  To upgrade, please run:\n",
       " $ pip install wandb --upgrade"
      ],
      "text/plain": [
       "<IPython.core.display.HTML object>"
      ]
     },
     "metadata": {},
     "output_type": "display_data"
    },
    {
     "data": {
      "text/html": [
       "Tracking run with wandb version 0.15.11"
      ],
      "text/plain": [
       "<IPython.core.display.HTML object>"
      ]
     },
     "metadata": {},
     "output_type": "display_data"
    },
    {
     "data": {
      "text/html": [
       "Run data is saved locally in <code>/home/amogha/smai/a3/wandb/run-20231024_144226-96t482u2</code>"
      ],
      "text/plain": [
       "<IPython.core.display.HTML object>"
      ]
     },
     "metadata": {},
     "output_type": "display_data"
    },
    {
     "data": {
      "text/html": [
       "Syncing run <strong><a href='https://wandb.ai/drbean/MLP-multilabel/runs/96t482u2' target=\"_blank\">act:tanh opt:MBGD</a></strong> to <a href='https://wandb.ai/drbean/MLP-multilabel' target=\"_blank\">Weights & Biases</a> (<a href='https://wandb.me/run' target=\"_blank\">docs</a>)<br/>"
      ],
      "text/plain": [
       "<IPython.core.display.HTML object>"
      ]
     },
     "metadata": {},
     "output_type": "display_data"
    },
    {
     "data": {
      "text/html": [
       " View project at <a href='https://wandb.ai/drbean/MLP-multilabel' target=\"_blank\">https://wandb.ai/drbean/MLP-multilabel</a>"
      ],
      "text/plain": [
       "<IPython.core.display.HTML object>"
      ]
     },
     "metadata": {},
     "output_type": "display_data"
    },
    {
     "data": {
      "text/html": [
       " View run at <a href='https://wandb.ai/drbean/MLP-multilabel/runs/96t482u2' target=\"_blank\">https://wandb.ai/drbean/MLP-multilabel/runs/96t482u2</a>"
      ],
      "text/plain": [
       "<IPython.core.display.HTML object>"
      ]
     },
     "metadata": {},
     "output_type": "display_data"
    },
    {
     "data": {
      "text/html": [
       "Waiting for W&B process to finish... <strong style=\"color:green\">(success).</strong>"
      ],
      "text/plain": [
       "<IPython.core.display.HTML object>"
      ]
     },
     "metadata": {},
     "output_type": "display_data"
    },
    {
     "data": {
      "text/html": [
       "<style>\n",
       "    table.wandb td:nth-child(1) { padding: 0 10px; text-align: left ; width: auto;} td:nth-child(2) {text-align: left ; width: 100%}\n",
       "    .wandb-row { display: flex; flex-direction: row; flex-wrap: wrap; justify-content: flex-start; width: 100% }\n",
       "    .wandb-col { display: flex; flex-direction: column; flex-basis: 100%; flex: 1; padding: 10px; }\n",
       "    </style>\n",
       "<div class=\"wandb-row\"><div class=\"wandb-col\"><h3>Run history:</h3><br/><table class=\"wandb\"><tr><td>Accuracy</td><td>▁▁▁▁▁▁▁▁▁▁▁▁▁▁▁▁▁▁▁▁▁▁▁▁▁▁▁▁▁▁▁▁▁▁▁▁▁▁▁▁</td></tr><tr><td>Loss</td><td>█▇▆▅▅▄▄▃▃▃▃▃▂▂▂▂▂▂▂▂▂▁▁▁▁▁▁▁▁▁▁▁▁▁▁▁▁▁▁▁</td></tr></table><br/></div><div class=\"wandb-col\"><h3>Run summary:</h3><br/><table class=\"wandb\"><tr><td>Accuracy</td><td>0.64417</td></tr><tr><td>Loss</td><td>5.22588</td></tr></table><br/></div></div>"
      ],
      "text/plain": [
       "<IPython.core.display.HTML object>"
      ]
     },
     "metadata": {},
     "output_type": "display_data"
    },
    {
     "data": {
      "text/html": [
       " View run <strong style=\"color:#cdcd00\">act:tanh opt:MBGD</strong> at: <a href='https://wandb.ai/drbean/MLP-multilabel/runs/96t482u2' target=\"_blank\">https://wandb.ai/drbean/MLP-multilabel/runs/96t482u2</a><br/>Synced 4 W&B file(s), 0 media file(s), 0 artifact file(s) and 0 other file(s)"
      ],
      "text/plain": [
       "<IPython.core.display.HTML object>"
      ]
     },
     "metadata": {},
     "output_type": "display_data"
    },
    {
     "data": {
      "text/html": [
       "Find logs at: <code>./wandb/run-20231024_144226-96t482u2/logs</code>"
      ],
      "text/plain": [
       "<IPython.core.display.HTML object>"
      ]
     },
     "metadata": {},
     "output_type": "display_data"
    },
    {
     "data": {
      "text/html": [
       "wandb version 0.15.12 is available!  To upgrade, please run:\n",
       " $ pip install wandb --upgrade"
      ],
      "text/plain": [
       "<IPython.core.display.HTML object>"
      ]
     },
     "metadata": {},
     "output_type": "display_data"
    },
    {
     "data": {
      "text/html": [
       "Tracking run with wandb version 0.15.11"
      ],
      "text/plain": [
       "<IPython.core.display.HTML object>"
      ]
     },
     "metadata": {},
     "output_type": "display_data"
    },
    {
     "data": {
      "text/html": [
       "Run data is saved locally in <code>/home/amogha/smai/a3/wandb/run-20231024_144250-dxnef0uq</code>"
      ],
      "text/plain": [
       "<IPython.core.display.HTML object>"
      ]
     },
     "metadata": {},
     "output_type": "display_data"
    },
    {
     "data": {
      "text/html": [
       "Syncing run <strong><a href='https://wandb.ai/drbean/MLP-multilabel/runs/dxnef0uq' target=\"_blank\">act:ReLU opt:SGD</a></strong> to <a href='https://wandb.ai/drbean/MLP-multilabel' target=\"_blank\">Weights & Biases</a> (<a href='https://wandb.me/run' target=\"_blank\">docs</a>)<br/>"
      ],
      "text/plain": [
       "<IPython.core.display.HTML object>"
      ]
     },
     "metadata": {},
     "output_type": "display_data"
    },
    {
     "data": {
      "text/html": [
       " View project at <a href='https://wandb.ai/drbean/MLP-multilabel' target=\"_blank\">https://wandb.ai/drbean/MLP-multilabel</a>"
      ],
      "text/plain": [
       "<IPython.core.display.HTML object>"
      ]
     },
     "metadata": {},
     "output_type": "display_data"
    },
    {
     "data": {
      "text/html": [
       " View run at <a href='https://wandb.ai/drbean/MLP-multilabel/runs/dxnef0uq' target=\"_blank\">https://wandb.ai/drbean/MLP-multilabel/runs/dxnef0uq</a>"
      ],
      "text/plain": [
       "<IPython.core.display.HTML object>"
      ]
     },
     "metadata": {},
     "output_type": "display_data"
    },
    {
     "data": {
      "text/html": [
       "Waiting for W&B process to finish... <strong style=\"color:green\">(success).</strong>"
      ],
      "text/plain": [
       "<IPython.core.display.HTML object>"
      ]
     },
     "metadata": {},
     "output_type": "display_data"
    },
    {
     "data": {
      "text/html": [
       "<style>\n",
       "    table.wandb td:nth-child(1) { padding: 0 10px; text-align: left ; width: auto;} td:nth-child(2) {text-align: left ; width: 100%}\n",
       "    .wandb-row { display: flex; flex-direction: row; flex-wrap: wrap; justify-content: flex-start; width: 100% }\n",
       "    .wandb-col { display: flex; flex-direction: column; flex-basis: 100%; flex: 1; padding: 10px; }\n",
       "    </style>\n",
       "<div class=\"wandb-row\"><div class=\"wandb-col\"><h3>Run history:</h3><br/><table class=\"wandb\"><tr><td>Accuracy</td><td>▁▁▁▁▁▁▁▁▁▁▁▁▁▁▁▁▁▁▁▁▁▁▁▁▁▁▁▁▁▁▁▁▁▁▁▁▁▁▁▁</td></tr><tr><td>Loss</td><td>▁███████████████████████████████████████</td></tr></table><br/></div><div class=\"wandb-col\"><h3>Run summary:</h3><br/><table class=\"wandb\"><tr><td>Accuracy</td><td>0.64417</td></tr><tr><td>Loss</td><td>5.22603</td></tr></table><br/></div></div>"
      ],
      "text/plain": [
       "<IPython.core.display.HTML object>"
      ]
     },
     "metadata": {},
     "output_type": "display_data"
    },
    {
     "data": {
      "text/html": [
       " View run <strong style=\"color:#cdcd00\">act:ReLU opt:SGD</strong> at: <a href='https://wandb.ai/drbean/MLP-multilabel/runs/dxnef0uq' target=\"_blank\">https://wandb.ai/drbean/MLP-multilabel/runs/dxnef0uq</a><br/>Synced 4 W&B file(s), 0 media file(s), 0 artifact file(s) and 0 other file(s)"
      ],
      "text/plain": [
       "<IPython.core.display.HTML object>"
      ]
     },
     "metadata": {},
     "output_type": "display_data"
    },
    {
     "data": {
      "text/html": [
       "Find logs at: <code>./wandb/run-20231024_144250-dxnef0uq/logs</code>"
      ],
      "text/plain": [
       "<IPython.core.display.HTML object>"
      ]
     },
     "metadata": {},
     "output_type": "display_data"
    },
    {
     "data": {
      "text/html": [
       "wandb version 0.15.12 is available!  To upgrade, please run:\n",
       " $ pip install wandb --upgrade"
      ],
      "text/plain": [
       "<IPython.core.display.HTML object>"
      ]
     },
     "metadata": {},
     "output_type": "display_data"
    },
    {
     "data": {
      "text/html": [
       "Tracking run with wandb version 0.15.11"
      ],
      "text/plain": [
       "<IPython.core.display.HTML object>"
      ]
     },
     "metadata": {},
     "output_type": "display_data"
    },
    {
     "data": {
      "text/html": [
       "Run data is saved locally in <code>/home/amogha/smai/a3/wandb/run-20231024_145029-8w2y5lz4</code>"
      ],
      "text/plain": [
       "<IPython.core.display.HTML object>"
      ]
     },
     "metadata": {},
     "output_type": "display_data"
    },
    {
     "data": {
      "text/html": [
       "Syncing run <strong><a href='https://wandb.ai/drbean/MLP-multilabel/runs/8w2y5lz4' target=\"_blank\">act:ReLU opt:BGD</a></strong> to <a href='https://wandb.ai/drbean/MLP-multilabel' target=\"_blank\">Weights & Biases</a> (<a href='https://wandb.me/run' target=\"_blank\">docs</a>)<br/>"
      ],
      "text/plain": [
       "<IPython.core.display.HTML object>"
      ]
     },
     "metadata": {},
     "output_type": "display_data"
    },
    {
     "data": {
      "text/html": [
       " View project at <a href='https://wandb.ai/drbean/MLP-multilabel' target=\"_blank\">https://wandb.ai/drbean/MLP-multilabel</a>"
      ],
      "text/plain": [
       "<IPython.core.display.HTML object>"
      ]
     },
     "metadata": {},
     "output_type": "display_data"
    },
    {
     "data": {
      "text/html": [
       " View run at <a href='https://wandb.ai/drbean/MLP-multilabel/runs/8w2y5lz4' target=\"_blank\">https://wandb.ai/drbean/MLP-multilabel/runs/8w2y5lz4</a>"
      ],
      "text/plain": [
       "<IPython.core.display.HTML object>"
      ]
     },
     "metadata": {},
     "output_type": "display_data"
    },
    {
     "data": {
      "text/html": [
       "Waiting for W&B process to finish... <strong style=\"color:green\">(success).</strong>"
      ],
      "text/plain": [
       "<IPython.core.display.HTML object>"
      ]
     },
     "metadata": {},
     "output_type": "display_data"
    },
    {
     "data": {
      "text/html": [
       "<style>\n",
       "    table.wandb td:nth-child(1) { padding: 0 10px; text-align: left ; width: auto;} td:nth-child(2) {text-align: left ; width: 100%}\n",
       "    .wandb-row { display: flex; flex-direction: row; flex-wrap: wrap; justify-content: flex-start; width: 100% }\n",
       "    .wandb-col { display: flex; flex-direction: column; flex-basis: 100%; flex: 1; padding: 10px; }\n",
       "    </style>\n",
       "<div class=\"wandb-row\"><div class=\"wandb-col\"><h3>Run history:</h3><br/><table class=\"wandb\"><tr><td>Accuracy</td><td>▁▁▁▁▁▁▁▁▁▁▁▁▁▁▁▁▁▁▁▁▁▁▁▁▁▁▁▁▁▁▁▁▁▁▁▁▁▁▁▁</td></tr><tr><td>Loss</td><td>█▁▁▁▁▁▁▁▁▁▁▁▁▁▁▁▁▁▁▁▁▁▁▁▁▁▁▁▁▁▁▁▁▁▁▁▁▁▁▁</td></tr></table><br/></div><div class=\"wandb-col\"><h3>Run summary:</h3><br/><table class=\"wandb\"><tr><td>Accuracy</td><td>0.64417</td></tr><tr><td>Loss</td><td>5.22545</td></tr></table><br/></div></div>"
      ],
      "text/plain": [
       "<IPython.core.display.HTML object>"
      ]
     },
     "metadata": {},
     "output_type": "display_data"
    },
    {
     "data": {
      "text/html": [
       " View run <strong style=\"color:#cdcd00\">act:ReLU opt:BGD</strong> at: <a href='https://wandb.ai/drbean/MLP-multilabel/runs/8w2y5lz4' target=\"_blank\">https://wandb.ai/drbean/MLP-multilabel/runs/8w2y5lz4</a><br/>Synced 4 W&B file(s), 0 media file(s), 0 artifact file(s) and 0 other file(s)"
      ],
      "text/plain": [
       "<IPython.core.display.HTML object>"
      ]
     },
     "metadata": {},
     "output_type": "display_data"
    },
    {
     "data": {
      "text/html": [
       "Find logs at: <code>./wandb/run-20231024_145029-8w2y5lz4/logs</code>"
      ],
      "text/plain": [
       "<IPython.core.display.HTML object>"
      ]
     },
     "metadata": {},
     "output_type": "display_data"
    },
    {
     "data": {
      "text/html": [
       "wandb version 0.15.12 is available!  To upgrade, please run:\n",
       " $ pip install wandb --upgrade"
      ],
      "text/plain": [
       "<IPython.core.display.HTML object>"
      ]
     },
     "metadata": {},
     "output_type": "display_data"
    },
    {
     "data": {
      "text/html": [
       "Tracking run with wandb version 0.15.11"
      ],
      "text/plain": [
       "<IPython.core.display.HTML object>"
      ]
     },
     "metadata": {},
     "output_type": "display_data"
    },
    {
     "data": {
      "text/html": [
       "Run data is saved locally in <code>/home/amogha/smai/a3/wandb/run-20231024_145041-1jbr1x38</code>"
      ],
      "text/plain": [
       "<IPython.core.display.HTML object>"
      ]
     },
     "metadata": {},
     "output_type": "display_data"
    },
    {
     "data": {
      "text/html": [
       "Syncing run <strong><a href='https://wandb.ai/drbean/MLP-multilabel/runs/1jbr1x38' target=\"_blank\">act:ReLU opt:MBGD</a></strong> to <a href='https://wandb.ai/drbean/MLP-multilabel' target=\"_blank\">Weights & Biases</a> (<a href='https://wandb.me/run' target=\"_blank\">docs</a>)<br/>"
      ],
      "text/plain": [
       "<IPython.core.display.HTML object>"
      ]
     },
     "metadata": {},
     "output_type": "display_data"
    },
    {
     "data": {
      "text/html": [
       " View project at <a href='https://wandb.ai/drbean/MLP-multilabel' target=\"_blank\">https://wandb.ai/drbean/MLP-multilabel</a>"
      ],
      "text/plain": [
       "<IPython.core.display.HTML object>"
      ]
     },
     "metadata": {},
     "output_type": "display_data"
    },
    {
     "data": {
      "text/html": [
       " View run at <a href='https://wandb.ai/drbean/MLP-multilabel/runs/1jbr1x38' target=\"_blank\">https://wandb.ai/drbean/MLP-multilabel/runs/1jbr1x38</a>"
      ],
      "text/plain": [
       "<IPython.core.display.HTML object>"
      ]
     },
     "metadata": {},
     "output_type": "display_data"
    },
    {
     "data": {
      "text/html": [
       "Waiting for W&B process to finish... <strong style=\"color:green\">(success).</strong>"
      ],
      "text/plain": [
       "<IPython.core.display.HTML object>"
      ]
     },
     "metadata": {},
     "output_type": "display_data"
    },
    {
     "data": {
      "text/html": [
       "<style>\n",
       "    table.wandb td:nth-child(1) { padding: 0 10px; text-align: left ; width: auto;} td:nth-child(2) {text-align: left ; width: 100%}\n",
       "    .wandb-row { display: flex; flex-direction: row; flex-wrap: wrap; justify-content: flex-start; width: 100% }\n",
       "    .wandb-col { display: flex; flex-direction: column; flex-basis: 100%; flex: 1; padding: 10px; }\n",
       "    </style>\n",
       "<div class=\"wandb-row\"><div class=\"wandb-col\"><h3>Run history:</h3><br/><table class=\"wandb\"><tr><td>Accuracy</td><td>▁▁▁▁▁▁▁▁▁▁▁▁▁▁▁▁▁▁▁▁▁▁▁▁▁▁▁▁▁▁▁▁▁▁▁▁▁▁▁▁</td></tr><tr><td>Loss</td><td>▁███████████████████████████████████████</td></tr></table><br/></div><div class=\"wandb-col\"><h3>Run summary:</h3><br/><table class=\"wandb\"><tr><td>Accuracy</td><td>0.64417</td></tr><tr><td>Loss</td><td>5.22609</td></tr></table><br/></div></div>"
      ],
      "text/plain": [
       "<IPython.core.display.HTML object>"
      ]
     },
     "metadata": {},
     "output_type": "display_data"
    },
    {
     "data": {
      "text/html": [
       " View run <strong style=\"color:#cdcd00\">act:ReLU opt:MBGD</strong> at: <a href='https://wandb.ai/drbean/MLP-multilabel/runs/1jbr1x38' target=\"_blank\">https://wandb.ai/drbean/MLP-multilabel/runs/1jbr1x38</a><br/>Synced 4 W&B file(s), 0 media file(s), 0 artifact file(s) and 0 other file(s)"
      ],
      "text/plain": [
       "<IPython.core.display.HTML object>"
      ]
     },
     "metadata": {},
     "output_type": "display_data"
    },
    {
     "data": {
      "text/html": [
       "Find logs at: <code>./wandb/run-20231024_145041-1jbr1x38/logs</code>"
      ],
      "text/plain": [
       "<IPython.core.display.HTML object>"
      ]
     },
     "metadata": {},
     "output_type": "display_data"
    },
    {
     "name": "stdout",
     "output_type": "stream",
     "text": [
      "+------------+-----------+----------+----------+-----------+--------+\n",
      "| Activation | Optimizer | F1-score | Accuracy | Precision | Recall |\n",
      "+------------+-----------+----------+----------+-----------+--------+\n",
      "|  sigmoid   |    SGD    |  0.1667  |  0.3333  |   0.1111  | 0.3333 |\n",
      "|  sigmoid   |    BGD    |  0.1667  |  0.3333  |   0.1111  | 0.3333 |\n",
      "|  sigmoid   |    MBGD   |  0.1667  |  0.3333  |   0.1111  | 0.3333 |\n",
      "|    tanh    |    SGD    |  0.1667  |  0.3333  |   0.1111  | 0.3333 |\n",
      "|    tanh    |    BGD    |  0.0008  |   0.02   |   0.0004  |  0.02  |\n",
      "|    tanh    |    MBGD   |  0.1667  |  0.3333  |   0.1111  | 0.3333 |\n",
      "|    ReLU    |    SGD    |  0.1667  |  0.3333  |   0.1111  | 0.3333 |\n",
      "|    ReLU    |    BGD    |  0.1667  |  0.3333  |   0.1111  | 0.3333 |\n",
      "|    ReLU    |    MBGD   |  0.1667  |  0.3333  |   0.1111  | 0.3333 |\n",
      "+------------+-----------+----------+----------+-----------+--------+\n"
     ]
    }
   ],
   "source": [
    "activations = ['sigmoid', 'tanh', 'ReLU']\n",
    "algorithms = [['SGD', 1], ['BGD', x_train.shape[0]], ['MBGD', 32]]\n",
    "\n",
    "t = PrettyTable(['Activation', 'Optimizer', 'F1-score', 'Accuracy', 'Precision', 'Recall'])\n",
    "for activation in activations:\n",
    "    for algo in algorithms:\n",
    "        str = 'act:{} opt:{}'.format(activation, algo[0])\n",
    "        wandb.init(project=\"MLP-multilabel\", config={\"activation\": activation, \"optimizer\": algo[0]}, name=str)\n",
    "        layer = get_nodes(5, 10, 11)\n",
    "        model = MultiNetwork(layer, activation, 0.01)\n",
    "        model.set_algorithm(algo)\n",
    "        model.fit_wandb(x_train, y_train, x_valid, y_valid, 1000)\n",
    "\n",
    "        y_pred = model.predict(x_valid)\n",
    "        scores = get_scores(y_valid, y_pred)\n",
    "        t.add_row([activation, algo[0]]+scores)\n",
    "        wandb.finish()\n",
    "print(t)"
   ]
  },
  {
   "cell_type": "code",
   "execution_count": 92,
   "metadata": {},
   "outputs": [
    {
     "name": "stdout",
     "output_type": "stream",
     "text": [
      "+---------+---------------+----------------+----------+----------+-----------+--------+\n",
      "| #Epochs | Learning Rate | Hidden neurons | F1-score | Accuracy | Precision | Recall |\n",
      "+---------+---------------+----------------+----------+----------+-----------+--------+\n",
      "|   100   |      0.1      |       10       |  0.1667  |  0.3333  |   0.1111  | 0.3333 |\n",
      "|   100   |      0.1      |       25       |  0.1667  |  0.3333  |   0.1111  | 0.3333 |\n",
      "|   100   |      0.1      |       50       |  0.1667  |  0.3333  |   0.1111  | 0.3333 |\n",
      "|   100   |      0.01     |       10       |  0.1667  |  0.3333  |   0.1111  | 0.3333 |\n",
      "|   100   |      0.01     |       25       |  0.1667  |  0.3333  |   0.1111  | 0.3333 |\n",
      "|   100   |      0.01     |       50       |  0.1667  |  0.3333  |   0.1111  | 0.3333 |\n",
      "|   100   |     0.001     |       10       |  0.1667  |  0.3333  |   0.1111  | 0.3333 |\n",
      "|   100   |     0.001     |       25       |  0.1667  |  0.3333  |   0.1111  | 0.3333 |\n",
      "|   100   |     0.001     |       50       |  0.1667  |  0.3333  |   0.1111  | 0.3333 |\n",
      "|   1000  |      0.1      |       10       |  0.1667  |  0.3333  |   0.1111  | 0.3333 |\n",
      "|   1000  |      0.1      |       25       |  0.1667  |  0.3333  |   0.1111  | 0.3333 |\n",
      "|   1000  |      0.1      |       50       |  0.1667  |  0.3333  |   0.1111  | 0.3333 |\n",
      "|   1000  |      0.01     |       10       |  0.1667  |  0.3333  |   0.1111  | 0.3333 |\n",
      "|   1000  |      0.01     |       25       |  0.1667  |  0.3333  |   0.1111  | 0.3333 |\n",
      "|   1000  |      0.01     |       50       |  0.1667  |  0.3333  |   0.1111  | 0.3333 |\n",
      "|   1000  |     0.001     |       10       |  0.1667  |  0.3333  |   0.1111  | 0.3333 |\n",
      "|   1000  |     0.001     |       25       |  0.1667  |  0.3333  |   0.1111  | 0.3333 |\n",
      "|   1000  |     0.001     |       50       |  0.1667  |  0.3333  |   0.1111  | 0.3333 |\n",
      "+---------+---------------+----------------+----------+----------+-----------+--------+\n"
     ]
    }
   ],
   "source": [
    "learn_rate = [0.1, 0.01, 0.001]\n",
    "hidden_layers = [10, 25, 50]\n",
    "epochs = [100, 1000]\n",
    "\n",
    "t = PrettyTable(['#Epochs', 'Learning Rate', 'Hidden neurons', 'F1-score', 'Accuracy', 'Precision', 'Recall'])\n",
    "for n_epochs in epochs:\n",
    "    for rate in learn_rate:\n",
    "        for layer in hidden_layers:\n",
    "            layers = get_nodes(5, layer, layer+1)\n",
    "            model = MultiNetwork(layers, 'ReLU', rate)\n",
    "            model.set_algorithm(['MBGD', 32])\n",
    "            model.fit(x_train, y_train, n_epochs)\n",
    "\n",
    "            y_pred = model.predict(x_valid)\n",
    "            scores = get_scores(y_valid, y_pred)\n",
    "            t.add_row([n_epochs, rate, layer]+scores)\n",
    "print(t)"
   ]
  },
  {
   "cell_type": "code",
   "execution_count": 96,
   "metadata": {},
   "outputs": [
    {
     "name": "stdout",
     "output_type": "stream",
     "text": [
      "+-----------+--------+\n",
      "|  Measure  | Value  |\n",
      "+-----------+--------+\n",
      "|  F1-score | 0.1331 |\n",
      "|  Accuracy | 0.2933 |\n",
      "| Precision | 0.086  |\n",
      "|   Recall  | 0.2933 |\n",
      "+-----------+--------+\n"
     ]
    }
   ],
   "source": [
    "# Evaluate the model on test dataset\n",
    "layer = get_nodes(5, 25, 26)\n",
    "model = Network(layers, 'ReLU', 0.01)\n",
    "model.set_algorithm(['MBGD', 32])\n",
    "model.fit(x_train, y_train, 100)\n",
    "\n",
    "y_pred = model.predict(x_test)\n",
    "print_results(y_test, y_pred)"
   ]
  }
 ],
 "metadata": {
  "kernelspec": {
   "display_name": "Python 3",
   "language": "python",
   "name": "python3"
  },
  "language_info": {
   "codemirror_mode": {
    "name": "ipython",
    "version": 3
   },
   "file_extension": ".py",
   "mimetype": "text/x-python",
   "name": "python",
   "nbconvert_exporter": "python",
   "pygments_lexer": "ipython3",
   "version": "3.10.12"
  }
 },
 "nbformat": 4,
 "nbformat_minor": 2
}
