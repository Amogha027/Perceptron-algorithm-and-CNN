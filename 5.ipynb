{
 "cells": [
  {
   "cell_type": "code",
   "execution_count": 4,
   "metadata": {},
   "outputs": [],
   "source": [
    "import os\n",
    "import sys\n",
    "import torch\n",
    "import random\n",
    "import warnings\n",
    "import numpy as np\n",
    "import torch.nn as nn\n",
    "\n",
    "from PIL import Image\n",
    "from torch import optim\n",
    "from sklearn.utils import shuffle\n",
    "from prettytable import PrettyTable\n",
    "from matplotlib import pyplot as plt\n",
    "from sklearn.metrics import hamming_loss\n",
    "from sklearn.model_selection import train_test_split\n",
    "from torch.utils.data import DataLoader, TensorDataset\n",
    "\n",
    "warnings.filterwarnings('ignore')\n",
    "np.set_printoptions(threshold=sys.maxsize)"
   ]
  },
  {
   "cell_type": "code",
   "execution_count": 17,
   "metadata": {},
   "outputs": [],
   "source": [
    "def load_data(path):\n",
    "    images, labels = [], []\n",
    "    for dir in os.listdir(path):\n",
    "        indir = os.path.join(path, dir)\n",
    "        for file in os.listdir(indir):\n",
    "            img_path = os.path.join(indir, file)\n",
    "            image = Image.open(img_path)\n",
    "            images.append(np.array(image))\n",
    "            digit1 = int(img_path.split('_')[-1][0])\n",
    "            digit2 = int(img_path.split('_')[-1][1])\n",
    "            label = [0]*10\n",
    "            label[digit1] = 1\n",
    "            label[digit2] = 1\n",
    "            labels.append(label)\n",
    "    return images, labels\n",
    "\n",
    "def display_images(images, labels, num=5):\n",
    "    indices = random.sample(range(len(images)), num)\n",
    "    plt.figure(figsize=(10, 2))\n",
    "    for i, idx in enumerate(indices):\n",
    "        plt.subplot(1, num, i+1)\n",
    "        plt.imshow(images[idx], cmap='gray')\n",
    "        plt.axis('off')\n",
    "    plt.show()\n",
    "\n",
    "def filter_data(x_train, y_train):\n",
    "    images, labels = [], []\n",
    "    for (x, y) in zip(x_train, y_train):\n",
    "        if y.count(1) != 1:\n",
    "            images.append(x)\n",
    "            labels.append(y)\n",
    "    return images, labels"
   ]
  },
  {
   "cell_type": "code",
   "execution_count": 18,
   "metadata": {},
   "outputs": [],
   "source": [
    "# Load all the datasets\n",
    "train_path = 'double_mnist_seed_123_image_size_64_64/train/'\n",
    "x_train, y_train = load_data(train_path)\n",
    "\n",
    "val_path = 'double_mnist_seed_123_image_size_64_64/val/'\n",
    "x_valid, y_valid = load_data(val_path)\n",
    "\n",
    "test_path = 'double_mnist_seed_123_image_size_64_64/test/'\n",
    "x_test, y_test = load_data(test_path)"
   ]
  },
  {
   "cell_type": "code",
   "execution_count": 19,
   "metadata": {},
   "outputs": [
    {
     "data": {
      "image/png": "[encoded data removed]",
      "text/plain": [
       "<Figure size 1000x200 with 5 Axes>"
      ]
     },
     "metadata": {},
     "output_type": "display_data"
    }
   ],
   "source": [
    "# Display the sample images and exclude images where same digit appears twice\n",
    "display_images(x_train, y_train)\n",
    "x_train, y_train = filter_data(x_train, y_train)\n",
    "x_train, y_train = shuffle(x_train, y_train)\n",
    "\n",
    "trainset = TensorDataset(torch.Tensor(x_train), torch.LongTensor(y_train))\n",
    "valset = TensorDataset(torch.Tensor(x_valid), torch.LongTensor(y_valid))\n",
    "testset = TensorDataset(torch.Tensor(x_test), torch.LongTensor(y_test))\n",
    "\n",
    "trainloader = DataLoader(trainset, batch_size=64, shuffle=True)\n",
    "valloader = DataLoader(valset, batch_size=64, shuffle=False)\n",
    "testloader = DataLoader(testset, batch_size=64, shuffle=False)"
   ]
  },
  {
   "cell_type": "code",
   "execution_count": 12,
   "metadata": {},
   "outputs": [],
   "source": [
    "class multiMLP(nn.Module):\n",
    "    def __init__(self, input_size, hidden_sizes, output_size=10):\n",
    "        super(multiMLP, self).__init__()\n",
    "        self.flatten = nn.Flatten()\n",
    "        self.hidden_layers = nn.ModuleList([nn.Linear(input_size, hidden_sizes[0])])\n",
    "        self.hidden_layers.extend([nn.Linear(hidden_sizes[i-1], hidden_sizes[i]) for i in range(1, len(hidden_sizes))])\n",
    "        self.output_layer = nn.Linear(hidden_sizes[-1], output_size)\n",
    "\n",
    "    def forward(self, x):\n",
    "        x = self.flatten(x)\n",
    "        for layer in self.hidden_layers:\n",
    "            x = torch.relu(layer(x))\n",
    "        x = self.output_layer(x)\n",
    "        x = torch.sigmoid(x)\n",
    "        return x"
   ]
  },
  {
   "cell_type": "code",
   "execution_count": 13,
   "metadata": {},
   "outputs": [],
   "source": [
    "def train(model, loss_func, optimizer, trainloader):\n",
    "    n_epochs = 10\n",
    "    for i in range(n_epochs):\n",
    "        model.train()\n",
    "        for (image, label) in trainloader:\n",
    "            optimizer.zero_grad()\n",
    "            output = model(image)\n",
    "            loss = loss_func(output, label.float())\n",
    "            loss.backward()\n",
    "            optimizer.step()\n",
    "\n",
    "def evaluate(model, dataloader):\n",
    "    model.eval()\n",
    "    threshold, hamming_dist = 0.5, 0\n",
    "    with torch.no_grad():\n",
    "        total = 0\n",
    "        for (image, label) in dataloader:\n",
    "            total += 1\n",
    "            output = model(image)\n",
    "            output = (output >= threshold).int()\n",
    "            hamming_dist += 1 - hamming_loss(label, output)\n",
    "    return hamming_dist / total"
   ]
  },
  {
   "cell_type": "code",
   "execution_count": 36,
   "metadata": {},
   "outputs": [
    {
     "name": "stdout",
     "output_type": "stream",
     "text": [
      "+-----------------------------+----------------+--------------+\n",
      "| Hidden layers configuration | Train Accuracy | Val Accuracy |\n",
      "+-----------------------------+----------------+--------------+\n",
      "|           [64, 32]          |     0.8772     |    0.7813    |\n",
      "|        [128, 64, 32]        |     0.9198     |    0.8151    |\n",
      "|        [256, 128, 64]       |     0.9484     |    0.8326    |\n",
      "|       [128, 128, 128]       |     0.9242     |    0.815     |\n",
      "|        [32, 64, 128]        |     0.8405     |    0.7509    |\n",
      "+-----------------------------+----------------+--------------+\n"
     ]
    }
   ],
   "source": [
    "# MLP training on multi mnist dataset\n",
    "input_size = 64*64\n",
    "hidden_layers = [[64, 32], [128, 64, 32], [256, 128, 64], [128, 128, 128], [32, 64, 128]]\n",
    "\n",
    "t = PrettyTable(['Hidden layers configuration', 'Train Accuracy', 'Val Accuracy'])\n",
    "for hidden_size in hidden_layers:\n",
    "    mlp = multiMLP(input_size, hidden_size)\n",
    "    loss_func = nn.CrossEntropyLoss()\n",
    "    optimizer = optim.Adam(mlp.parameters(), lr=0.0001)\n",
    "\n",
    "    train(mlp, loss_func, optimizer, trainloader)\n",
    "    t_accuracy = evaluate(mlp, trainloader)\n",
    "    v_accuracy = evaluate(mlp, valloader)\n",
    "    t.add_row([hidden_size, round(t_accuracy, 4), round(v_accuracy, 4)])\n",
    "print(t)"
   ]
  },
  {
   "cell_type": "code",
   "execution_count": 14,
   "metadata": {},
   "outputs": [],
   "source": [
    "# define the cnn class for the multi mnist dataset\n",
    "class multiCNN(nn.Module):\n",
    "    def __init__(self, ks=(3, 3), p=1, rate=0.2):\n",
    "        super(multiCNN, self).__init__()\n",
    "        self.conv1 = nn.Sequential(\n",
    "            nn.Conv2d(in_channels=1, out_channels=16, kernel_size=ks, stride=1, padding=p),\n",
    "            nn.ReLU(),\n",
    "            nn.MaxPool2d(kernel_size=2, stride=2)\n",
    "        )\n",
    "        self.conv2 = nn.Sequential(\n",
    "            nn.Conv2d(in_channels=16, out_channels=32, kernel_size=ks, stride=1, padding=p),\n",
    "            nn.ReLU(),\n",
    "            nn.MaxPool2d(kernel_size=2, stride=2)\n",
    "        )\n",
    "        self.dropout = nn.Dropout(p=rate)\n",
    "        self.out = nn.Linear(16*16*32, 10)\n",
    "\n",
    "    def forward(self, x):\n",
    "        x = x.view(-1, 1, 64, 64)\n",
    "        x = self.conv1(x)\n",
    "        x = self.conv2(x)\n",
    "        x = x.view(-1, 16*16*32)\n",
    "        x = self.dropout(x)\n",
    "        x = self.out(x)\n",
    "        x = torch.sigmoid(x)\n",
    "        return x"
   ]
  },
  {
   "cell_type": "code",
   "execution_count": 24,
   "metadata": {},
   "outputs": [
    {
     "name": "stdout",
     "output_type": "stream",
     "text": [
      "+---------------+--------------+-------------+---------+----------------+--------------+\n",
      "| Learning rate | Dropout Rate | Kernel size | padding | Train Accuracy | Val Accuracy |\n",
      "+---------------+--------------+-------------+---------+----------------+--------------+\n",
      "|     0.001     |     0.2      |    (3, 3)   |    1    |     0.8688     |    0.8369    |\n",
      "|     0.001     |     0.2      |    (5, 5)   |    2    |     0.8755     |    0.8484    |\n",
      "|     0.001     |     0.5      |    (3, 3)   |    1    |     0.8125     |    0.7999    |\n",
      "|     0.001     |     0.5      |    (5, 5)   |    2    |     0.8696     |    0.8409    |\n",
      "|      0.01     |     0.2      |    (3, 3)   |    1    |     0.8772     |    0.8405    |\n",
      "|      0.01     |     0.2      |    (5, 5)   |    2    |     0.8717     |    0.8319    |\n",
      "|      0.01     |     0.5      |    (3, 3)   |    1    |     0.8462     |    0.8151    |\n",
      "|      0.01     |     0.5      |    (5, 5)   |    2    |     0.8713     |    0.8284    |\n",
      "|      0.1      |     0.2      |    (3, 3)   |    1    |     0.8045     |    0.7826    |\n",
      "|      0.1      |     0.2      |    (5, 5)   |    2    |     0.8274     |    0.8032    |\n",
      "|      0.1      |     0.5      |    (3, 3)   |    1    |     0.8135     |    0.7934    |\n",
      "|      0.1      |     0.5      |    (5, 5)   |    2    |     0.8429     |    0.8357    |\n",
      "+---------------+--------------+-------------+---------+----------------+--------------+\n"
     ]
    }
   ],
   "source": [
    "# CNN training on multi mnist dataset\n",
    "padding = [1, 2]\n",
    "dropout_rates = [0.2, 0.5]\n",
    "kernel_sizes = [(3,3), (5,5)]\n",
    "learn_rate = [0.001, 0.01, 0.1]\n",
    "\n",
    "t = PrettyTable(['Learning rate', 'Dropout Rate', 'Kernel size', 'padding', 'Train Accuracy', 'Val Accuracy'])\n",
    "for rate in learn_rate:\n",
    "    for dr in dropout_rates:\n",
    "        for (ks, p) in zip(kernel_sizes, padding):\n",
    "            cnn = multiCNN(ks, p, dr)\n",
    "            loss_func = nn.CrossEntropyLoss()\n",
    "            optimizer = optim.Adam(cnn.parameters(), lr=rate)\n",
    "            train(cnn, loss_func, optimizer, trainloader)\n",
    "            t_accuracy = evaluate(cnn, trainloader)\n",
    "            v_accuracy = evaluate(cnn, valloader)\n",
    "            t.add_row([rate, dr, ks, p, round(t_accuracy, 4), round(v_accuracy, 4)])\n",
    "print(t)"
   ]
  },
  {
   "cell_type": "code",
   "execution_count": 20,
   "metadata": {},
   "outputs": [
    {
     "name": "stdout",
     "output_type": "stream",
     "text": [
      "Test Accuracy using MLP: 0.8362\n",
      "Test Accuracy using CNN: 0.8858\n"
     ]
    }
   ],
   "source": [
    "# Evaluate on the test dataset\n",
    "mlp = multiMLP(64*64, [256, 128, 64])\n",
    "loss_func = nn.CrossEntropyLoss()\n",
    "optimizer = optim.Adam(mlp.parameters(), lr=0.0001)\n",
    "train(mlp, loss_func, optimizer, trainloader)\n",
    "mlp_accuracy = evaluate(mlp, testloader)\n",
    "\n",
    "cnn = multiCNN()\n",
    "loss_func = nn.CrossEntropyLoss()\n",
    "optimizer = optim.Adam(cnn.parameters(), lr=0.001)\n",
    "train(cnn, loss_func, optimizer, trainloader)\n",
    "cnn_accuracy = evaluate(cnn, testloader)\n",
    "\n",
    "print('Test Accuracy using MLP: {:.4f}'.format(mlp_accuracy))\n",
    "print('Test Accuracy using CNN: {:.4f}'.format(cnn_accuracy))"
   ]
  },
  {
   "cell_type": "code",
   "execution_count": 6,
   "metadata": {},
   "outputs": [],
   "source": [
    "# Load the permuted dataset\n",
    "data = np.load(\"permuted_mnist.npz\")\n",
    "# print(data.files)\n",
    "\n",
    "x_train, y_train = data[\"train_images\"], data[\"train_labels\"]\n",
    "x_test, y_test = data[\"test_images\"], data[\"test_labels\"]\n",
    "x_train, x_valid, y_train, y_valid = train_test_split(x_train, y_train, test_size=0.2)\n",
    "\n",
    "trainset = TensorDataset(torch.Tensor(x_train), torch.LongTensor(y_train))\n",
    "valset = TensorDataset(torch.Tensor(x_valid), torch.LongTensor(y_valid))\n",
    "testset = TensorDataset(torch.Tensor(x_test), torch.LongTensor(y_test))\n",
    "\n",
    "trainloader = DataLoader(trainset, batch_size=64, shuffle=True)\n",
    "valloader = DataLoader(valset, batch_size=64, shuffle=False)\n",
    "testloader = DataLoader(testset, batch_size=64, shuffle=False)"
   ]
  },
  {
   "cell_type": "code",
   "execution_count": 5,
   "metadata": {},
   "outputs": [],
   "source": [
    "class MLP(nn.Module):\n",
    "    def __init__(self, input_size, hidden_sizes, output_size=10):\n",
    "        super(MLP, self).__init__()\n",
    "        self.flatten = nn.Flatten()\n",
    "        self.hidden_layers = nn.ModuleList([nn.Linear(input_size, hidden_sizes[0])])\n",
    "        self.hidden_layers.extend([nn.Linear(hidden_sizes[i-1], hidden_sizes[i]) for i in range(1, len(hidden_sizes))])\n",
    "        self.output_layer = nn.Linear(hidden_sizes[-1], output_size)\n",
    "\n",
    "    def forward(self, x):\n",
    "        x = self.flatten(x)\n",
    "        for layer in self.hidden_layers:\n",
    "            x = torch.relu(layer(x))\n",
    "        x = self.output_layer(x)\n",
    "        return x"
   ]
  },
  {
   "cell_type": "code",
   "execution_count": 7,
   "metadata": {},
   "outputs": [],
   "source": [
    "def train_p(model, loss_func, optimizer, trainloader):\n",
    "    n_epochs = 10\n",
    "    for i in range(n_epochs):\n",
    "        model.train()\n",
    "        for (image, label) in trainloader:\n",
    "            optimizer.zero_grad()\n",
    "            output = model(image)\n",
    "            loss = loss_func(output, label)\n",
    "            loss.backward()\n",
    "            optimizer.step()\n",
    "\n",
    "def evaluate_p(model, dataloader):\n",
    "    model.eval()\n",
    "    with torch.no_grad():\n",
    "        correct, total = 0, 0\n",
    "        for (image, label) in dataloader:\n",
    "            output = model(image)\n",
    "            _, predicted = torch.max(output.data, 1)\n",
    "            total += label.size(0)\n",
    "            correct += (predicted == label).sum().item()\n",
    "    return correct / total"
   ]
  },
  {
   "cell_type": "code",
   "execution_count": 25,
   "metadata": {},
   "outputs": [
    {
     "name": "stdout",
     "output_type": "stream",
     "text": [
      "+-----------------------------+----------------+--------------+\n",
      "| Hidden layers configuration | Train Accuracy | Val Accuracy |\n",
      "+-----------------------------+----------------+--------------+\n",
      "|           [64, 32]          |     0.886      |    0.8592    |\n",
      "|        [128, 64, 32]        |     0.8947     |    0.8673    |\n",
      "|        [256, 128, 64]       |     0.8975     |    0.8746    |\n",
      "|       [128, 128, 128]       |     0.8969     |    0.8704    |\n",
      "|        [32, 64, 128]        |     0.8781     |    0.8567    |\n",
      "+-----------------------------+----------------+--------------+\n"
     ]
    }
   ],
   "source": [
    "# MLP training on Permuted mnist dataset\n",
    "input_size, output_size = 28*28, 10\n",
    "hidden_layers = [[64, 32], [128, 64, 32], [256, 128, 64], [128, 128, 128], [32, 64, 128]]\n",
    "\n",
    "t = PrettyTable(['Hidden layers configuration', 'Train Accuracy', 'Val Accuracy'])\n",
    "for hidden_size in hidden_layers:\n",
    "    mlp = MLP(input_size, hidden_size, output_size)\n",
    "    loss_func = nn.CrossEntropyLoss()\n",
    "    optimizer = optim.Adam(mlp.parameters(), lr=0.0001)\n",
    "\n",
    "    train_p(mlp, loss_func, optimizer, trainloader)\n",
    "    t_accuracy = evaluate_p(mlp, trainloader)\n",
    "    v_accuracy = evaluate_p(mlp, valloader)\n",
    "    t.add_row([hidden_size, round(t_accuracy, 4), round(v_accuracy, 4)])\n",
    "print(t)"
   ]
  },
  {
   "cell_type": "code",
   "execution_count": 9,
   "metadata": {},
   "outputs": [],
   "source": [
    "# define the cnn class for permuted dataset\n",
    "class CNN(nn.Module):\n",
    "    def __init__(self, ks=(3, 3), p=1, rate=0.2):\n",
    "        super(CNN, self).__init__()\n",
    "        self.conv1 = nn.Sequential(\n",
    "            nn.Conv2d(in_channels=1, out_channels=16, kernel_size=ks, stride=1, padding=p),\n",
    "            nn.ReLU(),\n",
    "            nn.MaxPool2d(kernel_size=2, stride=2)\n",
    "        )\n",
    "        self.conv2 = nn.Sequential(\n",
    "            nn.Conv2d(in_channels=16, out_channels=32, kernel_size=ks, stride=1, padding=p),\n",
    "            nn.ReLU(),\n",
    "            nn.MaxPool2d(kernel_size=2, stride=2)\n",
    "        )\n",
    "        self.dropout = nn.Dropout(p=rate)\n",
    "        self.out = nn.Linear(7*7*32, 10)\n",
    "        self.softmax = nn.Softmax(dim=1)\n",
    "\n",
    "    def forward(self, x):\n",
    "        x = x.view(-1, 1, 28, 28)\n",
    "        x = self.conv1(x)\n",
    "        x = self.conv2(x)\n",
    "        x = x.view(-1, 7*7*32)\n",
    "        x = self.dropout(x)\n",
    "        x = self.out(x)\n",
    "        x = self.softmax(x)\n",
    "        return x"
   ]
  },
  {
   "cell_type": "code",
   "execution_count": 31,
   "metadata": {},
   "outputs": [
    {
     "name": "stdout",
     "output_type": "stream",
     "text": [
      "+---------------+--------------+-------------+---------+----------------+--------------+\n",
      "| Learning rate | Dropout Rate | Kernel size | padding | Train Accuracy | Val Accuracy |\n",
      "+---------------+--------------+-------------+---------+----------------+--------------+\n",
      "|     0.001     |     0.2      |    (3, 3)   |    1    |     0.0905     |    0.0897    |\n",
      "|     0.001     |     0.2      |    (5, 5)   |    2    |     0.0905     |    0.0897    |\n",
      "|     0.001     |     0.5      |    (3, 3)   |    1    |     0.1025     |    0.101     |\n",
      "|     0.001     |     0.5      |    (5, 5)   |    2    |     0.0905     |    0.0897    |\n",
      "|     0.0001    |     0.2      |    (3, 3)   |    1    |     0.9482     |    0.9357    |\n",
      "|     0.0001    |     0.2      |    (5, 5)   |    2    |     0.8782     |    0.8691    |\n",
      "|     0.0001    |     0.5      |    (3, 3)   |    1    |     0.9417     |    0.9331    |\n",
      "|     0.0001    |     0.5      |    (5, 5)   |    2    |     0.9471     |    0.9383    |\n",
      "|     1e-05     |     0.2      |    (3, 3)   |    1    |     0.7188     |    0.7208    |\n",
      "|     1e-05     |     0.2      |    (5, 5)   |    2    |     0.7993     |    0.7964    |\n",
      "|     1e-05     |     0.5      |    (3, 3)   |    1    |     0.6902     |    0.6853    |\n",
      "|     1e-05     |     0.5      |    (5, 5)   |    2    |     0.7222     |    0.7114    |\n",
      "+---------------+--------------+-------------+---------+----------------+--------------+\n"
     ]
    }
   ],
   "source": [
    "# CNN training on the permuted mnist dataset\n",
    "padding = [1, 2]\n",
    "dropout_rates = [0.2, 0.5]\n",
    "kernel_sizes = [(3,3), (5,5)]\n",
    "learn_rate = [0.001, 0.0001, 0.00001]\n",
    "\n",
    "t = PrettyTable(['Learning rate', 'Dropout Rate', 'Kernel size', 'padding', 'Train Accuracy', 'Val Accuracy'])\n",
    "for rate in learn_rate:\n",
    "    for dr in dropout_rates:\n",
    "        for (ks, p) in zip(kernel_sizes, padding):\n",
    "            cnn = CNN(ks, p, dr)\n",
    "            loss_func = nn.CrossEntropyLoss()\n",
    "            optimizer = optim.Adam(cnn.parameters(), lr=rate)\n",
    "            train_p(cnn, loss_func, optimizer, trainloader)\n",
    "            t_accuracy = evaluate_p(cnn, trainloader)\n",
    "            v_accuracy = evaluate_p(cnn, valloader)\n",
    "            t.add_row([rate, dr, ks, p, round(t_accuracy, 4), round(v_accuracy, 4)])\n",
    "print(t)"
   ]
  },
  {
   "cell_type": "code",
   "execution_count": 26,
   "metadata": {},
   "outputs": [
    {
     "name": "stdout",
     "output_type": "stream",
     "text": [
      "Test Accuracy using MLP: 0.8489\n",
      "Test Accuracy using CNN: 0.8719\n"
     ]
    }
   ],
   "source": [
    "# Evaluate on the test dataset\n",
    "mlp = MLP(28*28, [256, 128, 64], 10)\n",
    "loss_func = nn.CrossEntropyLoss()\n",
    "optimizer = optim.Adam(mlp.parameters(), lr=0.0001)\n",
    "train_p(mlp, loss_func, optimizer, trainloader)\n",
    "mlp_accuracy = evaluate_p(mlp, testloader)\n",
    "\n",
    "cnn = CNN()\n",
    "loss_func = nn.CrossEntropyLoss()\n",
    "optimizer = optim.Adam(cnn.parameters(), lr=0.0001)\n",
    "train_p(cnn, loss_func, optimizer, trainloader)\n",
    "cnn_accuracy = evaluate_p(cnn, testloader)\n",
    "\n",
    "print('Test Accuracy using MLP: {:.4f}'.format(mlp_accuracy))\n",
    "print('Test Accuracy using CNN: {:.4f}'.format(cnn_accuracy))"
   ]
  }
 ],
 "metadata": {
  "kernelspec": {
   "display_name": "Python 3",
   "language": "python",
   "name": "python3"
  },
  "language_info": {
   "codemirror_mode": {
    "name": "ipython",
    "version": 3
   },
   "file_extension": ".py",
   "mimetype": "text/x-python",
   "name": "python",
   "nbconvert_exporter": "python",
   "pygments_lexer": "ipython3",
   "version": "3.10.12"
  }
 },
 "nbformat": 4,
 "nbformat_minor": 2
}
