{
 "cells": [
  {
   "cell_type": "markdown",
   "metadata": {},
   "source": [
    "Wandb Report Link: \n",
    "https://wandb.ai/drbean/Logistic-regression/reports/Question-1---Vmlldzo1NzkwOTcx"
   ]
  },
  {
   "cell_type": "code",
   "execution_count": 41,
   "metadata": {},
   "outputs": [],
   "source": [
    "import sys\n",
    "import wandb\n",
    "import warnings\n",
    "import numpy as np\n",
    "import pandas as pd\n",
    "\n",
    "from prettytable import PrettyTable\n",
    "from matplotlib import pyplot as plt\n",
    "from sklearn.impute import SimpleImputer\n",
    "from sklearn.metrics import classification_report\n",
    "from sklearn.model_selection import train_test_split\n",
    "from sklearn.preprocessing import StandardScaler, MinMaxScaler\n",
    "\n",
    "warnings.filterwarnings('ignore')\n",
    "np.set_printoptions(threshold=sys.maxsize)"
   ]
  },
  {
   "cell_type": "code",
   "execution_count": 42,
   "metadata": {},
   "outputs": [
    {
     "name": "stdout",
     "output_type": "stream",
     "text": [
      "+----------------------+---------+--------------------+-----------+-----------+\n",
      "|      Attribute       |   Mean  | Standard Deviation | min Value | max value |\n",
      "+----------------------+---------+--------------------+-----------+-----------+\n",
      "|    fixed acidity     |  8.3111 |       1.7476       |    4.6    |    15.9   |\n",
      "|   volatile acidity   |  0.5313 |       0.1796       |    0.12   |    1.58   |\n",
      "|     citric acid      |  0.2684 |       0.1967       |    0.0    |    1.0    |\n",
      "|    residual sugar    |  2.5322 |       1.3559       |    0.9    |    15.5   |\n",
      "|      chlorides       |  0.0869 |       0.0473       |   0.012   |   0.611   |\n",
      "| free sulfur dioxide  | 15.6155 |      10.2505       |    1.0    |    68.0   |\n",
      "| total sulfur dioxide | 45.9147 |      32.7821       |    6.0    |   289.0   |\n",
      "|       density        |  0.9967 |       0.0019       |  0.99007  |  1.00369  |\n",
      "|          pH          |  3.311  |       0.1567       |    2.74   |    4.01   |\n",
      "|      sulphates       |  0.6577 |       0.1704       |    0.33   |    2.0    |\n",
      "|       alcohol        | 10.4421 |       1.0822       |    8.4    |    14.9   |\n",
      "|       quality        |  5.657  |       0.8058       |     3     |     8     |\n",
      "+----------------------+---------+--------------------+-----------+-----------+\n"
     ]
    }
   ],
   "source": [
    "data = pd.read_csv('WineQT.csv')\n",
    "data.drop_duplicates(inplace=True)\n",
    "data = data.drop(columns=['Id'])\n",
    "# print(data.shape)\n",
    "\n",
    "# Dataset Analysis and Preprocessing\n",
    "columns = data.columns\n",
    "t = PrettyTable(['Attribute', 'Mean', 'Standard Deviation', 'min Value', 'max value'])\n",
    "for attr in columns:\n",
    "    col = data[attr]\n",
    "    mean = round(col.mean(), 4)\n",
    "    std = round(col.std(), 4)\n",
    "    t.add_row([attr, mean, std, col.min(), col.max()])\n",
    "print(t)"
   ]
  },
  {
   "cell_type": "code",
   "execution_count": 43,
   "metadata": {},
   "outputs": [
    {
     "data": {
      "image/png": "[encoded data removed]",
      "text/plain": [
       "<Figure size 640x480 with 1 Axes>"
      ]
     },
     "metadata": {},
     "output_type": "display_data"
    }
   ],
   "source": [
    "\n",
    "# Distribution of various labels across the entire dataset\n",
    "labels = data['quality']\n",
    "plt.hist(labels, bins=len(np.unique(labels)), rwidth=0.8)\n",
    "plt.xlabel('Quality')\n",
    "plt.ylabel('Frequency')\n",
    "plt.title('Distribution of various labels across the entire dataset')\n",
    "plt.show()"
   ]
  },
  {
   "cell_type": "code",
   "execution_count": 44,
   "metadata": {},
   "outputs": [],
   "source": [
    "\n",
    "# Split the data into attributes and labels\n",
    "X = data.iloc[:,data.columns != 'quality']\n",
    "Y = data['quality']\n",
    "\n",
    "# Handle missing values\n",
    "imputer = SimpleImputer(strategy='mean')\n",
    "X = imputer.fit_transform(X)\n",
    "\n",
    "# Apply Normalization to the attributes\n",
    "scaler = MinMaxScaler()\n",
    "X = scaler.fit_transform(X)\n",
    "\n",
    "# Apply Standardization to the attributes\n",
    "scaler = StandardScaler()\n",
    "X = scaler.fit_transform(X)\n",
    "\n",
    "# Convert labels into one-hot vectors\n",
    "Y = Y - Y.min()\n",
    "temp = np.zeros((Y.size, Y.max()+1))\n",
    "temp[np.arange(Y.size), Y] = 1\n",
    "Y = temp\n",
    "\n",
    "# Split the data into train, test and validation sets\n",
    "x_train, x_temp, y_train, y_temp = train_test_split(X, Y, train_size=0.7, stratify=Y)\n",
    "x_valid, x_test, y_valid, y_test = train_test_split(x_temp, y_temp, test_size=0.5, stratify=y_temp)"
   ]
  },
  {
   "cell_type": "code",
   "execution_count": 45,
   "metadata": {},
   "outputs": [],
   "source": [
    "class LogistricRegression:\n",
    "    def __init__(self, n, num, attr, learn_rate=0.001, n_epochs=100):\n",
    "        self.n = n\n",
    "        self.num = num\n",
    "        self.attr = attr\n",
    "        self.n_epochs = n_epochs\n",
    "        self.learn_rate = learn_rate\n",
    "        self.weights = np.zeros((attr, num))\n",
    "        self.bias = np.zeros((1, num))\n",
    "\n",
    "    # Loss function\n",
    "    def cross_entropy_loss(self, y_true, y_pred, epsilon=1e-18):\n",
    "        y_pred = np.clip(y_pred, epsilon, 1-epsilon)\n",
    "        loss = -np.sum(y_true * np.log(y_pred+1e-9)) / self.n\n",
    "        return loss\n",
    "    \n",
    "    # Gradient Descent step\n",
    "    def gradient_descent(self, X, y_true, y_pred):\n",
    "        error = y_pred - y_true\n",
    "        dw = np.dot(X.T, error) / self.n\n",
    "        db = np.sum(error) / self.n\n",
    "        return dw, db\n",
    "\n",
    "    # softmax activation function\n",
    "    def softmax(self, X):\n",
    "        e_x = np.exp(X - np.max(X, axis=1, keepdims=True))\n",
    "        return e_x / np.sum(e_x, axis=1, keepdims=True)\n",
    "    \n",
    "    def predict(self, X):\n",
    "        z = np.dot(X, self.weights) + self.bias\n",
    "        y_pred = self.softmax(z)\n",
    "        return y_pred\n",
    "    \n",
    "    def fit(self, X, Y):\n",
    "        for _ in range(self.n_epochs):\n",
    "            y_pred = self.predict(X)\n",
    "            dw, db = self.gradient_descent(X, Y, y_pred)\n",
    "            self.weights -= self.learn_rate*dw\n",
    "            self.bias -= self.learn_rate*db\n",
    "            loss = self.cross_entropy_loss(Y, y_pred)\n",
    "            accuracy = self.accuracy(Y, y_pred)\n",
    "            print('Epoch: {}/{} Loss: {:.4f} Accuracy: {:.4f}'.format(1+_, self.n_epochs, loss, accuracy))\n",
    "\n",
    "    def fit_wandb(self, x_train, y_train, x_valid, y_valid):\n",
    "        for _ in range(self.n_epochs):\n",
    "            y_pred = self.predict(x_train)\n",
    "            dw, db = self.gradient_descent(x_train, y_train, y_pred)\n",
    "            self.weights -= self.learn_rate*dw\n",
    "            self.bias -= self.learn_rate*db\n",
    "\n",
    "            y_pred = self.predict(x_valid)\n",
    "            loss = self.cross_entropy_loss(y_valid, y_pred)\n",
    "            accuracy = self.accuracy(y_valid, y_pred)\n",
    "            # print('Epoch: {}/{} Loss: {:.4f} Accuracy: {:.4f}'.format(1+_, self.n_epochs, loss, accuracy))\n",
    "            wandb.log({\"Loss\": loss, \"Accuracy\": accuracy})\n",
    "    \n",
    "    def accuracy(self, y_true, y_pred):\n",
    "        true_labels = np.argmax(y_true, axis=1)\n",
    "        pred_labels = np.argmax(y_pred, axis=1)\n",
    "        accuracy = np.mean(true_labels == pred_labels)\n",
    "        return accuracy"
   ]
  },
  {
   "cell_type": "code",
   "execution_count": 49,
   "metadata": {},
   "outputs": [
    {
     "name": "stdout",
     "output_type": "stream",
     "text": [
      "Epoch: 1/100 Loss: 1.7918 Accuracy: 0.0050\n",
      "Epoch: 2/100 Loss: 1.7759 Accuracy: 0.5125\n",
      "Epoch: 3/100 Loss: 1.7610 Accuracy: 0.5138\n",
      "Epoch: 4/100 Loss: 1.7469 Accuracy: 0.5138\n",
      "Epoch: 5/100 Loss: 1.7335 Accuracy: 0.5138\n",
      "Epoch: 6/100 Loss: 1.7209 Accuracy: 0.5138\n",
      "Epoch: 7/100 Loss: 1.7089 Accuracy: 0.5138\n",
      "Epoch: 8/100 Loss: 1.6976 Accuracy: 0.5150\n",
      "Epoch: 9/100 Loss: 1.6868 Accuracy: 0.5138\n",
      "Epoch: 10/100 Loss: 1.6766 Accuracy: 0.5138\n",
      "Epoch: 11/100 Loss: 1.6669 Accuracy: 0.5138\n",
      "Epoch: 12/100 Loss: 1.6577 Accuracy: 0.5138\n",
      "Epoch: 13/100 Loss: 1.6490 Accuracy: 0.5138\n",
      "Epoch: 14/100 Loss: 1.6406 Accuracy: 0.5125\n",
      "Epoch: 15/100 Loss: 1.6327 Accuracy: 0.5150\n",
      "Epoch: 16/100 Loss: 1.6252 Accuracy: 0.5138\n",
      "Epoch: 17/100 Loss: 1.6180 Accuracy: 0.5138\n",
      "Epoch: 18/100 Loss: 1.6112 Accuracy: 0.5138\n",
      "Epoch: 19/100 Loss: 1.6046 Accuracy: 0.5125\n",
      "Epoch: 20/100 Loss: 1.5984 Accuracy: 0.5125\n",
      "Epoch: 21/100 Loss: 1.5924 Accuracy: 0.5138\n",
      "Epoch: 22/100 Loss: 1.5867 Accuracy: 0.5138\n",
      "Epoch: 23/100 Loss: 1.5813 Accuracy: 0.5138\n",
      "Epoch: 24/100 Loss: 1.5761 Accuracy: 0.5138\n",
      "Epoch: 25/100 Loss: 1.5711 Accuracy: 0.5150\n",
      "Epoch: 26/100 Loss: 1.5663 Accuracy: 0.5150\n",
      "Epoch: 27/100 Loss: 1.5618 Accuracy: 0.5162\n",
      "Epoch: 28/100 Loss: 1.5574 Accuracy: 0.5162\n",
      "Epoch: 29/100 Loss: 1.5532 Accuracy: 0.5162\n",
      "Epoch: 30/100 Loss: 1.5491 Accuracy: 0.5112\n",
      "Epoch: 31/100 Loss: 1.5453 Accuracy: 0.5112\n",
      "Epoch: 32/100 Loss: 1.5415 Accuracy: 0.5125\n",
      "Epoch: 33/100 Loss: 1.5380 Accuracy: 0.5125\n",
      "Epoch: 34/100 Loss: 1.5345 Accuracy: 0.5138\n",
      "Epoch: 35/100 Loss: 1.5312 Accuracy: 0.5138\n",
      "Epoch: 36/100 Loss: 1.5280 Accuracy: 0.5150\n",
      "Epoch: 37/100 Loss: 1.5250 Accuracy: 0.5150\n",
      "Epoch: 38/100 Loss: 1.5220 Accuracy: 0.5162\n",
      "Epoch: 39/100 Loss: 1.5192 Accuracy: 0.5162\n",
      "Epoch: 40/100 Loss: 1.5164 Accuracy: 0.5162\n",
      "Epoch: 41/100 Loss: 1.5138 Accuracy: 0.5162\n",
      "Epoch: 42/100 Loss: 1.5112 Accuracy: 0.5162\n",
      "Epoch: 43/100 Loss: 1.5087 Accuracy: 0.5162\n",
      "Epoch: 44/100 Loss: 1.5064 Accuracy: 0.5162\n",
      "Epoch: 45/100 Loss: 1.5041 Accuracy: 0.5188\n",
      "Epoch: 46/100 Loss: 1.5018 Accuracy: 0.5200\n",
      "Epoch: 47/100 Loss: 1.4997 Accuracy: 0.5200\n",
      "Epoch: 48/100 Loss: 1.4976 Accuracy: 0.5212\n",
      "Epoch: 49/100 Loss: 1.4956 Accuracy: 0.5212\n",
      "Epoch: 50/100 Loss: 1.4936 Accuracy: 0.5212\n",
      "Epoch: 51/100 Loss: 1.4918 Accuracy: 0.5212\n",
      "Epoch: 52/100 Loss: 1.4899 Accuracy: 0.5212\n",
      "Epoch: 53/100 Loss: 1.4882 Accuracy: 0.5225\n",
      "Epoch: 54/100 Loss: 1.4864 Accuracy: 0.5262\n",
      "Epoch: 55/100 Loss: 1.4848 Accuracy: 0.5250\n",
      "Epoch: 56/100 Loss: 1.4832 Accuracy: 0.5250\n",
      "Epoch: 57/100 Loss: 1.4816 Accuracy: 0.5250\n",
      "Epoch: 58/100 Loss: 1.4801 Accuracy: 0.5238\n",
      "Epoch: 59/100 Loss: 1.4786 Accuracy: 0.5262\n",
      "Epoch: 60/100 Loss: 1.4772 Accuracy: 0.5262\n",
      "Epoch: 61/100 Loss: 1.4758 Accuracy: 0.5288\n",
      "Epoch: 62/100 Loss: 1.4744 Accuracy: 0.5288\n",
      "Epoch: 63/100 Loss: 1.4731 Accuracy: 0.5288\n",
      "Epoch: 64/100 Loss: 1.4718 Accuracy: 0.5312\n",
      "Epoch: 65/100 Loss: 1.4706 Accuracy: 0.5312\n",
      "Epoch: 66/100 Loss: 1.4694 Accuracy: 0.5312\n",
      "Epoch: 67/100 Loss: 1.4682 Accuracy: 0.5312\n",
      "Epoch: 68/100 Loss: 1.4671 Accuracy: 0.5312\n",
      "Epoch: 69/100 Loss: 1.4659 Accuracy: 0.5312\n",
      "Epoch: 70/100 Loss: 1.4649 Accuracy: 0.5312\n",
      "Epoch: 71/100 Loss: 1.4638 Accuracy: 0.5325\n",
      "Epoch: 72/100 Loss: 1.4628 Accuracy: 0.5325\n",
      "Epoch: 73/100 Loss: 1.4618 Accuracy: 0.5312\n",
      "Epoch: 74/100 Loss: 1.4608 Accuracy: 0.5325\n",
      "Epoch: 75/100 Loss: 1.4598 Accuracy: 0.5312\n",
      "Epoch: 76/100 Loss: 1.4589 Accuracy: 0.5312\n",
      "Epoch: 77/100 Loss: 1.4580 Accuracy: 0.5312\n",
      "Epoch: 78/100 Loss: 1.4571 Accuracy: 0.5325\n",
      "Epoch: 79/100 Loss: 1.4562 Accuracy: 0.5325\n",
      "Epoch: 80/100 Loss: 1.4554 Accuracy: 0.5325\n",
      "Epoch: 81/100 Loss: 1.4546 Accuracy: 0.5325\n",
      "Epoch: 82/100 Loss: 1.4538 Accuracy: 0.5325\n",
      "Epoch: 83/100 Loss: 1.4530 Accuracy: 0.5312\n",
      "Epoch: 84/100 Loss: 1.4522 Accuracy: 0.5337\n",
      "Epoch: 85/100 Loss: 1.4515 Accuracy: 0.5325\n",
      "Epoch: 86/100 Loss: 1.4508 Accuracy: 0.5337\n",
      "Epoch: 87/100 Loss: 1.4500 Accuracy: 0.5350\n",
      "Epoch: 88/100 Loss: 1.4493 Accuracy: 0.5337\n",
      "Epoch: 89/100 Loss: 1.4487 Accuracy: 0.5337\n",
      "Epoch: 90/100 Loss: 1.4480 Accuracy: 0.5350\n",
      "Epoch: 91/100 Loss: 1.4473 Accuracy: 0.5350\n",
      "Epoch: 92/100 Loss: 1.4467 Accuracy: 0.5363\n",
      "Epoch: 93/100 Loss: 1.4461 Accuracy: 0.5363\n",
      "Epoch: 94/100 Loss: 1.4455 Accuracy: 0.5375\n",
      "Epoch: 95/100 Loss: 1.4449 Accuracy: 0.5363\n",
      "Epoch: 96/100 Loss: 1.4443 Accuracy: 0.5375\n",
      "Epoch: 97/100 Loss: 1.4437 Accuracy: 0.5387\n",
      "Epoch: 98/100 Loss: 1.4431 Accuracy: 0.5387\n",
      "Epoch: 99/100 Loss: 1.4426 Accuracy: 0.5400\n",
      "Epoch: 100/100 Loss: 1.4420 Accuracy: 0.5400\n",
      "              precision    recall  f1-score   support\n",
      "\n",
      "           0       0.00      0.00      0.00         1\n",
      "           1       0.20      0.20      0.20         5\n",
      "           2       0.59      0.81      0.68        72\n",
      "           3       0.43      0.14      0.22        69\n",
      "           4       0.25      0.52      0.34        21\n",
      "           5       0.00      0.00      0.00         3\n",
      "\n",
      "    accuracy                           0.47       171\n",
      "   macro avg       0.25      0.28      0.24       171\n",
      "weighted avg       0.46      0.47      0.42       171\n",
      "\n",
      "Test [Loss: 0.2974 Accuracy: 0.6047]\n"
     ]
    }
   ],
   "source": [
    "# X -- n x attr\n",
    "# Y -- n x num\n",
    "# W -- attr x num\n",
    "# b -- 1 x num\n",
    "n, attr = x_train.shape\n",
    "n, num = y_train.shape\n",
    "\n",
    "# create a model and train\n",
    "model = LogistricRegression(n, num, attr, 0.1, 100)\n",
    "model.fit(x_train, y_train)\n",
    "\n",
    "# Evaluate on validation data\n",
    "y_pred = model.predict(x_valid)\n",
    "report = classification_report(np.argmax(y_valid, axis=1), np.argmax(y_pred, axis=1))\n",
    "print(report)\n",
    "\n",
    "# Predict on test data\n",
    "y_pred = model.predict(x_test)\n",
    "loss = model.cross_entropy_loss(y_test, y_pred)\n",
    "accuracy = model.accuracy(y_test, y_pred)\n",
    "print('Test [Loss: {:.4f} Accuracy: {:.4f}]'.format(loss, accuracy))"
   ]
  },
  {
   "cell_type": "code",
   "execution_count": 47,
   "metadata": {},
   "outputs": [
    {
     "data": {
      "text/plain": [
       "True"
      ]
     },
     "execution_count": 47,
     "metadata": {},
     "output_type": "execute_result"
    }
   ],
   "source": [
    "wandb.login()"
   ]
  },
  {
   "cell_type": "code",
   "execution_count": 48,
   "metadata": {},
   "outputs": [
    {
     "data": {
      "text/html": [
       "wandb version 0.15.12 is available!  To upgrade, please run:\n",
       " $ pip install wandb --upgrade"
      ],
      "text/plain": [
       "<IPython.core.display.HTML object>"
      ]
     },
     "metadata": {},
     "output_type": "display_data"
    },
    {
     "data": {
      "text/html": [
       "Tracking run with wandb version 0.15.11"
      ],
      "text/plain": [
       "<IPython.core.display.HTML object>"
      ]
     },
     "metadata": {},
     "output_type": "display_data"
    },
    {
     "data": {
      "text/html": [
       "Run data is saved locally in <code>/home/amogha/smai/a3/wandb/run-20231023_153115-q4lnllna</code>"
      ],
      "text/plain": [
       "<IPython.core.display.HTML object>"
      ]
     },
     "metadata": {},
     "output_type": "display_data"
    },
    {
     "data": {
      "text/html": [
       "Syncing run <strong><a href='https://wandb.ai/drbean/Logistic-regression/runs/q4lnllna' target=\"_blank\">epoch:100 lr:0.1</a></strong> to <a href='https://wandb.ai/drbean/Logistic-regression' target=\"_blank\">Weights & Biases</a> (<a href='https://wandb.me/run' target=\"_blank\">docs</a>)<br/>"
      ],
      "text/plain": [
       "<IPython.core.display.HTML object>"
      ]
     },
     "metadata": {},
     "output_type": "display_data"
    },
    {
     "data": {
      "text/html": [
       " View project at <a href='https://wandb.ai/drbean/Logistic-regression' target=\"_blank\">https://wandb.ai/drbean/Logistic-regression</a>"
      ],
      "text/plain": [
       "<IPython.core.display.HTML object>"
      ]
     },
     "metadata": {},
     "output_type": "display_data"
    },
    {
     "data": {
      "text/html": [
       " View run at <a href='https://wandb.ai/drbean/Logistic-regression/runs/q4lnllna' target=\"_blank\">https://wandb.ai/drbean/Logistic-regression/runs/q4lnllna</a>"
      ],
      "text/plain": [
       "<IPython.core.display.HTML object>"
      ]
     },
     "metadata": {},
     "output_type": "display_data"
    },
    {
     "name": "stdout",
     "output_type": "stream",
     "text": [
      "Number of Epochs: 100 Learning Rate: 0.1\n",
      "Validation [Loss: 0.3318 Accuracy: 0.4678]\n",
      "Testset Classification Report: \n",
      "               precision    recall  f1-score   support\n",
      "\n",
      "           0       0.00      0.00      0.00         1\n",
      "           1       0.17      0.20      0.18         5\n",
      "           2       0.70      0.78      0.74        73\n",
      "           3       0.76      0.42      0.54        69\n",
      "           4       0.36      0.77      0.49        22\n",
      "           5       0.00      0.00      0.00         2\n",
      "\n",
      "    accuracy                           0.60       172\n",
      "   macro avg       0.33      0.36      0.33       172\n",
      "weighted avg       0.66      0.60      0.60       172\n",
      "\n"
     ]
    },
    {
     "data": {
      "text/html": [
       "Waiting for W&B process to finish... <strong style=\"color:green\">(success).</strong>"
      ],
      "text/plain": [
       "<IPython.core.display.HTML object>"
      ]
     },
     "metadata": {},
     "output_type": "display_data"
    },
    {
     "data": {
      "text/html": [
       "<style>\n",
       "    table.wandb td:nth-child(1) { padding: 0 10px; text-align: left ; width: auto;} td:nth-child(2) {text-align: left ; width: 100%}\n",
       "    .wandb-row { display: flex; flex-direction: row; flex-wrap: wrap; justify-content: flex-start; width: 100% }\n",
       "    .wandb-col { display: flex; flex-direction: column; flex-basis: 100%; flex: 1; padding: 10px; }\n",
       "    </style>\n",
       "<div class=\"wandb-row\"><div class=\"wandb-col\"><h3>Run history:</h3><br/><table class=\"wandb\"><tr><td>Accuracy</td><td>██▆▆▆▆▆▆▆▇▇▇▆▆▆▅▅▅▅▅▅▅▅▅▅▅▄▃▃▃▃▃▁▁▁▁▁▁▁▁</td></tr><tr><td>Loss</td><td>█▇▆▆▅▅▄▄▃▃▃▃▂▂▂▂▂▂▂▁▁▁▁▁▁▁▁▁▁▁▁▁▁▁▁▁▁▁▁▁</td></tr></table><br/></div><div class=\"wandb-col\"><h3>Run summary:</h3><br/><table class=\"wandb\"><tr><td>Accuracy</td><td>0.46784</td></tr><tr><td>Loss</td><td>0.33178</td></tr></table><br/></div></div>"
      ],
      "text/plain": [
       "<IPython.core.display.HTML object>"
      ]
     },
     "metadata": {},
     "output_type": "display_data"
    },
    {
     "data": {
      "text/html": [
       " View run <strong style=\"color:#cdcd00\">epoch:100 lr:0.1</strong> at: <a href='https://wandb.ai/drbean/Logistic-regression/runs/q4lnllna' target=\"_blank\">https://wandb.ai/drbean/Logistic-regression/runs/q4lnllna</a><br/>Synced 5 W&B file(s), 0 media file(s), 0 artifact file(s) and 0 other file(s)"
      ],
      "text/plain": [
       "<IPython.core.display.HTML object>"
      ]
     },
     "metadata": {},
     "output_type": "display_data"
    },
    {
     "data": {
      "text/html": [
       "Find logs at: <code>./wandb/run-20231023_153115-q4lnllna/logs</code>"
      ],
      "text/plain": [
       "<IPython.core.display.HTML object>"
      ]
     },
     "metadata": {},
     "output_type": "display_data"
    },
    {
     "data": {
      "text/html": [
       "wandb version 0.15.12 is available!  To upgrade, please run:\n",
       " $ pip install wandb --upgrade"
      ],
      "text/plain": [
       "<IPython.core.display.HTML object>"
      ]
     },
     "metadata": {},
     "output_type": "display_data"
    },
    {
     "data": {
      "text/html": [
       "Tracking run with wandb version 0.15.11"
      ],
      "text/plain": [
       "<IPython.core.display.HTML object>"
      ]
     },
     "metadata": {},
     "output_type": "display_data"
    },
    {
     "data": {
      "text/html": [
       "Run data is saved locally in <code>/home/amogha/smai/a3/wandb/run-20231023_153126-wf7vzlun</code>"
      ],
      "text/plain": [
       "<IPython.core.display.HTML object>"
      ]
     },
     "metadata": {},
     "output_type": "display_data"
    },
    {
     "data": {
      "text/html": [
       "Syncing run <strong><a href='https://wandb.ai/drbean/Logistic-regression/runs/wf7vzlun' target=\"_blank\">epoch:100 lr:0.01</a></strong> to <a href='https://wandb.ai/drbean/Logistic-regression' target=\"_blank\">Weights & Biases</a> (<a href='https://wandb.me/run' target=\"_blank\">docs</a>)<br/>"
      ],
      "text/plain": [
       "<IPython.core.display.HTML object>"
      ]
     },
     "metadata": {},
     "output_type": "display_data"
    },
    {
     "data": {
      "text/html": [
       " View project at <a href='https://wandb.ai/drbean/Logistic-regression' target=\"_blank\">https://wandb.ai/drbean/Logistic-regression</a>"
      ],
      "text/plain": [
       "<IPython.core.display.HTML object>"
      ]
     },
     "metadata": {},
     "output_type": "display_data"
    },
    {
     "data": {
      "text/html": [
       " View run at <a href='https://wandb.ai/drbean/Logistic-regression/runs/wf7vzlun' target=\"_blank\">https://wandb.ai/drbean/Logistic-regression/runs/wf7vzlun</a>"
      ],
      "text/plain": [
       "<IPython.core.display.HTML object>"
      ]
     },
     "metadata": {},
     "output_type": "display_data"
    },
    {
     "name": "stdout",
     "output_type": "stream",
     "text": [
      "Number of Epochs: 100 Learning Rate: 0.01\n",
      "Validation [Loss: 0.3611 Accuracy: 0.4971]\n",
      "Testset Classification Report: \n",
      "               precision    recall  f1-score   support\n",
      "\n",
      "           0       0.00      0.00      0.00         1\n",
      "           1       0.00      0.00      0.00         5\n",
      "           2       0.71      0.82      0.76        73\n",
      "           3       0.79      0.39      0.52        69\n",
      "           4       0.35      0.82      0.49        22\n",
      "           5       0.00      0.00      0.00         2\n",
      "\n",
      "    accuracy                           0.61       172\n",
      "   macro avg       0.31      0.34      0.30       172\n",
      "weighted avg       0.67      0.61      0.60       172\n",
      "\n"
     ]
    },
    {
     "data": {
      "text/html": [
       "Waiting for W&B process to finish... <strong style=\"color:green\">(success).</strong>"
      ],
      "text/plain": [
       "<IPython.core.display.HTML object>"
      ]
     },
     "metadata": {},
     "output_type": "display_data"
    },
    {
     "data": {
      "text/html": [
       "<style>\n",
       "    table.wandb td:nth-child(1) { padding: 0 10px; text-align: left ; width: auto;} td:nth-child(2) {text-align: left ; width: 100%}\n",
       "    .wandb-row { display: flex; flex-direction: row; flex-wrap: wrap; justify-content: flex-start; width: 100% }\n",
       "    .wandb-col { display: flex; flex-direction: column; flex-basis: 100%; flex: 1; padding: 10px; }\n",
       "    </style>\n",
       "<div class=\"wandb-row\"><div class=\"wandb-col\"><h3>Run history:</h3><br/><table class=\"wandb\"><tr><td>Accuracy</td><td>██████████████████▁▁▁▁▄▄▄▁▁▁▁▁▁▁▁▁▁▁▁▁▁▁</td></tr><tr><td>Loss</td><td>███▇▇▇▇▆▆▆▆▆▅▅▅▅▅▄▄▄▄▄▄▃▃▃▃▃▃▂▂▂▂▂▂▂▁▁▁▁</td></tr></table><br/></div><div class=\"wandb-col\"><h3>Run summary:</h3><br/><table class=\"wandb\"><tr><td>Accuracy</td><td>0.49708</td></tr><tr><td>Loss</td><td>0.36106</td></tr></table><br/></div></div>"
      ],
      "text/plain": [
       "<IPython.core.display.HTML object>"
      ]
     },
     "metadata": {},
     "output_type": "display_data"
    },
    {
     "data": {
      "text/html": [
       " View run <strong style=\"color:#cdcd00\">epoch:100 lr:0.01</strong> at: <a href='https://wandb.ai/drbean/Logistic-regression/runs/wf7vzlun' target=\"_blank\">https://wandb.ai/drbean/Logistic-regression/runs/wf7vzlun</a><br/>Synced 5 W&B file(s), 0 media file(s), 0 artifact file(s) and 0 other file(s)"
      ],
      "text/plain": [
       "<IPython.core.display.HTML object>"
      ]
     },
     "metadata": {},
     "output_type": "display_data"
    },
    {
     "data": {
      "text/html": [
       "Find logs at: <code>./wandb/run-20231023_153126-wf7vzlun/logs</code>"
      ],
      "text/plain": [
       "<IPython.core.display.HTML object>"
      ]
     },
     "metadata": {},
     "output_type": "display_data"
    },
    {
     "data": {
      "text/html": [
       "wandb version 0.15.12 is available!  To upgrade, please run:\n",
       " $ pip install wandb --upgrade"
      ],
      "text/plain": [
       "<IPython.core.display.HTML object>"
      ]
     },
     "metadata": {},
     "output_type": "display_data"
    },
    {
     "data": {
      "text/html": [
       "Tracking run with wandb version 0.15.11"
      ],
      "text/plain": [
       "<IPython.core.display.HTML object>"
      ]
     },
     "metadata": {},
     "output_type": "display_data"
    },
    {
     "data": {
      "text/html": [
       "Run data is saved locally in <code>/home/amogha/smai/a3/wandb/run-20231023_153137-4280jpgm</code>"
      ],
      "text/plain": [
       "<IPython.core.display.HTML object>"
      ]
     },
     "metadata": {},
     "output_type": "display_data"
    },
    {
     "data": {
      "text/html": [
       "Syncing run <strong><a href='https://wandb.ai/drbean/Logistic-regression/runs/4280jpgm' target=\"_blank\">epoch:100 lr:0.001</a></strong> to <a href='https://wandb.ai/drbean/Logistic-regression' target=\"_blank\">Weights & Biases</a> (<a href='https://wandb.me/run' target=\"_blank\">docs</a>)<br/>"
      ],
      "text/plain": [
       "<IPython.core.display.HTML object>"
      ]
     },
     "metadata": {},
     "output_type": "display_data"
    },
    {
     "data": {
      "text/html": [
       " View project at <a href='https://wandb.ai/drbean/Logistic-regression' target=\"_blank\">https://wandb.ai/drbean/Logistic-regression</a>"
      ],
      "text/plain": [
       "<IPython.core.display.HTML object>"
      ]
     },
     "metadata": {},
     "output_type": "display_data"
    },
    {
     "data": {
      "text/html": [
       " View run at <a href='https://wandb.ai/drbean/Logistic-regression/runs/4280jpgm' target=\"_blank\">https://wandb.ai/drbean/Logistic-regression/runs/4280jpgm</a>"
      ],
      "text/plain": [
       "<IPython.core.display.HTML object>"
      ]
     },
     "metadata": {},
     "output_type": "display_data"
    },
    {
     "name": "stdout",
     "output_type": "stream",
     "text": [
      "Number of Epochs: 100 Learning Rate: 0.001\n",
      "Validation [Loss: 0.3802 Accuracy: 0.5088]\n",
      "Testset Classification Report: \n",
      "               precision    recall  f1-score   support\n",
      "\n",
      "           0       0.00      0.00      0.00         1\n",
      "           1       0.00      0.00      0.00         5\n",
      "           2       0.71      0.82      0.76        73\n",
      "           3       0.77      0.39      0.52        69\n",
      "           4       0.33      0.77      0.47        22\n",
      "           5       0.00      0.00      0.00         2\n",
      "\n",
      "    accuracy                           0.60       172\n",
      "   macro avg       0.30      0.33      0.29       172\n",
      "weighted avg       0.66      0.60      0.59       172\n",
      "\n"
     ]
    },
    {
     "data": {
      "text/html": [
       "Waiting for W&B process to finish... <strong style=\"color:green\">(success).</strong>"
      ],
      "text/plain": [
       "<IPython.core.display.HTML object>"
      ]
     },
     "metadata": {},
     "output_type": "display_data"
    },
    {
     "data": {
      "text/html": [
       "<style>\n",
       "    table.wandb td:nth-child(1) { padding: 0 10px; text-align: left ; width: auto;} td:nth-child(2) {text-align: left ; width: 100%}\n",
       "    .wandb-row { display: flex; flex-direction: row; flex-wrap: wrap; justify-content: flex-start; width: 100% }\n",
       "    .wandb-col { display: flex; flex-direction: column; flex-basis: 100%; flex: 1; padding: 10px; }\n",
       "    </style>\n",
       "<div class=\"wandb-row\"><div class=\"wandb-col\"><h3>Run history:</h3><br/><table class=\"wandb\"><tr><td>Accuracy</td><td>▁▁▁▁▁▁▁▁▁▁▁▁▁▁▁▁▁▁▁▁▁▁▁▁▁▁▁▁▁▁▁▁▁▁▁▁▁▁▁▁</td></tr><tr><td>Loss</td><td>███▇▇▇▇▇▇▆▆▆▆▆▅▅▅▅▅▅▄▄▄▄▄▃▃▃▃▃▃▂▂▂▂▂▂▁▁▁</td></tr></table><br/></div><div class=\"wandb-col\"><h3>Run summary:</h3><br/><table class=\"wandb\"><tr><td>Accuracy</td><td>0.50877</td></tr><tr><td>Loss</td><td>0.38017</td></tr></table><br/></div></div>"
      ],
      "text/plain": [
       "<IPython.core.display.HTML object>"
      ]
     },
     "metadata": {},
     "output_type": "display_data"
    },
    {
     "data": {
      "text/html": [
       " View run <strong style=\"color:#cdcd00\">epoch:100 lr:0.001</strong> at: <a href='https://wandb.ai/drbean/Logistic-regression/runs/4280jpgm' target=\"_blank\">https://wandb.ai/drbean/Logistic-regression/runs/4280jpgm</a><br/>Synced 5 W&B file(s), 0 media file(s), 0 artifact file(s) and 0 other file(s)"
      ],
      "text/plain": [
       "<IPython.core.display.HTML object>"
      ]
     },
     "metadata": {},
     "output_type": "display_data"
    },
    {
     "data": {
      "text/html": [
       "Find logs at: <code>./wandb/run-20231023_153137-4280jpgm/logs</code>"
      ],
      "text/plain": [
       "<IPython.core.display.HTML object>"
      ]
     },
     "metadata": {},
     "output_type": "display_data"
    },
    {
     "data": {
      "text/html": [
       "wandb version 0.15.12 is available!  To upgrade, please run:\n",
       " $ pip install wandb --upgrade"
      ],
      "text/plain": [
       "<IPython.core.display.HTML object>"
      ]
     },
     "metadata": {},
     "output_type": "display_data"
    },
    {
     "data": {
      "text/html": [
       "Tracking run with wandb version 0.15.11"
      ],
      "text/plain": [
       "<IPython.core.display.HTML object>"
      ]
     },
     "metadata": {},
     "output_type": "display_data"
    },
    {
     "data": {
      "text/html": [
       "Run data is saved locally in <code>/home/amogha/smai/a3/wandb/run-20231023_153148-gqml0y5x</code>"
      ],
      "text/plain": [
       "<IPython.core.display.HTML object>"
      ]
     },
     "metadata": {},
     "output_type": "display_data"
    },
    {
     "data": {
      "text/html": [
       "Syncing run <strong><a href='https://wandb.ai/drbean/Logistic-regression/runs/gqml0y5x' target=\"_blank\">epoch:1000 lr:0.1</a></strong> to <a href='https://wandb.ai/drbean/Logistic-regression' target=\"_blank\">Weights & Biases</a> (<a href='https://wandb.me/run' target=\"_blank\">docs</a>)<br/>"
      ],
      "text/plain": [
       "<IPython.core.display.HTML object>"
      ]
     },
     "metadata": {},
     "output_type": "display_data"
    },
    {
     "data": {
      "text/html": [
       " View project at <a href='https://wandb.ai/drbean/Logistic-regression' target=\"_blank\">https://wandb.ai/drbean/Logistic-regression</a>"
      ],
      "text/plain": [
       "<IPython.core.display.HTML object>"
      ]
     },
     "metadata": {},
     "output_type": "display_data"
    },
    {
     "data": {
      "text/html": [
       " View run at <a href='https://wandb.ai/drbean/Logistic-regression/runs/gqml0y5x' target=\"_blank\">https://wandb.ai/drbean/Logistic-regression/runs/gqml0y5x</a>"
      ],
      "text/plain": [
       "<IPython.core.display.HTML object>"
      ]
     },
     "metadata": {},
     "output_type": "display_data"
    },
    {
     "name": "stdout",
     "output_type": "stream",
     "text": [
      "Number of Epochs: 1000 Learning Rate: 0.1\n",
      "Validation [Loss: 0.3343 Accuracy: 0.5146]\n",
      "Testset Classification Report: \n",
      "               precision    recall  f1-score   support\n",
      "\n",
      "           0       0.00      0.00      0.00         1\n",
      "           1       0.00      0.00      0.00         5\n",
      "           2       0.69      0.78      0.73        73\n",
      "           3       0.62      0.42      0.50        69\n",
      "           4       0.32      0.55      0.41        22\n",
      "           5       0.00      0.00      0.00         2\n",
      "\n",
      "    accuracy                           0.57       172\n",
      "   macro avg       0.27      0.29      0.27       172\n",
      "weighted avg       0.58      0.57      0.56       172\n",
      "\n"
     ]
    },
    {
     "data": {
      "text/html": [
       "Waiting for W&B process to finish... <strong style=\"color:green\">(success).</strong>"
      ],
      "text/plain": [
       "<IPython.core.display.HTML object>"
      ]
     },
     "metadata": {},
     "output_type": "display_data"
    },
    {
     "data": {
      "text/html": [
       "<style>\n",
       "    table.wandb td:nth-child(1) { padding: 0 10px; text-align: left ; width: auto;} td:nth-child(2) {text-align: left ; width: 100%}\n",
       "    .wandb-row { display: flex; flex-direction: row; flex-wrap: wrap; justify-content: flex-start; width: 100% }\n",
       "    .wandb-col { display: flex; flex-direction: column; flex-basis: 100%; flex: 1; padding: 10px; }\n",
       "    </style>\n",
       "<div class=\"wandb-row\"><div class=\"wandb-col\"><h3>Run history:</h3><br/><table class=\"wandb\"><tr><td>Accuracy</td><td>▄▄▃▂▁▂▂▃▃▅▆▆▇▇▇▇████▇▇▇▇▇▇▇▇▇▆▆▆▆▆▆▆▆▆▆▆</td></tr><tr><td>Loss</td><td>█▃▁▁▁▁▁▁▁▁▁▁▁▁▁▁▁▁▁▁▁▁▁▁▁▁▁▁▁▁▁▁▁▁▁▂▂▂▂▂</td></tr></table><br/></div><div class=\"wandb-col\"><h3>Run summary:</h3><br/><table class=\"wandb\"><tr><td>Accuracy</td><td>0.51462</td></tr><tr><td>Loss</td><td>0.33427</td></tr></table><br/></div></div>"
      ],
      "text/plain": [
       "<IPython.core.display.HTML object>"
      ]
     },
     "metadata": {},
     "output_type": "display_data"
    },
    {
     "data": {
      "text/html": [
       " View run <strong style=\"color:#cdcd00\">epoch:1000 lr:0.1</strong> at: <a href='https://wandb.ai/drbean/Logistic-regression/runs/gqml0y5x' target=\"_blank\">https://wandb.ai/drbean/Logistic-regression/runs/gqml0y5x</a><br/>Synced 5 W&B file(s), 0 media file(s), 0 artifact file(s) and 0 other file(s)"
      ],
      "text/plain": [
       "<IPython.core.display.HTML object>"
      ]
     },
     "metadata": {},
     "output_type": "display_data"
    },
    {
     "data": {
      "text/html": [
       "Find logs at: <code>./wandb/run-20231023_153148-gqml0y5x/logs</code>"
      ],
      "text/plain": [
       "<IPython.core.display.HTML object>"
      ]
     },
     "metadata": {},
     "output_type": "display_data"
    },
    {
     "data": {
      "text/html": [
       "wandb version 0.15.12 is available!  To upgrade, please run:\n",
       " $ pip install wandb --upgrade"
      ],
      "text/plain": [
       "<IPython.core.display.HTML object>"
      ]
     },
     "metadata": {},
     "output_type": "display_data"
    },
    {
     "data": {
      "text/html": [
       "Tracking run with wandb version 0.15.11"
      ],
      "text/plain": [
       "<IPython.core.display.HTML object>"
      ]
     },
     "metadata": {},
     "output_type": "display_data"
    },
    {
     "data": {
      "text/html": [
       "Run data is saved locally in <code>/home/amogha/smai/a3/wandb/run-20231023_153200-9bp12ob1</code>"
      ],
      "text/plain": [
       "<IPython.core.display.HTML object>"
      ]
     },
     "metadata": {},
     "output_type": "display_data"
    },
    {
     "data": {
      "text/html": [
       "Syncing run <strong><a href='https://wandb.ai/drbean/Logistic-regression/runs/9bp12ob1' target=\"_blank\">epoch:1000 lr:0.01</a></strong> to <a href='https://wandb.ai/drbean/Logistic-regression' target=\"_blank\">Weights & Biases</a> (<a href='https://wandb.me/run' target=\"_blank\">docs</a>)<br/>"
      ],
      "text/plain": [
       "<IPython.core.display.HTML object>"
      ]
     },
     "metadata": {},
     "output_type": "display_data"
    },
    {
     "data": {
      "text/html": [
       " View project at <a href='https://wandb.ai/drbean/Logistic-regression' target=\"_blank\">https://wandb.ai/drbean/Logistic-regression</a>"
      ],
      "text/plain": [
       "<IPython.core.display.HTML object>"
      ]
     },
     "metadata": {},
     "output_type": "display_data"
    },
    {
     "data": {
      "text/html": [
       " View run at <a href='https://wandb.ai/drbean/Logistic-regression/runs/9bp12ob1' target=\"_blank\">https://wandb.ai/drbean/Logistic-regression/runs/9bp12ob1</a>"
      ],
      "text/plain": [
       "<IPython.core.display.HTML object>"
      ]
     },
     "metadata": {},
     "output_type": "display_data"
    },
    {
     "name": "stdout",
     "output_type": "stream",
     "text": [
      "Number of Epochs: 1000 Learning Rate: 0.01\n",
      "Validation [Loss: 0.3318 Accuracy: 0.4678]\n",
      "Testset Classification Report: \n",
      "               precision    recall  f1-score   support\n",
      "\n",
      "           0       0.00      0.00      0.00         1\n",
      "           1       0.17      0.20      0.18         5\n",
      "           2       0.70      0.78      0.74        73\n",
      "           3       0.76      0.42      0.54        69\n",
      "           4       0.36      0.77      0.49        22\n",
      "           5       0.00      0.00      0.00         2\n",
      "\n",
      "    accuracy                           0.60       172\n",
      "   macro avg       0.33      0.36      0.33       172\n",
      "weighted avg       0.66      0.60      0.60       172\n",
      "\n"
     ]
    },
    {
     "data": {
      "text/html": [
       "Waiting for W&B process to finish... <strong style=\"color:green\">(success).</strong>"
      ],
      "text/plain": [
       "<IPython.core.display.HTML object>"
      ]
     },
     "metadata": {},
     "output_type": "display_data"
    },
    {
     "data": {
      "text/html": [
       "<style>\n",
       "    table.wandb td:nth-child(1) { padding: 0 10px; text-align: left ; width: auto;} td:nth-child(2) {text-align: left ; width: 100%}\n",
       "    .wandb-row { display: flex; flex-direction: row; flex-wrap: wrap; justify-content: flex-start; width: 100% }\n",
       "    .wandb-col { display: flex; flex-direction: column; flex-basis: 100%; flex: 1; padding: 10px; }\n",
       "    </style>\n",
       "<div class=\"wandb-row\"><div class=\"wandb-col\"><h3>Run history:</h3><br/><table class=\"wandb\"><tr><td>Accuracy</td><td>██▇▆▆▆▆▆▆▇▇▆▆▆▆▅▅▅▅▅▅▅▅▅▅▅▄▃▃▃▃▃▂▁▁▁▁▁▁▁</td></tr><tr><td>Loss</td><td>█▇▆▆▅▅▄▄▃▃▃▃▂▂▂▂▂▂▂▁▁▁▁▁▁▁▁▁▁▁▁▁▁▁▁▁▁▁▁▁</td></tr></table><br/></div><div class=\"wandb-col\"><h3>Run summary:</h3><br/><table class=\"wandb\"><tr><td>Accuracy</td><td>0.46784</td></tr><tr><td>Loss</td><td>0.33175</td></tr></table><br/></div></div>"
      ],
      "text/plain": [
       "<IPython.core.display.HTML object>"
      ]
     },
     "metadata": {},
     "output_type": "display_data"
    },
    {
     "data": {
      "text/html": [
       " View run <strong style=\"color:#cdcd00\">epoch:1000 lr:0.01</strong> at: <a href='https://wandb.ai/drbean/Logistic-regression/runs/9bp12ob1' target=\"_blank\">https://wandb.ai/drbean/Logistic-regression/runs/9bp12ob1</a><br/>Synced 5 W&B file(s), 0 media file(s), 0 artifact file(s) and 0 other file(s)"
      ],
      "text/plain": [
       "<IPython.core.display.HTML object>"
      ]
     },
     "metadata": {},
     "output_type": "display_data"
    },
    {
     "data": {
      "text/html": [
       "Find logs at: <code>./wandb/run-20231023_153200-9bp12ob1/logs</code>"
      ],
      "text/plain": [
       "<IPython.core.display.HTML object>"
      ]
     },
     "metadata": {},
     "output_type": "display_data"
    },
    {
     "data": {
      "text/html": [
       "wandb version 0.15.12 is available!  To upgrade, please run:\n",
       " $ pip install wandb --upgrade"
      ],
      "text/plain": [
       "<IPython.core.display.HTML object>"
      ]
     },
     "metadata": {},
     "output_type": "display_data"
    },
    {
     "data": {
      "text/html": [
       "Tracking run with wandb version 0.15.11"
      ],
      "text/plain": [
       "<IPython.core.display.HTML object>"
      ]
     },
     "metadata": {},
     "output_type": "display_data"
    },
    {
     "data": {
      "text/html": [
       "Run data is saved locally in <code>/home/amogha/smai/a3/wandb/run-20231023_153211-8oiod7j6</code>"
      ],
      "text/plain": [
       "<IPython.core.display.HTML object>"
      ]
     },
     "metadata": {},
     "output_type": "display_data"
    },
    {
     "data": {
      "text/html": [
       "Syncing run <strong><a href='https://wandb.ai/drbean/Logistic-regression/runs/8oiod7j6' target=\"_blank\">epoch:1000 lr:0.001</a></strong> to <a href='https://wandb.ai/drbean/Logistic-regression' target=\"_blank\">Weights & Biases</a> (<a href='https://wandb.me/run' target=\"_blank\">docs</a>)<br/>"
      ],
      "text/plain": [
       "<IPython.core.display.HTML object>"
      ]
     },
     "metadata": {},
     "output_type": "display_data"
    },
    {
     "data": {
      "text/html": [
       " View project at <a href='https://wandb.ai/drbean/Logistic-regression' target=\"_blank\">https://wandb.ai/drbean/Logistic-regression</a>"
      ],
      "text/plain": [
       "<IPython.core.display.HTML object>"
      ]
     },
     "metadata": {},
     "output_type": "display_data"
    },
    {
     "data": {
      "text/html": [
       " View run at <a href='https://wandb.ai/drbean/Logistic-regression/runs/8oiod7j6' target=\"_blank\">https://wandb.ai/drbean/Logistic-regression/runs/8oiod7j6</a>"
      ],
      "text/plain": [
       "<IPython.core.display.HTML object>"
      ]
     },
     "metadata": {},
     "output_type": "display_data"
    },
    {
     "name": "stdout",
     "output_type": "stream",
     "text": [
      "Number of Epochs: 1000 Learning Rate: 0.001\n",
      "Validation [Loss: 0.3611 Accuracy: 0.4971]\n",
      "Testset Classification Report: \n",
      "               precision    recall  f1-score   support\n",
      "\n",
      "           0       0.00      0.00      0.00         1\n",
      "           1       0.00      0.00      0.00         5\n",
      "           2       0.71      0.82      0.76        73\n",
      "           3       0.79      0.39      0.52        69\n",
      "           4       0.35      0.82      0.49        22\n",
      "           5       0.00      0.00      0.00         2\n",
      "\n",
      "    accuracy                           0.61       172\n",
      "   macro avg       0.31      0.34      0.30       172\n",
      "weighted avg       0.67      0.61      0.60       172\n",
      "\n"
     ]
    },
    {
     "data": {
      "text/html": [
       "Waiting for W&B process to finish... <strong style=\"color:green\">(success).</strong>"
      ],
      "text/plain": [
       "<IPython.core.display.HTML object>"
      ]
     },
     "metadata": {},
     "output_type": "display_data"
    },
    {
     "data": {
      "text/html": [
       "<style>\n",
       "    table.wandb td:nth-child(1) { padding: 0 10px; text-align: left ; width: auto;} td:nth-child(2) {text-align: left ; width: 100%}\n",
       "    .wandb-row { display: flex; flex-direction: row; flex-wrap: wrap; justify-content: flex-start; width: 100% }\n",
       "    .wandb-col { display: flex; flex-direction: column; flex-basis: 100%; flex: 1; padding: 10px; }\n",
       "    </style>\n",
       "<div class=\"wandb-row\"><div class=\"wandb-col\"><h3>Run history:</h3><br/><table class=\"wandb\"><tr><td>Accuracy</td><td>██████████████████▁▁▁▁▄▄▄▁▁▁▁▁▁▁▁▁▁▁▁▁▁▁</td></tr><tr><td>Loss</td><td>███▇▇▇▇▆▆▆▆▆▅▅▅▅▅▄▄▄▄▄▄▃▃▃▃▃▃▂▂▂▂▂▂▂▁▁▁▁</td></tr></table><br/></div><div class=\"wandb-col\"><h3>Run summary:</h3><br/><table class=\"wandb\"><tr><td>Accuracy</td><td>0.49708</td></tr><tr><td>Loss</td><td>0.36108</td></tr></table><br/></div></div>"
      ],
      "text/plain": [
       "<IPython.core.display.HTML object>"
      ]
     },
     "metadata": {},
     "output_type": "display_data"
    },
    {
     "data": {
      "text/html": [
       " View run <strong style=\"color:#cdcd00\">epoch:1000 lr:0.001</strong> at: <a href='https://wandb.ai/drbean/Logistic-regression/runs/8oiod7j6' target=\"_blank\">https://wandb.ai/drbean/Logistic-regression/runs/8oiod7j6</a><br/>Synced 5 W&B file(s), 0 media file(s), 0 artifact file(s) and 0 other file(s)"
      ],
      "text/plain": [
       "<IPython.core.display.HTML object>"
      ]
     },
     "metadata": {},
     "output_type": "display_data"
    },
    {
     "data": {
      "text/html": [
       "Find logs at: <code>./wandb/run-20231023_153211-8oiod7j6/logs</code>"
      ],
      "text/plain": [
       "<IPython.core.display.HTML object>"
      ]
     },
     "metadata": {},
     "output_type": "display_data"
    },
    {
     "data": {
      "text/html": [
       "wandb version 0.15.12 is available!  To upgrade, please run:\n",
       " $ pip install wandb --upgrade"
      ],
      "text/plain": [
       "<IPython.core.display.HTML object>"
      ]
     },
     "metadata": {},
     "output_type": "display_data"
    },
    {
     "data": {
      "text/html": [
       "Tracking run with wandb version 0.15.11"
      ],
      "text/plain": [
       "<IPython.core.display.HTML object>"
      ]
     },
     "metadata": {},
     "output_type": "display_data"
    },
    {
     "data": {
      "text/html": [
       "Run data is saved locally in <code>/home/amogha/smai/a3/wandb/run-20231023_153221-gnt4dlt0</code>"
      ],
      "text/plain": [
       "<IPython.core.display.HTML object>"
      ]
     },
     "metadata": {},
     "output_type": "display_data"
    },
    {
     "data": {
      "text/html": [
       "Syncing run <strong><a href='https://wandb.ai/drbean/Logistic-regression/runs/gnt4dlt0' target=\"_blank\">epoch:10000 lr:0.1</a></strong> to <a href='https://wandb.ai/drbean/Logistic-regression' target=\"_blank\">Weights & Biases</a> (<a href='https://wandb.me/run' target=\"_blank\">docs</a>)<br/>"
      ],
      "text/plain": [
       "<IPython.core.display.HTML object>"
      ]
     },
     "metadata": {},
     "output_type": "display_data"
    },
    {
     "data": {
      "text/html": [
       " View project at <a href='https://wandb.ai/drbean/Logistic-regression' target=\"_blank\">https://wandb.ai/drbean/Logistic-regression</a>"
      ],
      "text/plain": [
       "<IPython.core.display.HTML object>"
      ]
     },
     "metadata": {},
     "output_type": "display_data"
    },
    {
     "data": {
      "text/html": [
       " View run at <a href='https://wandb.ai/drbean/Logistic-regression/runs/gnt4dlt0' target=\"_blank\">https://wandb.ai/drbean/Logistic-regression/runs/gnt4dlt0</a>"
      ],
      "text/plain": [
       "<IPython.core.display.HTML object>"
      ]
     },
     "metadata": {},
     "output_type": "display_data"
    },
    {
     "name": "stdout",
     "output_type": "stream",
     "text": [
      "Number of Epochs: 10000 Learning Rate: 0.1\n",
      "Validation [Loss: 0.3364 Accuracy: 0.5322]\n",
      "Testset Classification Report: \n",
      "               precision    recall  f1-score   support\n",
      "\n",
      "           0       0.00      0.00      0.00         1\n",
      "           1       0.00      0.00      0.00         5\n",
      "           2       0.68      0.75      0.71        73\n",
      "           3       0.61      0.41      0.49        69\n",
      "           4       0.33      0.59      0.42        22\n",
      "           5       0.00      0.00      0.00         2\n",
      "\n",
      "    accuracy                           0.56       172\n",
      "   macro avg       0.27      0.29      0.27       172\n",
      "weighted avg       0.57      0.56      0.55       172\n",
      "\n"
     ]
    },
    {
     "data": {
      "text/html": [
       "Waiting for W&B process to finish... <strong style=\"color:green\">(success).</strong>"
      ],
      "text/plain": [
       "<IPython.core.display.HTML object>"
      ]
     },
     "metadata": {},
     "output_type": "display_data"
    },
    {
     "data": {
      "text/html": [
       "<style>\n",
       "    table.wandb td:nth-child(1) { padding: 0 10px; text-align: left ; width: auto;} td:nth-child(2) {text-align: left ; width: 100%}\n",
       "    .wandb-row { display: flex; flex-direction: row; flex-wrap: wrap; justify-content: flex-start; width: 100% }\n",
       "    .wandb-col { display: flex; flex-direction: column; flex-basis: 100%; flex: 1; padding: 10px; }\n",
       "    </style>\n",
       "<div class=\"wandb-row\"><div class=\"wandb-col\"><h3>Run history:</h3><br/><table class=\"wandb\"><tr><td>Accuracy</td><td>▁▆▇▆▆▆▇▇▇▇▇█████▇▇▇▇▇▇▇█████████████████</td></tr><tr><td>Loss</td><td>▁▃▄▄▅▅▆▆▆▇▇▇▇▇██████████████████████████</td></tr></table><br/></div><div class=\"wandb-col\"><h3>Run summary:</h3><br/><table class=\"wandb\"><tr><td>Accuracy</td><td>0.53216</td></tr><tr><td>Loss</td><td>0.33641</td></tr></table><br/></div></div>"
      ],
      "text/plain": [
       "<IPython.core.display.HTML object>"
      ]
     },
     "metadata": {},
     "output_type": "display_data"
    },
    {
     "data": {
      "text/html": [
       " View run <strong style=\"color:#cdcd00\">epoch:10000 lr:0.1</strong> at: <a href='https://wandb.ai/drbean/Logistic-regression/runs/gnt4dlt0' target=\"_blank\">https://wandb.ai/drbean/Logistic-regression/runs/gnt4dlt0</a><br/>Synced 5 W&B file(s), 0 media file(s), 0 artifact file(s) and 0 other file(s)"
      ],
      "text/plain": [
       "<IPython.core.display.HTML object>"
      ]
     },
     "metadata": {},
     "output_type": "display_data"
    },
    {
     "data": {
      "text/html": [
       "Find logs at: <code>./wandb/run-20231023_153221-gnt4dlt0/logs</code>"
      ],
      "text/plain": [
       "<IPython.core.display.HTML object>"
      ]
     },
     "metadata": {},
     "output_type": "display_data"
    },
    {
     "data": {
      "text/html": [
       "wandb version 0.15.12 is available!  To upgrade, please run:\n",
       " $ pip install wandb --upgrade"
      ],
      "text/plain": [
       "<IPython.core.display.HTML object>"
      ]
     },
     "metadata": {},
     "output_type": "display_data"
    },
    {
     "data": {
      "text/html": [
       "Tracking run with wandb version 0.15.11"
      ],
      "text/plain": [
       "<IPython.core.display.HTML object>"
      ]
     },
     "metadata": {},
     "output_type": "display_data"
    },
    {
     "data": {
      "text/html": [
       "Run data is saved locally in <code>/home/amogha/smai/a3/wandb/run-20231023_153243-51zuir77</code>"
      ],
      "text/plain": [
       "<IPython.core.display.HTML object>"
      ]
     },
     "metadata": {},
     "output_type": "display_data"
    },
    {
     "data": {
      "text/html": [
       "Syncing run <strong><a href='https://wandb.ai/drbean/Logistic-regression/runs/51zuir77' target=\"_blank\">epoch:10000 lr:0.01</a></strong> to <a href='https://wandb.ai/drbean/Logistic-regression' target=\"_blank\">Weights & Biases</a> (<a href='https://wandb.me/run' target=\"_blank\">docs</a>)<br/>"
      ],
      "text/plain": [
       "<IPython.core.display.HTML object>"
      ]
     },
     "metadata": {},
     "output_type": "display_data"
    },
    {
     "data": {
      "text/html": [
       " View project at <a href='https://wandb.ai/drbean/Logistic-regression' target=\"_blank\">https://wandb.ai/drbean/Logistic-regression</a>"
      ],
      "text/plain": [
       "<IPython.core.display.HTML object>"
      ]
     },
     "metadata": {},
     "output_type": "display_data"
    },
    {
     "data": {
      "text/html": [
       " View run at <a href='https://wandb.ai/drbean/Logistic-regression/runs/51zuir77' target=\"_blank\">https://wandb.ai/drbean/Logistic-regression/runs/51zuir77</a>"
      ],
      "text/plain": [
       "<IPython.core.display.HTML object>"
      ]
     },
     "metadata": {},
     "output_type": "display_data"
    },
    {
     "name": "stdout",
     "output_type": "stream",
     "text": [
      "Number of Epochs: 10000 Learning Rate: 0.01\n",
      "Validation [Loss: 0.3343 Accuracy: 0.5146]\n",
      "Testset Classification Report: \n",
      "               precision    recall  f1-score   support\n",
      "\n",
      "           0       0.00      0.00      0.00         1\n",
      "           1       0.00      0.00      0.00         5\n",
      "           2       0.69      0.78      0.73        73\n",
      "           3       0.62      0.42      0.50        69\n",
      "           4       0.32      0.55      0.41        22\n",
      "           5       0.00      0.00      0.00         2\n",
      "\n",
      "    accuracy                           0.57       172\n",
      "   macro avg       0.27      0.29      0.27       172\n",
      "weighted avg       0.58      0.57      0.56       172\n",
      "\n"
     ]
    },
    {
     "data": {
      "text/html": [
       "Waiting for W&B process to finish... <strong style=\"color:green\">(success).</strong>"
      ],
      "text/plain": [
       "<IPython.core.display.HTML object>"
      ]
     },
     "metadata": {},
     "output_type": "display_data"
    },
    {
     "data": {
      "text/html": [
       "<style>\n",
       "    table.wandb td:nth-child(1) { padding: 0 10px; text-align: left ; width: auto;} td:nth-child(2) {text-align: left ; width: 100%}\n",
       "    .wandb-row { display: flex; flex-direction: row; flex-wrap: wrap; justify-content: flex-start; width: 100% }\n",
       "    .wandb-col { display: flex; flex-direction: column; flex-basis: 100%; flex: 1; padding: 10px; }\n",
       "    </style>\n",
       "<div class=\"wandb-row\"><div class=\"wandb-col\"><h3>Run history:</h3><br/><table class=\"wandb\"><tr><td>Accuracy</td><td>▄▅▃▂▁▂▂▃▃▅▆▆▆▇▇▇████▇▇▇▇▇▇▇▇▇▆▆▆▆▆▆▆▆▆▆▆</td></tr><tr><td>Loss</td><td>█▄▂▁▁▁▁▁▁▁▁▁▂▂▂▂▂▂▂▂▂▂▂▂▂▂▂▂▂▂▂▂▂▂▂▂▂▂▂▂</td></tr></table><br/></div><div class=\"wandb-col\"><h3>Run summary:</h3><br/><table class=\"wandb\"><tr><td>Accuracy</td><td>0.51462</td></tr><tr><td>Loss</td><td>0.33427</td></tr></table><br/></div></div>"
      ],
      "text/plain": [
       "<IPython.core.display.HTML object>"
      ]
     },
     "metadata": {},
     "output_type": "display_data"
    },
    {
     "data": {
      "text/html": [
       " View run <strong style=\"color:#cdcd00\">epoch:10000 lr:0.01</strong> at: <a href='https://wandb.ai/drbean/Logistic-regression/runs/51zuir77' target=\"_blank\">https://wandb.ai/drbean/Logistic-regression/runs/51zuir77</a><br/>Synced 5 W&B file(s), 0 media file(s), 0 artifact file(s) and 0 other file(s)"
      ],
      "text/plain": [
       "<IPython.core.display.HTML object>"
      ]
     },
     "metadata": {},
     "output_type": "display_data"
    },
    {
     "data": {
      "text/html": [
       "Find logs at: <code>./wandb/run-20231023_153243-51zuir77/logs</code>"
      ],
      "text/plain": [
       "<IPython.core.display.HTML object>"
      ]
     },
     "metadata": {},
     "output_type": "display_data"
    },
    {
     "data": {
      "text/html": [
       "wandb version 0.15.12 is available!  To upgrade, please run:\n",
       " $ pip install wandb --upgrade"
      ],
      "text/plain": [
       "<IPython.core.display.HTML object>"
      ]
     },
     "metadata": {},
     "output_type": "display_data"
    },
    {
     "data": {
      "text/html": [
       "Tracking run with wandb version 0.15.11"
      ],
      "text/plain": [
       "<IPython.core.display.HTML object>"
      ]
     },
     "metadata": {},
     "output_type": "display_data"
    },
    {
     "data": {
      "text/html": [
       "Run data is saved locally in <code>/home/amogha/smai/a3/wandb/run-20231023_153306-9mdrnf6a</code>"
      ],
      "text/plain": [
       "<IPython.core.display.HTML object>"
      ]
     },
     "metadata": {},
     "output_type": "display_data"
    },
    {
     "data": {
      "text/html": [
       "Syncing run <strong><a href='https://wandb.ai/drbean/Logistic-regression/runs/9mdrnf6a' target=\"_blank\">epoch:10000 lr:0.001</a></strong> to <a href='https://wandb.ai/drbean/Logistic-regression' target=\"_blank\">Weights & Biases</a> (<a href='https://wandb.me/run' target=\"_blank\">docs</a>)<br/>"
      ],
      "text/plain": [
       "<IPython.core.display.HTML object>"
      ]
     },
     "metadata": {},
     "output_type": "display_data"
    },
    {
     "data": {
      "text/html": [
       " View project at <a href='https://wandb.ai/drbean/Logistic-regression' target=\"_blank\">https://wandb.ai/drbean/Logistic-regression</a>"
      ],
      "text/plain": [
       "<IPython.core.display.HTML object>"
      ]
     },
     "metadata": {},
     "output_type": "display_data"
    },
    {
     "data": {
      "text/html": [
       " View run at <a href='https://wandb.ai/drbean/Logistic-regression/runs/9mdrnf6a' target=\"_blank\">https://wandb.ai/drbean/Logistic-regression/runs/9mdrnf6a</a>"
      ],
      "text/plain": [
       "<IPython.core.display.HTML object>"
      ]
     },
     "metadata": {},
     "output_type": "display_data"
    },
    {
     "name": "stdout",
     "output_type": "stream",
     "text": [
      "Number of Epochs: 10000 Learning Rate: 0.001\n",
      "Validation [Loss: 0.3318 Accuracy: 0.4678]\n",
      "Testset Classification Report: \n",
      "               precision    recall  f1-score   support\n",
      "\n",
      "           0       0.00      0.00      0.00         1\n",
      "           1       0.17      0.20      0.18         5\n",
      "           2       0.70      0.78      0.74        73\n",
      "           3       0.76      0.42      0.54        69\n",
      "           4       0.36      0.77      0.49        22\n",
      "           5       0.00      0.00      0.00         2\n",
      "\n",
      "    accuracy                           0.60       172\n",
      "   macro avg       0.33      0.36      0.33       172\n",
      "weighted avg       0.66      0.60      0.60       172\n",
      "\n"
     ]
    },
    {
     "data": {
      "text/html": [
       "Waiting for W&B process to finish... <strong style=\"color:green\">(success).</strong>"
      ],
      "text/plain": [
       "<IPython.core.display.HTML object>"
      ]
     },
     "metadata": {},
     "output_type": "display_data"
    },
    {
     "data": {
      "text/html": [
       "<style>\n",
       "    table.wandb td:nth-child(1) { padding: 0 10px; text-align: left ; width: auto;} td:nth-child(2) {text-align: left ; width: 100%}\n",
       "    .wandb-row { display: flex; flex-direction: row; flex-wrap: wrap; justify-content: flex-start; width: 100% }\n",
       "    .wandb-col { display: flex; flex-direction: column; flex-basis: 100%; flex: 1; padding: 10px; }\n",
       "    </style>\n",
       "<div class=\"wandb-row\"><div class=\"wandb-col\"><h3>Run history:</h3><br/><table class=\"wandb\"><tr><td>Accuracy</td><td>██▆▆▆▆▆▆▆▇▇▆▆▆▆▅▅▅▅▅▅▅▅▅▅▅▄▃▃▃▃▂▂▁▁▁▁▁▁▁</td></tr><tr><td>Loss</td><td>██▇▆▅▅▄▄▃▃▃▃▂▂▂▂▂▂▂▁▁▁▁▁▁▁▁▁▁▁▁▁▁▁▁▁▁▁▁▁</td></tr></table><br/></div><div class=\"wandb-col\"><h3>Run summary:</h3><br/><table class=\"wandb\"><tr><td>Accuracy</td><td>0.46784</td></tr><tr><td>Loss</td><td>0.33175</td></tr></table><br/></div></div>"
      ],
      "text/plain": [
       "<IPython.core.display.HTML object>"
      ]
     },
     "metadata": {},
     "output_type": "display_data"
    },
    {
     "data": {
      "text/html": [
       " View run <strong style=\"color:#cdcd00\">epoch:10000 lr:0.001</strong> at: <a href='https://wandb.ai/drbean/Logistic-regression/runs/9mdrnf6a' target=\"_blank\">https://wandb.ai/drbean/Logistic-regression/runs/9mdrnf6a</a><br/>Synced 5 W&B file(s), 0 media file(s), 0 artifact file(s) and 0 other file(s)"
      ],
      "text/plain": [
       "<IPython.core.display.HTML object>"
      ]
     },
     "metadata": {},
     "output_type": "display_data"
    },
    {
     "data": {
      "text/html": [
       "Find logs at: <code>./wandb/run-20231023_153306-9mdrnf6a/logs</code>"
      ],
      "text/plain": [
       "<IPython.core.display.HTML object>"
      ]
     },
     "metadata": {},
     "output_type": "display_data"
    }
   ],
   "source": [
    "# Hyperparameter tuning using wandb\n",
    "learn_rate = [0.1, 0.01, 0.001]\n",
    "epochs = [100, 1000, 10000]\n",
    "\n",
    "for n_epoch in epochs:\n",
    "    for rate in learn_rate:\n",
    "        str = 'epoch:{} lr:{}'.format(n_epoch, rate)\n",
    "        wandb.init(project=\"Logistic-regression\", config={\"learning_rate\": rate, \"epochs\": n_epoch}, name=str)\n",
    "        # training data\n",
    "        model = LogistricRegression(n, num, attr, rate, n_epoch)\n",
    "        model.fit_wandb(x_train, y_train, x_valid, y_valid)\n",
    "        print('Number of Epochs: {} Learning Rate: {}'.format(n_epoch, rate))\n",
    "\n",
    "        # validation data\n",
    "        y_pred = model.predict(x_valid)\n",
    "        loss = model.cross_entropy_loss(y_valid, y_pred)\n",
    "        accuracy = model.accuracy(y_valid, y_pred)\n",
    "        print('Validation [Loss: {:.4f} Accuracy: {:.4f}]'.format(loss, accuracy))\n",
    "\n",
    "        # testing data\n",
    "        y_pred = model.predict(x_test)\n",
    "        report = classification_report(np.argmax(y_test, axis=1), np.argmax(y_pred, axis=1))\n",
    "        print('Testset Classification Report: \\n', report)\n",
    "        wandb.finish()"
   ]
  }
 ],
 "metadata": {
  "kernelspec": {
   "display_name": "Python 3",
   "language": "python",
   "name": "python3"
  },
  "language_info": {
   "codemirror_mode": {
    "name": "ipython",
    "version": 3
   },
   "file_extension": ".py",
   "mimetype": "text/x-python",
   "name": "python",
   "nbconvert_exporter": "python",
   "pygments_lexer": "ipython3",
   "version": "3.10.12"
  },
  "orig_nbformat": 4
 },
 "nbformat": 4,
 "nbformat_minor": 2
}
